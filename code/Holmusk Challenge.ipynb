{
 "cells": [
  {
   "cell_type": "markdown",
   "metadata": {},
   "source": [
    "# Holmusk Healthcare Dataset Challenge"
   ]
  },
  {
   "cell_type": "markdown",
   "metadata": {
    "ExecuteTime": {
     "end_time": "2020-01-17T08:58:04.660207Z",
     "start_time": "2020-01-17T08:58:04.657685Z"
    }
   },
   "source": [
    "## Problem Statement\n",
    "\n",
    "- To analyze the clinical and financial data of patients hospitalized for a certain condition"
   ]
  },
  {
   "cell_type": "markdown",
   "metadata": {
    "ExecuteTime": {
     "end_time": "2020-01-17T08:59:16.972094Z",
     "start_time": "2020-01-17T08:59:16.969255Z"
    }
   },
   "source": [
    "## Packages"
   ]
  },
  {
   "cell_type": "code",
   "execution_count": 1,
   "metadata": {
    "ExecuteTime": {
     "end_time": "2020-01-21T13:31:03.373504Z",
     "start_time": "2020-01-21T13:31:01.518189Z"
    }
   },
   "outputs": [
    {
     "ename": "ModuleNotFoundError",
     "evalue": "No module named 'xgboost'",
     "output_type": "error",
     "traceback": [
      "\u001b[0;31m---------------------------------------------------------------------------\u001b[0m",
      "\u001b[0;31mModuleNotFoundError\u001b[0m                       Traceback (most recent call last)",
      "\u001b[0;32m<ipython-input-1-6b76e6cc5f84>\u001b[0m in \u001b[0;36m<module>\u001b[0;34m\u001b[0m\n\u001b[1;32m     15\u001b[0m \u001b[0;32mfrom\u001b[0m \u001b[0msklearn\u001b[0m\u001b[0;34m.\u001b[0m\u001b[0mensemble\u001b[0m \u001b[0;32mimport\u001b[0m \u001b[0mRandomForestRegressor\u001b[0m\u001b[0;34m,\u001b[0m \u001b[0mGradientBoostingRegressor\u001b[0m\u001b[0;34m,\u001b[0m \u001b[0mAdaBoostRegressor\u001b[0m\u001b[0;34m\u001b[0m\u001b[0;34m\u001b[0m\u001b[0m\n\u001b[1;32m     16\u001b[0m \u001b[0;32mfrom\u001b[0m \u001b[0msklearn\u001b[0m\u001b[0;34m.\u001b[0m\u001b[0mpipeline\u001b[0m \u001b[0;32mimport\u001b[0m \u001b[0mPipeline\u001b[0m\u001b[0;34m\u001b[0m\u001b[0;34m\u001b[0m\u001b[0m\n\u001b[0;32m---> 17\u001b[0;31m \u001b[0;32mimport\u001b[0m \u001b[0mxgboost\u001b[0m \u001b[0;32mas\u001b[0m \u001b[0mxgb\u001b[0m\u001b[0;34m\u001b[0m\u001b[0;34m\u001b[0m\u001b[0m\n\u001b[0m",
      "\u001b[0;31mModuleNotFoundError\u001b[0m: No module named 'xgboost'"
     ]
    }
   ],
   "source": [
    "import numpy as np \n",
    "import scipy.stats as stats\n",
    "import matplotlib.pyplot as plt \n",
    "import seaborn as sns\n",
    "import math\n",
    "import datetime\n",
    "import pandas as pd\n",
    "# MODELLING\n",
    "from sklearn.linear_model import LinearRegression, LassoCV, RidgeCV, ElasticNet\n",
    "from sklearn.metrics import mean_squared_error\n",
    "from sklearn.model_selection import train_test_split, cross_val_score, cross_val_predict, GridSearchCV\n",
    "from sklearn.metrics import r2_score\n",
    "from statsmodels.stats.outliers_influence import variance_inflation_factor\n",
    "from sklearn.preprocessing import StandardScaler, PolynomialFeatures \n",
    "from sklearn.ensemble import RandomForestRegressor, GradientBoostingRegressor, AdaBoostRegressor\n",
    "from sklearn.pipeline import Pipeline\n",
    "import xgboost as xgb"
   ]
  },
  {
   "cell_type": "markdown",
   "metadata": {
    "ExecuteTime": {
     "end_time": "2020-01-17T09:00:38.568058Z",
     "start_time": "2020-01-17T09:00:38.565321Z"
    }
   },
   "source": [
    "## Datasets"
   ]
  },
  {
   "cell_type": "code",
   "execution_count": 2,
   "metadata": {
    "ExecuteTime": {
     "end_time": "2020-01-21T13:31:13.908802Z",
     "start_time": "2020-01-21T13:31:13.863391Z"
    }
   },
   "outputs": [],
   "source": [
    "clinic = pd.read_csv('../data/clinical_data.csv')\n",
    "demo = pd.read_csv('../data/demographics.csv')\n",
    "txn = pd.read_csv('../data/bill_id.csv')\n",
    "cost = pd.read_csv('../data/bill_amount.csv')"
   ]
  },
  {
   "cell_type": "markdown",
   "metadata": {
    "ExecuteTime": {
     "end_time": "2020-01-17T09:02:53.212995Z",
     "start_time": "2020-01-17T09:02:53.210482Z"
    }
   },
   "source": [
    "## Summaries of Datasets\n",
    "\n",
    "### Functions to aid reporting"
   ]
  },
  {
   "cell_type": "code",
   "execution_count": 3,
   "metadata": {
    "ExecuteTime": {
     "end_time": "2020-01-21T13:31:14.576651Z",
     "start_time": "2020-01-21T13:31:14.570855Z"
    }
   },
   "outputs": [],
   "source": [
    "def varsummary(df):\n",
    "    \"\"\"\n",
    "    Looks at the dataframe and looks at the data type of column, and then counts it.\n",
    "    It also adds \n",
    "    \n",
    "    Parameters\n",
    "    ---------\n",
    "    df: DataFrame\n",
    "    \n",
    "    Returns\n",
    "    -------\n",
    "    A count of numerical (int or float) and object type data columns in the dataframe\n",
    "    \"\"\"\n",
    "    \n",
    "    # creating numerical and object counter\n",
    "    numtype = 0\n",
    "    objtype = 0\n",
    "    \n",
    "    # iterate throught the dataframe columns\n",
    "    for x in list(df.columns):\n",
    "        \n",
    "        # finds out if the column type if object\n",
    "        if df[x].dtype == object: \n",
    "            \n",
    "            # adds to object counter\n",
    "            objtype += 1\n",
    "        \n",
    "        # finds out if the column type if numerical\n",
    "        elif df[x].dtype == int or df[x].dtype == float:\n",
    "            \n",
    "            # adds to numerical counter\n",
    "            numtype += 1\n",
    "        \n",
    "        # all others\n",
    "        else: \n",
    "            pass\n",
    "    \n",
    "    \n",
    "    print('Numerical type columns : ', numtype)\n",
    "    print('Object type columns : ', objtype)\n",
    "    print('Total columns : ', len(list(df.columns)))\n"
   ]
  },
  {
   "cell_type": "code",
   "execution_count": 4,
   "metadata": {
    "ExecuteTime": {
     "end_time": "2020-01-21T13:31:14.754757Z",
     "start_time": "2020-01-21T13:31:14.751062Z"
    }
   },
   "outputs": [],
   "source": [
    "def categoricalsummary(df):\n",
    "    \"\"\"\n",
    "    Looks at the categorical variables in the dataframe and finds the count of unique categories in the variable\n",
    "    \n",
    "    Parameters\n",
    "    ----------\n",
    "    df: DataFrame\n",
    "    \n",
    "    Returns\n",
    "    ------\n",
    "    A summary of unique variables and their counts in the column\n",
    "    \"\"\"\n",
    "    # iterate through the dataframe columns\n",
    "    for x in list(df.columns):\n",
    "        \n",
    "        # finds out if the column type is object\n",
    "        if df[x].dtype == object:\n",
    "            \n",
    "            # prints out the unique categories in the variables\n",
    "            print(x)\n",
    "            print(df[x].value_counts())\n",
    "            print('\\n')"
   ]
  },
  {
   "cell_type": "code",
   "execution_count": 5,
   "metadata": {
    "ExecuteTime": {
     "end_time": "2020-01-21T13:31:15.092417Z",
     "start_time": "2020-01-21T13:31:15.088504Z"
    }
   },
   "outputs": [],
   "source": [
    "def continuoussummary(df):\n",
    "    \"\"\"\n",
    "    Looks at all continuous variables and reports the numerical range of the variable\n",
    "    \n",
    "    Parameters\n",
    "    ---------\n",
    "    df: DataFrame\n",
    "    \n",
    "    Returns\n",
    "    -------\n",
    "    A summary of all continuous variables and their numerical range\n",
    "    \"\"\"\n",
    "    # iterates through the dataframe columns\n",
    "    for x in list(df.columns):\n",
    "        \n",
    "        # finds out if the column type is numerical\n",
    "        if df[x].dtype == int or df[x].dtype == float:\n",
    "            \n",
    "            # prints out the numerical range of variables\n",
    "            print(x)\n",
    "            print(df[x].agg(['min','mean','max']))\n",
    "            print('\\n')\n",
    "    "
   ]
  },
  {
   "cell_type": "markdown",
   "metadata": {
    "ExecuteTime": {
     "end_time": "2020-01-17T10:47:07.948336Z",
     "start_time": "2020-01-17T10:47:07.945729Z"
    }
   },
   "source": [
    "### clinic "
   ]
  },
  {
   "cell_type": "code",
   "execution_count": 6,
   "metadata": {
    "ExecuteTime": {
     "end_time": "2020-01-21T13:31:15.751990Z",
     "start_time": "2020-01-21T13:31:15.747302Z"
    },
    "scrolled": true
   },
   "outputs": [
    {
     "name": "stdout",
     "output_type": "stream",
     "text": [
      "Numerical type columns :  22\n",
      "Object type columns :  4\n",
      "Total columns :  26\n"
     ]
    }
   ],
   "source": [
    "# summary of overall types of data in the clinic\n",
    "varsummary(clinic)"
   ]
  },
  {
   "cell_type": "code",
   "execution_count": 7,
   "metadata": {
    "ExecuteTime": {
     "end_time": "2020-01-21T13:31:16.010618Z",
     "start_time": "2020-01-21T13:31:16.001901Z"
    },
    "scrolled": true
   },
   "outputs": [
    {
     "name": "stdout",
     "output_type": "stream",
     "text": [
      "<class 'pandas.core.frame.DataFrame'>\n",
      "RangeIndex: 3400 entries, 0 to 3399\n",
      "Data columns (total 26 columns):\n",
      "id                    3400 non-null object\n",
      "date_of_admission     3400 non-null object\n",
      "date_of_discharge     3400 non-null object\n",
      "medical_history_1     3400 non-null int64\n",
      "medical_history_2     3167 non-null float64\n",
      "medical_history_3     3400 non-null object\n",
      "medical_history_4     3400 non-null int64\n",
      "medical_history_5     3096 non-null float64\n",
      "medical_history_6     3400 non-null int64\n",
      "medical_history_7     3400 non-null int64\n",
      "preop_medication_1    3400 non-null int64\n",
      "preop_medication_2    3400 non-null int64\n",
      "preop_medication_3    3400 non-null int64\n",
      "preop_medication_4    3400 non-null int64\n",
      "preop_medication_5    3400 non-null int64\n",
      "preop_medication_6    3400 non-null int64\n",
      "symptom_1             3400 non-null int64\n",
      "symptom_2             3400 non-null int64\n",
      "symptom_3             3400 non-null int64\n",
      "symptom_4             3400 non-null int64\n",
      "symptom_5             3400 non-null int64\n",
      "lab_result_1          3400 non-null float64\n",
      "lab_result_2          3400 non-null float64\n",
      "lab_result_3          3400 non-null float64\n",
      "weight                3400 non-null float64\n",
      "height                3400 non-null float64\n",
      "dtypes: float64(7), int64(15), object(4)\n",
      "memory usage: 690.8+ KB\n"
     ]
    }
   ],
   "source": [
    "clinic.info()"
   ]
  },
  {
   "cell_type": "markdown",
   "metadata": {},
   "source": [
    "The clinic dataset (n= 3400) has 26 columns, of which there are 22 int or float columns, while the rest are object type. "
   ]
  },
  {
   "cell_type": "code",
   "execution_count": 8,
   "metadata": {
    "ExecuteTime": {
     "end_time": "2020-01-21T13:31:16.906221Z",
     "start_time": "2020-01-21T13:31:16.871086Z"
    },
    "scrolled": false
   },
   "outputs": [
    {
     "name": "stdout",
     "output_type": "stream",
     "text": [
      "medical_history_1\n",
      "min     0.000000\n",
      "mean    0.169118\n",
      "max     1.000000\n",
      "Name: medical_history_1, dtype: float64\n",
      "\n",
      "\n",
      "medical_history_2\n",
      "min     0.000000\n",
      "mean    0.311336\n",
      "max     1.000000\n",
      "Name: medical_history_2, dtype: float64\n",
      "\n",
      "\n",
      "medical_history_4\n",
      "min     0.000000\n",
      "mean    0.052059\n",
      "max     1.000000\n",
      "Name: medical_history_4, dtype: float64\n",
      "\n",
      "\n",
      "medical_history_5\n",
      "min     0.000000\n",
      "mean    0.063953\n",
      "max     1.000000\n",
      "Name: medical_history_5, dtype: float64\n",
      "\n",
      "\n",
      "medical_history_6\n",
      "min     0.000000\n",
      "mean    0.254706\n",
      "max     1.000000\n",
      "Name: medical_history_6, dtype: float64\n",
      "\n",
      "\n",
      "medical_history_7\n",
      "min     0.000000\n",
      "mean    0.254412\n",
      "max     1.000000\n",
      "Name: medical_history_7, dtype: float64\n",
      "\n",
      "\n",
      "preop_medication_1\n",
      "min     0.000000\n",
      "mean    0.503824\n",
      "max     1.000000\n",
      "Name: preop_medication_1, dtype: float64\n",
      "\n",
      "\n",
      "preop_medication_2\n",
      "min     0.000000\n",
      "mean    0.591176\n",
      "max     1.000000\n",
      "Name: preop_medication_2, dtype: float64\n",
      "\n",
      "\n",
      "preop_medication_3\n",
      "min     0.000000\n",
      "mean    0.820882\n",
      "max     1.000000\n",
      "Name: preop_medication_3, dtype: float64\n",
      "\n",
      "\n",
      "preop_medication_4\n",
      "min     0.000000\n",
      "mean    0.523235\n",
      "max     1.000000\n",
      "Name: preop_medication_4, dtype: float64\n",
      "\n",
      "\n",
      "preop_medication_5\n",
      "min     0.000000\n",
      "mean    0.819706\n",
      "max     1.000000\n",
      "Name: preop_medication_5, dtype: float64\n",
      "\n",
      "\n",
      "preop_medication_6\n",
      "min     0.000000\n",
      "mean    0.744118\n",
      "max     1.000000\n",
      "Name: preop_medication_6, dtype: float64\n",
      "\n",
      "\n",
      "symptom_1\n",
      "min     0.000000\n",
      "mean    0.619706\n",
      "max     1.000000\n",
      "Name: symptom_1, dtype: float64\n",
      "\n",
      "\n",
      "symptom_2\n",
      "min     0.000000\n",
      "mean    0.662353\n",
      "max     1.000000\n",
      "Name: symptom_2, dtype: float64\n",
      "\n",
      "\n",
      "symptom_3\n",
      "min     0.000000\n",
      "mean    0.544706\n",
      "max     1.000000\n",
      "Name: symptom_3, dtype: float64\n",
      "\n",
      "\n",
      "symptom_4\n",
      "min     0.000000\n",
      "mean    0.726471\n",
      "max     1.000000\n",
      "Name: symptom_4, dtype: float64\n",
      "\n",
      "\n",
      "symptom_5\n",
      "min     0.000000\n",
      "mean    0.526765\n",
      "max     1.000000\n",
      "Name: symptom_5, dtype: float64\n",
      "\n",
      "\n",
      "lab_result_1\n",
      "min      9.100000\n",
      "mean    14.469882\n",
      "max     20.300000\n",
      "Name: lab_result_1, dtype: float64\n",
      "\n",
      "\n",
      "lab_result_2\n",
      "min     19.700000\n",
      "mean    27.431529\n",
      "max     35.100000\n",
      "Name: lab_result_2, dtype: float64\n",
      "\n",
      "\n",
      "lab_result_3\n",
      "min      52.000000\n",
      "mean     99.489706\n",
      "max     150.000000\n",
      "Name: lab_result_3, dtype: float64\n",
      "\n",
      "\n",
      "weight\n",
      "min      48.000000\n",
      "mean     78.748441\n",
      "max     121.000000\n",
      "Name: weight, dtype: float64\n",
      "\n",
      "\n",
      "height\n",
      "min     151.000000\n",
      "mean    165.084412\n",
      "max     186.000000\n",
      "Name: height, dtype: float64\n",
      "\n",
      "\n"
     ]
    }
   ],
   "source": [
    "# summary of continuous variables in the clinic\n",
    "continuoussummary(clinic)"
   ]
  },
  {
   "cell_type": "code",
   "execution_count": 9,
   "metadata": {
    "ExecuteTime": {
     "end_time": "2020-01-21T13:31:17.121642Z",
     "start_time": "2020-01-21T13:31:17.060066Z"
    }
   },
   "outputs": [
    {
     "data": {
      "text/html": [
       "<div>\n",
       "<style scoped>\n",
       "    .dataframe tbody tr th:only-of-type {\n",
       "        vertical-align: middle;\n",
       "    }\n",
       "\n",
       "    .dataframe tbody tr th {\n",
       "        vertical-align: top;\n",
       "    }\n",
       "\n",
       "    .dataframe thead th {\n",
       "        text-align: right;\n",
       "    }\n",
       "</style>\n",
       "<table border=\"1\" class=\"dataframe\">\n",
       "  <thead>\n",
       "    <tr style=\"text-align: right;\">\n",
       "      <th></th>\n",
       "      <th>medical_history_1</th>\n",
       "      <th>medical_history_2</th>\n",
       "      <th>medical_history_4</th>\n",
       "      <th>medical_history_5</th>\n",
       "      <th>medical_history_6</th>\n",
       "      <th>medical_history_7</th>\n",
       "      <th>preop_medication_1</th>\n",
       "      <th>preop_medication_2</th>\n",
       "      <th>preop_medication_3</th>\n",
       "      <th>preop_medication_4</th>\n",
       "      <th>...</th>\n",
       "      <th>symptom_1</th>\n",
       "      <th>symptom_2</th>\n",
       "      <th>symptom_3</th>\n",
       "      <th>symptom_4</th>\n",
       "      <th>symptom_5</th>\n",
       "      <th>lab_result_1</th>\n",
       "      <th>lab_result_2</th>\n",
       "      <th>lab_result_3</th>\n",
       "      <th>weight</th>\n",
       "      <th>height</th>\n",
       "    </tr>\n",
       "  </thead>\n",
       "  <tbody>\n",
       "    <tr>\n",
       "      <td>count</td>\n",
       "      <td>3400.000000</td>\n",
       "      <td>3167.000000</td>\n",
       "      <td>3400.000000</td>\n",
       "      <td>3096.000000</td>\n",
       "      <td>3400.000000</td>\n",
       "      <td>3400.000000</td>\n",
       "      <td>3400.000000</td>\n",
       "      <td>3400.000000</td>\n",
       "      <td>3400.000000</td>\n",
       "      <td>3400.000000</td>\n",
       "      <td>...</td>\n",
       "      <td>3400.000000</td>\n",
       "      <td>3400.000000</td>\n",
       "      <td>3400.000000</td>\n",
       "      <td>3400.000000</td>\n",
       "      <td>3400.000000</td>\n",
       "      <td>3400.000000</td>\n",
       "      <td>3400.000000</td>\n",
       "      <td>3400.000000</td>\n",
       "      <td>3400.000000</td>\n",
       "      <td>3400.000000</td>\n",
       "    </tr>\n",
       "    <tr>\n",
       "      <td>mean</td>\n",
       "      <td>0.169118</td>\n",
       "      <td>0.311336</td>\n",
       "      <td>0.052059</td>\n",
       "      <td>0.063953</td>\n",
       "      <td>0.254706</td>\n",
       "      <td>0.254412</td>\n",
       "      <td>0.503824</td>\n",
       "      <td>0.591176</td>\n",
       "      <td>0.820882</td>\n",
       "      <td>0.523235</td>\n",
       "      <td>...</td>\n",
       "      <td>0.619706</td>\n",
       "      <td>0.662353</td>\n",
       "      <td>0.544706</td>\n",
       "      <td>0.726471</td>\n",
       "      <td>0.526765</td>\n",
       "      <td>14.469882</td>\n",
       "      <td>27.431529</td>\n",
       "      <td>99.489706</td>\n",
       "      <td>78.748441</td>\n",
       "      <td>165.084412</td>\n",
       "    </tr>\n",
       "    <tr>\n",
       "      <td>std</td>\n",
       "      <td>0.374911</td>\n",
       "      <td>0.463113</td>\n",
       "      <td>0.222178</td>\n",
       "      <td>0.244710</td>\n",
       "      <td>0.435760</td>\n",
       "      <td>0.435594</td>\n",
       "      <td>0.500059</td>\n",
       "      <td>0.491689</td>\n",
       "      <td>0.383507</td>\n",
       "      <td>0.499533</td>\n",
       "      <td>...</td>\n",
       "      <td>0.485530</td>\n",
       "      <td>0.472977</td>\n",
       "      <td>0.498071</td>\n",
       "      <td>0.445836</td>\n",
       "      <td>0.499357</td>\n",
       "      <td>1.747323</td>\n",
       "      <td>2.463844</td>\n",
       "      <td>15.254453</td>\n",
       "      <td>10.975076</td>\n",
       "      <td>6.973678</td>\n",
       "    </tr>\n",
       "    <tr>\n",
       "      <td>min</td>\n",
       "      <td>0.000000</td>\n",
       "      <td>0.000000</td>\n",
       "      <td>0.000000</td>\n",
       "      <td>0.000000</td>\n",
       "      <td>0.000000</td>\n",
       "      <td>0.000000</td>\n",
       "      <td>0.000000</td>\n",
       "      <td>0.000000</td>\n",
       "      <td>0.000000</td>\n",
       "      <td>0.000000</td>\n",
       "      <td>...</td>\n",
       "      <td>0.000000</td>\n",
       "      <td>0.000000</td>\n",
       "      <td>0.000000</td>\n",
       "      <td>0.000000</td>\n",
       "      <td>0.000000</td>\n",
       "      <td>9.100000</td>\n",
       "      <td>19.700000</td>\n",
       "      <td>52.000000</td>\n",
       "      <td>48.000000</td>\n",
       "      <td>151.000000</td>\n",
       "    </tr>\n",
       "    <tr>\n",
       "      <td>25%</td>\n",
       "      <td>0.000000</td>\n",
       "      <td>0.000000</td>\n",
       "      <td>0.000000</td>\n",
       "      <td>0.000000</td>\n",
       "      <td>0.000000</td>\n",
       "      <td>0.000000</td>\n",
       "      <td>0.000000</td>\n",
       "      <td>0.000000</td>\n",
       "      <td>1.000000</td>\n",
       "      <td>0.000000</td>\n",
       "      <td>...</td>\n",
       "      <td>0.000000</td>\n",
       "      <td>0.000000</td>\n",
       "      <td>0.000000</td>\n",
       "      <td>0.000000</td>\n",
       "      <td>0.000000</td>\n",
       "      <td>13.200000</td>\n",
       "      <td>25.800000</td>\n",
       "      <td>88.000000</td>\n",
       "      <td>71.200000</td>\n",
       "      <td>160.000000</td>\n",
       "    </tr>\n",
       "    <tr>\n",
       "      <td>50%</td>\n",
       "      <td>0.000000</td>\n",
       "      <td>0.000000</td>\n",
       "      <td>0.000000</td>\n",
       "      <td>0.000000</td>\n",
       "      <td>0.000000</td>\n",
       "      <td>0.000000</td>\n",
       "      <td>1.000000</td>\n",
       "      <td>1.000000</td>\n",
       "      <td>1.000000</td>\n",
       "      <td>1.000000</td>\n",
       "      <td>...</td>\n",
       "      <td>1.000000</td>\n",
       "      <td>1.000000</td>\n",
       "      <td>1.000000</td>\n",
       "      <td>1.000000</td>\n",
       "      <td>1.000000</td>\n",
       "      <td>14.500000</td>\n",
       "      <td>27.400000</td>\n",
       "      <td>100.000000</td>\n",
       "      <td>78.900000</td>\n",
       "      <td>165.000000</td>\n",
       "    </tr>\n",
       "    <tr>\n",
       "      <td>75%</td>\n",
       "      <td>0.000000</td>\n",
       "      <td>1.000000</td>\n",
       "      <td>0.000000</td>\n",
       "      <td>0.000000</td>\n",
       "      <td>1.000000</td>\n",
       "      <td>1.000000</td>\n",
       "      <td>1.000000</td>\n",
       "      <td>1.000000</td>\n",
       "      <td>1.000000</td>\n",
       "      <td>1.000000</td>\n",
       "      <td>...</td>\n",
       "      <td>1.000000</td>\n",
       "      <td>1.000000</td>\n",
       "      <td>1.000000</td>\n",
       "      <td>1.000000</td>\n",
       "      <td>1.000000</td>\n",
       "      <td>15.800000</td>\n",
       "      <td>29.100000</td>\n",
       "      <td>110.000000</td>\n",
       "      <td>86.300000</td>\n",
       "      <td>170.000000</td>\n",
       "    </tr>\n",
       "    <tr>\n",
       "      <td>max</td>\n",
       "      <td>1.000000</td>\n",
       "      <td>1.000000</td>\n",
       "      <td>1.000000</td>\n",
       "      <td>1.000000</td>\n",
       "      <td>1.000000</td>\n",
       "      <td>1.000000</td>\n",
       "      <td>1.000000</td>\n",
       "      <td>1.000000</td>\n",
       "      <td>1.000000</td>\n",
       "      <td>1.000000</td>\n",
       "      <td>...</td>\n",
       "      <td>1.000000</td>\n",
       "      <td>1.000000</td>\n",
       "      <td>1.000000</td>\n",
       "      <td>1.000000</td>\n",
       "      <td>1.000000</td>\n",
       "      <td>20.300000</td>\n",
       "      <td>35.100000</td>\n",
       "      <td>150.000000</td>\n",
       "      <td>121.000000</td>\n",
       "      <td>186.000000</td>\n",
       "    </tr>\n",
       "  </tbody>\n",
       "</table>\n",
       "<p>8 rows × 22 columns</p>\n",
       "</div>"
      ],
      "text/plain": [
       "       medical_history_1  medical_history_2  medical_history_4  \\\n",
       "count        3400.000000        3167.000000        3400.000000   \n",
       "mean            0.169118           0.311336           0.052059   \n",
       "std             0.374911           0.463113           0.222178   \n",
       "min             0.000000           0.000000           0.000000   \n",
       "25%             0.000000           0.000000           0.000000   \n",
       "50%             0.000000           0.000000           0.000000   \n",
       "75%             0.000000           1.000000           0.000000   \n",
       "max             1.000000           1.000000           1.000000   \n",
       "\n",
       "       medical_history_5  medical_history_6  medical_history_7  \\\n",
       "count        3096.000000        3400.000000        3400.000000   \n",
       "mean            0.063953           0.254706           0.254412   \n",
       "std             0.244710           0.435760           0.435594   \n",
       "min             0.000000           0.000000           0.000000   \n",
       "25%             0.000000           0.000000           0.000000   \n",
       "50%             0.000000           0.000000           0.000000   \n",
       "75%             0.000000           1.000000           1.000000   \n",
       "max             1.000000           1.000000           1.000000   \n",
       "\n",
       "       preop_medication_1  preop_medication_2  preop_medication_3  \\\n",
       "count         3400.000000         3400.000000         3400.000000   \n",
       "mean             0.503824            0.591176            0.820882   \n",
       "std              0.500059            0.491689            0.383507   \n",
       "min              0.000000            0.000000            0.000000   \n",
       "25%              0.000000            0.000000            1.000000   \n",
       "50%              1.000000            1.000000            1.000000   \n",
       "75%              1.000000            1.000000            1.000000   \n",
       "max              1.000000            1.000000            1.000000   \n",
       "\n",
       "       preop_medication_4  ...    symptom_1    symptom_2    symptom_3  \\\n",
       "count         3400.000000  ...  3400.000000  3400.000000  3400.000000   \n",
       "mean             0.523235  ...     0.619706     0.662353     0.544706   \n",
       "std              0.499533  ...     0.485530     0.472977     0.498071   \n",
       "min              0.000000  ...     0.000000     0.000000     0.000000   \n",
       "25%              0.000000  ...     0.000000     0.000000     0.000000   \n",
       "50%              1.000000  ...     1.000000     1.000000     1.000000   \n",
       "75%              1.000000  ...     1.000000     1.000000     1.000000   \n",
       "max              1.000000  ...     1.000000     1.000000     1.000000   \n",
       "\n",
       "         symptom_4    symptom_5  lab_result_1  lab_result_2  lab_result_3  \\\n",
       "count  3400.000000  3400.000000   3400.000000   3400.000000   3400.000000   \n",
       "mean      0.726471     0.526765     14.469882     27.431529     99.489706   \n",
       "std       0.445836     0.499357      1.747323      2.463844     15.254453   \n",
       "min       0.000000     0.000000      9.100000     19.700000     52.000000   \n",
       "25%       0.000000     0.000000     13.200000     25.800000     88.000000   \n",
       "50%       1.000000     1.000000     14.500000     27.400000    100.000000   \n",
       "75%       1.000000     1.000000     15.800000     29.100000    110.000000   \n",
       "max       1.000000     1.000000     20.300000     35.100000    150.000000   \n",
       "\n",
       "            weight       height  \n",
       "count  3400.000000  3400.000000  \n",
       "mean     78.748441   165.084412  \n",
       "std      10.975076     6.973678  \n",
       "min      48.000000   151.000000  \n",
       "25%      71.200000   160.000000  \n",
       "50%      78.900000   165.000000  \n",
       "75%      86.300000   170.000000  \n",
       "max     121.000000   186.000000  \n",
       "\n",
       "[8 rows x 22 columns]"
      ]
     },
     "execution_count": 9,
     "metadata": {},
     "output_type": "execute_result"
    }
   ],
   "source": [
    "clinic.describe()"
   ]
  },
  {
   "cell_type": "markdown",
   "metadata": {},
   "source": [
    "The dataframe show that the following variables - `medical_history_1`, `medical_history_2`, `medical_history_4`, `medical_history_5`, `medical_history_6`, `medical_history_7`, `preop_medication_1`, `preop_medication_2`, `preop_medication_3`, `preop_medication_4`, `preop_medication_5`, `preop_medication_6`, `symptom_1`, `symptom_2`, `symptom_3`, `symptom_4`, `symptom_5` - all show a high possibility of being a dummy coded variable as they only have 0 and 1 values."
   ]
  },
  {
   "cell_type": "code",
   "execution_count": 10,
   "metadata": {
    "ExecuteTime": {
     "end_time": "2020-01-21T13:31:17.603645Z",
     "start_time": "2020-01-21T13:31:17.588374Z"
    }
   },
   "outputs": [
    {
     "name": "stdout",
     "output_type": "stream",
     "text": [
      "id\n",
      "4e46fddfa404b306809c350aecbf0f6a    4\n",
      "af713a949eda293f348bf51a058e48a1    3\n",
      "8239986dfdf8f4e0bb351ace4742ef95    3\n",
      "64a531972193ccf232cc47597ddb85ed    3\n",
      "f01974d944d1c4b2c40753223fb979fa    3\n",
      "                                   ..\n",
      "3985cf3c9b80553e0bb1d71a3695e096    1\n",
      "1152a2db862ff814518e16254bbe85c0    1\n",
      "1cd81e8e42c4134ff903dc6d7c1c3e42    1\n",
      "66c9296e52ce4a9657073e4ee2b0131a    1\n",
      "b280aedb4d29baf12bccdd8cd156d5bb    1\n",
      "Name: id, Length: 3000, dtype: int64\n",
      "\n",
      "\n",
      "date_of_admission\n",
      "2014-05-24    9\n",
      "2012-06-26    7\n",
      "2014-05-21    7\n",
      "2015-08-21    7\n",
      "2012-10-22    7\n",
      "             ..\n",
      "2014-03-15    1\n",
      "2012-09-21    1\n",
      "2015-08-27    1\n",
      "2015-09-28    1\n",
      "2012-10-08    1\n",
      "Name: date_of_admission, Length: 1450, dtype: int64\n",
      "\n",
      "\n",
      "date_of_discharge\n",
      "2011-10-23    9\n",
      "2011-10-09    7\n",
      "2012-03-11    7\n",
      "2011-08-05    7\n",
      "2014-03-04    7\n",
      "             ..\n",
      "2011-03-30    1\n",
      "2011-09-03    1\n",
      "2011-12-04    1\n",
      "2012-04-10    1\n",
      "2011-05-05    1\n",
      "Name: date_of_discharge, Length: 1532, dtype: int64\n",
      "\n",
      "\n",
      "medical_history_3\n",
      "0      2176\n",
      "No      761\n",
      "1       348\n",
      "Yes     115\n",
      "Name: medical_history_3, dtype: int64\n",
      "\n",
      "\n"
     ]
    }
   ],
   "source": [
    "categoricalsummary(clinic)"
   ]
  },
  {
   "cell_type": "markdown",
   "metadata": {},
   "source": [
    "The clinic dataset also shows that there is a number of repeated rows of duplicated patient ids. Further investigation is needed to ascertain if it is duplicated records. "
   ]
  },
  {
   "cell_type": "markdown",
   "metadata": {},
   "source": [
    "### Demographic"
   ]
  },
  {
   "cell_type": "code",
   "execution_count": 11,
   "metadata": {
    "ExecuteTime": {
     "end_time": "2020-01-21T13:31:18.237335Z",
     "start_time": "2020-01-21T13:31:18.233502Z"
    }
   },
   "outputs": [
    {
     "name": "stdout",
     "output_type": "stream",
     "text": [
      "Numerical type columns :  0\n",
      "Object type columns :  5\n",
      "Total columns :  5\n"
     ]
    }
   ],
   "source": [
    "varsummary(demo)"
   ]
  },
  {
   "cell_type": "markdown",
   "metadata": {
    "ExecuteTime": {
     "end_time": "2020-01-18T17:32:23.281170Z",
     "start_time": "2020-01-18T17:32:23.275154Z"
    }
   },
   "source": [
    "The demographic dataset only consists of 5 object type columns. "
   ]
  },
  {
   "cell_type": "code",
   "execution_count": 12,
   "metadata": {
    "ExecuteTime": {
     "end_time": "2020-01-21T13:31:18.676371Z",
     "start_time": "2020-01-21T13:31:18.670137Z"
    }
   },
   "outputs": [
    {
     "name": "stdout",
     "output_type": "stream",
     "text": [
      "<class 'pandas.core.frame.DataFrame'>\n",
      "RangeIndex: 3000 entries, 0 to 2999\n",
      "Data columns (total 5 columns):\n",
      "patient_id         3000 non-null object\n",
      "gender             3000 non-null object\n",
      "race               3000 non-null object\n",
      "resident_status    3000 non-null object\n",
      "date_of_birth      3000 non-null object\n",
      "dtypes: object(5)\n",
      "memory usage: 117.3+ KB\n"
     ]
    }
   ],
   "source": [
    "demo.info()"
   ]
  },
  {
   "cell_type": "code",
   "execution_count": 13,
   "metadata": {
    "ExecuteTime": {
     "end_time": "2020-01-21T13:31:18.898035Z",
     "start_time": "2020-01-21T13:31:18.881716Z"
    }
   },
   "outputs": [
    {
     "name": "stdout",
     "output_type": "stream",
     "text": [
      "patient_id\n",
      "9212740c35f262016e6872060b9e7d9d    1\n",
      "5817499f483ba8944775e28630d1e2d9    1\n",
      "35f84b54e067b0b29326e43d933b92cc    1\n",
      "ce8a7b3f2e908df70eee331fa8a5d591    1\n",
      "96eb77b383f05ea0ccf95aeb181518bb    1\n",
      "                                   ..\n",
      "e460a7acf88f8bc9710797ed7d47241e    1\n",
      "da538cf31f069ce794ca52787c2db7a2    1\n",
      "1995a7c4934f26d449fdd58b12b0a30c    1\n",
      "3915494fa8c27e34ffea5f9ece8dad9a    1\n",
      "a1bb69b4ec9b42d812bc4161805203b9    1\n",
      "Name: patient_id, Length: 3000, dtype: int64\n",
      "\n",
      "\n",
      "gender\n",
      "Female    1396\n",
      "Male      1333\n",
      "m          170\n",
      "f          101\n",
      "Name: gender, dtype: int64\n",
      "\n",
      "\n",
      "race\n",
      "Chinese    1608\n",
      "Malay       629\n",
      "chinese     307\n",
      "Indian      195\n",
      "Others      161\n",
      "India       100\n",
      "Name: race, dtype: int64\n",
      "\n",
      "\n",
      "resident_status\n",
      "Singaporean          1782\n",
      "Singapore citizen     610\n",
      "PR                    465\n",
      "Foreigner             143\n",
      "Name: resident_status, dtype: int64\n",
      "\n",
      "\n",
      "date_of_birth\n",
      "1975-08-20    4\n",
      "1975-08-23    3\n",
      "1978-12-18    3\n",
      "1970-05-19    3\n",
      "1977-07-24    3\n",
      "             ..\n",
      "1938-01-04    1\n",
      "1944-12-14    1\n",
      "1969-03-16    1\n",
      "1950-04-25    1\n",
      "1975-06-03    1\n",
      "Name: date_of_birth, Length: 2746, dtype: int64\n",
      "\n",
      "\n"
     ]
    }
   ],
   "source": [
    "categoricalsummary(demo)"
   ]
  },
  {
   "cell_type": "markdown",
   "metadata": {},
   "source": [
    "The dataset (n=3000) shows that there are no repeated `patient_id` records. However, `gender`, `race` and `resident_status` all contain different entries for the same categories. Further cleaning is needed for those columns. "
   ]
  },
  {
   "cell_type": "markdown",
   "metadata": {},
   "source": [
    "### Transactions"
   ]
  },
  {
   "cell_type": "code",
   "execution_count": 14,
   "metadata": {
    "ExecuteTime": {
     "end_time": "2020-01-21T13:31:19.494461Z",
     "start_time": "2020-01-21T13:31:19.490650Z"
    }
   },
   "outputs": [
    {
     "name": "stdout",
     "output_type": "stream",
     "text": [
      "Numerical type columns :  1\n",
      "Object type columns :  2\n",
      "Total columns :  3\n"
     ]
    }
   ],
   "source": [
    "varsummary(txn)"
   ]
  },
  {
   "cell_type": "code",
   "execution_count": 15,
   "metadata": {
    "ExecuteTime": {
     "end_time": "2020-01-21T13:31:19.713363Z",
     "start_time": "2020-01-21T13:31:19.706797Z"
    }
   },
   "outputs": [
    {
     "name": "stdout",
     "output_type": "stream",
     "text": [
      "<class 'pandas.core.frame.DataFrame'>\n",
      "RangeIndex: 13600 entries, 0 to 13599\n",
      "Data columns (total 3 columns):\n",
      "bill_id              13600 non-null int64\n",
      "patient_id           13600 non-null object\n",
      "date_of_admission    13600 non-null object\n",
      "dtypes: int64(1), object(2)\n",
      "memory usage: 318.9+ KB\n"
     ]
    }
   ],
   "source": [
    "txn.info()"
   ]
  },
  {
   "cell_type": "markdown",
   "metadata": {},
   "source": [
    "The dataset (n = 13600) shows that there  are 2 object type columns and 1 numerical type column."
   ]
  },
  {
   "cell_type": "code",
   "execution_count": 16,
   "metadata": {
    "ExecuteTime": {
     "end_time": "2020-01-21T13:31:20.131205Z",
     "start_time": "2020-01-21T13:31:20.126595Z"
    }
   },
   "outputs": [
    {
     "name": "stdout",
     "output_type": "stream",
     "text": [
      "bill_id\n",
      "min     5.584120e+05\n",
      "mean    5.007147e+09\n",
      "max     9.999633e+09\n",
      "Name: bill_id, dtype: float64\n",
      "\n",
      "\n"
     ]
    }
   ],
   "source": [
    "continuoussummary(txn)"
   ]
  },
  {
   "cell_type": "code",
   "execution_count": 17,
   "metadata": {
    "ExecuteTime": {
     "end_time": "2020-01-21T13:31:20.367917Z",
     "start_time": "2020-01-21T13:31:20.355766Z"
    }
   },
   "outputs": [
    {
     "name": "stdout",
     "output_type": "stream",
     "text": [
      "patient_id\n",
      "4e46fddfa404b306809c350aecbf0f6a    16\n",
      "e3270f450ee164e596ca933a25bab61d    12\n",
      "d15ec3b278e42b36e7362ac783643685    12\n",
      "8239986dfdf8f4e0bb351ace4742ef95    12\n",
      "cebd42e84733dae9898687cfb750fbaf    12\n",
      "                                    ..\n",
      "0fec4d861ee094f3a0a27de2755d0ced     4\n",
      "d3ceb2df50721c9db49d5d781bccc0fd     4\n",
      "e24cd040a66d4b7bed7e0aabeed2d059     4\n",
      "83689409b9aca7187463ae39d3f8f5a7     4\n",
      "edb7df367fecf41af4fc406b79f23749     4\n",
      "Name: patient_id, Length: 3000, dtype: int64\n",
      "\n",
      "\n",
      "date_of_admission\n",
      "2014-05-24    36\n",
      "2012-10-14    28\n",
      "2012-10-22    28\n",
      "2015-08-21    28\n",
      "2011-01-18    28\n",
      "              ..\n",
      "2012-09-21     4\n",
      "2015-08-27     4\n",
      "2015-09-28     4\n",
      "2011-08-16     4\n",
      "2012-09-09     4\n",
      "Name: date_of_admission, Length: 1450, dtype: int64\n",
      "\n",
      "\n"
     ]
    }
   ],
   "source": [
    "categoricalsummary(txn)"
   ]
  },
  {
   "cell_type": "markdown",
   "metadata": {},
   "source": [
    "The transaction dataset show that the `patient_id` column contains repeated ids, which might indicate that a patient might pay more than once during the treatment. In addition, the `bill_id` was mistakenly indicated as numerical type data instead of an object type data."
   ]
  },
  {
   "cell_type": "markdown",
   "metadata": {},
   "source": [
    "### Cost"
   ]
  },
  {
   "cell_type": "code",
   "execution_count": 18,
   "metadata": {
    "ExecuteTime": {
     "end_time": "2020-01-21T13:31:20.986875Z",
     "start_time": "2020-01-21T13:31:20.982967Z"
    }
   },
   "outputs": [
    {
     "name": "stdout",
     "output_type": "stream",
     "text": [
      "Numerical type columns :  2\n",
      "Object type columns :  0\n",
      "Total columns :  2\n"
     ]
    }
   ],
   "source": [
    "varsummary(cost)"
   ]
  },
  {
   "cell_type": "code",
   "execution_count": 19,
   "metadata": {
    "ExecuteTime": {
     "end_time": "2020-01-21T13:31:21.211588Z",
     "start_time": "2020-01-21T13:31:21.205457Z"
    }
   },
   "outputs": [
    {
     "name": "stdout",
     "output_type": "stream",
     "text": [
      "<class 'pandas.core.frame.DataFrame'>\n",
      "RangeIndex: 13600 entries, 0 to 13599\n",
      "Data columns (total 2 columns):\n",
      "bill_id    13600 non-null int64\n",
      "amount     13600 non-null float64\n",
      "dtypes: float64(1), int64(1)\n",
      "memory usage: 212.6 KB\n"
     ]
    }
   ],
   "source": [
    "cost.info()"
   ]
  },
  {
   "cell_type": "code",
   "execution_count": 20,
   "metadata": {
    "ExecuteTime": {
     "end_time": "2020-01-21T13:31:21.413610Z",
     "start_time": "2020-01-21T13:31:21.406718Z"
    }
   },
   "outputs": [
    {
     "name": "stdout",
     "output_type": "stream",
     "text": [
      "bill_id\n",
      "min     5.584120e+05\n",
      "mean    5.007147e+09\n",
      "max     9.999633e+09\n",
      "Name: bill_id, dtype: float64\n",
      "\n",
      "\n",
      "amount\n",
      "min        79.496707\n",
      "mean     5464.767783\n",
      "max     81849.751340\n",
      "Name: amount, dtype: float64\n",
      "\n",
      "\n"
     ]
    }
   ],
   "source": [
    "continuoussummary(cost)"
   ]
  },
  {
   "cell_type": "markdown",
   "metadata": {},
   "source": [
    "The cost dataset (n=13600) contains two float type columns. However, the `bill_id` is shown to be incorrectly classified as a numerical type data, though there is no numerical relationship between the id and result. "
   ]
  },
  {
   "cell_type": "markdown",
   "metadata": {
    "ExecuteTime": {
     "end_time": "2020-01-18T17:49:20.323221Z",
     "start_time": "2020-01-18T17:49:20.320665Z"
    }
   },
   "source": [
    "## Solving for errors"
   ]
  },
  {
   "cell_type": "markdown",
   "metadata": {
    "ExecuteTime": {
     "end_time": "2020-01-18T17:49:40.740232Z",
     "start_time": "2020-01-18T17:49:40.737807Z"
    }
   },
   "source": [
    "### Missing data\n",
    "\n",
    "#### Finding missing data"
   ]
  },
  {
   "cell_type": "code",
   "execution_count": 21,
   "metadata": {
    "ExecuteTime": {
     "end_time": "2020-01-21T13:31:22.320517Z",
     "start_time": "2020-01-21T13:31:22.211172Z"
    },
    "scrolled": false
   },
   "outputs": [
    {
     "name": "stdout",
     "output_type": "stream",
     "text": [
      "id\n",
      "False    3400\n",
      "Name: id, dtype: int64\n",
      "0\n",
      "\n",
      "\n",
      "date_of_admission\n",
      "False    3400\n",
      "Name: date_of_admission, dtype: int64\n",
      "0\n",
      "\n",
      "\n",
      "date_of_discharge\n",
      "False    3400\n",
      "Name: date_of_discharge, dtype: int64\n",
      "0\n",
      "\n",
      "\n",
      "medical_history_1\n",
      "False    3400\n",
      "Name: medical_history_1, dtype: int64\n",
      "0\n",
      "\n",
      "\n",
      "medical_history_2\n",
      "False    3167\n",
      "True      233\n",
      "Name: medical_history_2, dtype: int64\n",
      "0\n",
      "\n",
      "\n",
      "medical_history_3\n",
      "False    3400\n",
      "Name: medical_history_3, dtype: int64\n",
      "0\n",
      "\n",
      "\n",
      "medical_history_4\n",
      "False    3400\n",
      "Name: medical_history_4, dtype: int64\n",
      "0\n",
      "\n",
      "\n",
      "medical_history_5\n",
      "False    3096\n",
      "True      304\n",
      "Name: medical_history_5, dtype: int64\n",
      "0\n",
      "\n",
      "\n",
      "medical_history_6\n",
      "False    3400\n",
      "Name: medical_history_6, dtype: int64\n",
      "0\n",
      "\n",
      "\n",
      "medical_history_7\n",
      "False    3400\n",
      "Name: medical_history_7, dtype: int64\n",
      "0\n",
      "\n",
      "\n",
      "preop_medication_1\n",
      "False    3400\n",
      "Name: preop_medication_1, dtype: int64\n",
      "0\n",
      "\n",
      "\n",
      "preop_medication_2\n",
      "False    3400\n",
      "Name: preop_medication_2, dtype: int64\n",
      "0\n",
      "\n",
      "\n",
      "preop_medication_3\n",
      "False    3400\n",
      "Name: preop_medication_3, dtype: int64\n",
      "0\n",
      "\n",
      "\n",
      "preop_medication_4\n",
      "False    3400\n",
      "Name: preop_medication_4, dtype: int64\n",
      "0\n",
      "\n",
      "\n",
      "preop_medication_5\n",
      "False    3400\n",
      "Name: preop_medication_5, dtype: int64\n",
      "0\n",
      "\n",
      "\n",
      "preop_medication_6\n",
      "False    3400\n",
      "Name: preop_medication_6, dtype: int64\n",
      "0\n",
      "\n",
      "\n",
      "symptom_1\n",
      "False    3400\n",
      "Name: symptom_1, dtype: int64\n",
      "0\n",
      "\n",
      "\n",
      "symptom_2\n",
      "False    3400\n",
      "Name: symptom_2, dtype: int64\n",
      "0\n",
      "\n",
      "\n",
      "symptom_3\n",
      "False    3400\n",
      "Name: symptom_3, dtype: int64\n",
      "0\n",
      "\n",
      "\n",
      "symptom_4\n",
      "False    3400\n",
      "Name: symptom_4, dtype: int64\n",
      "0\n",
      "\n",
      "\n",
      "symptom_5\n",
      "False    3400\n",
      "Name: symptom_5, dtype: int64\n",
      "0\n",
      "\n",
      "\n",
      "lab_result_1\n",
      "False    3400\n",
      "Name: lab_result_1, dtype: int64\n",
      "0\n",
      "\n",
      "\n",
      "lab_result_2\n",
      "False    3400\n",
      "Name: lab_result_2, dtype: int64\n",
      "0\n",
      "\n",
      "\n",
      "lab_result_3\n",
      "False    3400\n",
      "Name: lab_result_3, dtype: int64\n",
      "0\n",
      "\n",
      "\n",
      "weight\n",
      "False    3400\n",
      "Name: weight, dtype: int64\n",
      "0\n",
      "\n",
      "\n",
      "height\n",
      "False    3400\n",
      "Name: height, dtype: int64\n",
      "0\n",
      "\n",
      "\n"
     ]
    },
    {
     "name": "stderr",
     "output_type": "stream",
     "text": [
      "/Users/ongzhongliang/anaconda3/lib/python3.7/site-packages/pandas/core/ops/__init__.py:1115: FutureWarning: elementwise comparison failed; returning scalar instead, but in the future will perform elementwise comparison\n",
      "  result = method(y)\n"
     ]
    }
   ],
   "source": [
    "#finding for missing data\n",
    "for x in list(clinic.columns):\n",
    "    print(x)\n",
    "    print(clinic[x].isnull().value_counts())\n",
    "    print(clinic[clinic[x] == '']['id'].count())\n",
    "    print('\\n')"
   ]
  },
  {
   "cell_type": "markdown",
   "metadata": {},
   "source": [
    "The clinic dataframe shows that there are 233 missing values in `medical_history_2` and 304 in `medical_history_5`."
   ]
  },
  {
   "cell_type": "code",
   "execution_count": 22,
   "metadata": {
    "ExecuteTime": {
     "end_time": "2020-01-21T13:31:22.630191Z",
     "start_time": "2020-01-21T13:31:22.613754Z"
    }
   },
   "outputs": [
    {
     "name": "stdout",
     "output_type": "stream",
     "text": [
      "bill_id\n",
      "False    13600\n",
      "Name: bill_id, dtype: int64\n",
      "0\n",
      "\n",
      "\n",
      "patient_id\n",
      "False    13600\n",
      "Name: patient_id, dtype: int64\n",
      "0\n",
      "\n",
      "\n",
      "date_of_admission\n",
      "False    13600\n",
      "Name: date_of_admission, dtype: int64\n",
      "0\n",
      "\n",
      "\n"
     ]
    }
   ],
   "source": [
    "for x in list(txn.columns):\n",
    "    print(x)\n",
    "    print(txn[x].isnull().value_counts())\n",
    "    print(txn[txn[x] == '']['bill_id'].count())\n",
    "    print('\\n')"
   ]
  },
  {
   "cell_type": "markdown",
   "metadata": {
    "ExecuteTime": {
     "end_time": "2020-01-20T03:48:56.636154Z",
     "start_time": "2020-01-20T03:48:56.632384Z"
    }
   },
   "source": [
    "The txn dataset shows that there are no missing values."
   ]
  },
  {
   "cell_type": "code",
   "execution_count": 23,
   "metadata": {
    "ExecuteTime": {
     "end_time": "2020-01-21T13:31:29.114945Z",
     "start_time": "2020-01-21T13:31:29.099116Z"
    }
   },
   "outputs": [
    {
     "name": "stdout",
     "output_type": "stream",
     "text": [
      "patient_id\n",
      "False    3000\n",
      "Name: patient_id, dtype: int64\n",
      "0\n",
      "\n",
      "\n",
      "gender\n",
      "False    3000\n",
      "Name: gender, dtype: int64\n",
      "0\n",
      "\n",
      "\n",
      "race\n",
      "False    3000\n",
      "Name: race, dtype: int64\n",
      "0\n",
      "\n",
      "\n",
      "resident_status\n",
      "False    3000\n",
      "Name: resident_status, dtype: int64\n",
      "0\n",
      "\n",
      "\n",
      "date_of_birth\n",
      "False    3000\n",
      "Name: date_of_birth, dtype: int64\n",
      "0\n",
      "\n",
      "\n"
     ]
    }
   ],
   "source": [
    "for x in list(demo.columns):\n",
    "    print(x)\n",
    "    print(demo[x].isnull().value_counts())\n",
    "    print(demo[demo[x] == '']['patient_id'].count())\n",
    "    print('\\n')"
   ]
  },
  {
   "cell_type": "markdown",
   "metadata": {},
   "source": [
    "The demographic dataset shows that there are no missing values. "
   ]
  },
  {
   "cell_type": "code",
   "execution_count": 24,
   "metadata": {
    "ExecuteTime": {
     "end_time": "2020-01-21T13:31:29.939768Z",
     "start_time": "2020-01-21T13:31:29.928984Z"
    }
   },
   "outputs": [
    {
     "name": "stdout",
     "output_type": "stream",
     "text": [
      "bill_id\n",
      "False    13600\n",
      "Name: bill_id, dtype: int64\n",
      "0\n",
      "\n",
      "\n",
      "amount\n",
      "False    13600\n",
      "Name: amount, dtype: int64\n",
      "0\n",
      "\n",
      "\n"
     ]
    }
   ],
   "source": [
    "for x in list(cost.columns):\n",
    "    print(x)\n",
    "    print(cost[x].isnull().value_counts())\n",
    "    print(cost[cost[x] == '']['bill_id'].count())\n",
    "    print('\\n')"
   ]
  },
  {
   "cell_type": "markdown",
   "metadata": {
    "ExecuteTime": {
     "end_time": "2020-01-20T03:49:56.836687Z",
     "start_time": "2020-01-20T03:49:56.832675Z"
    }
   },
   "source": [
    "The cost dataset shows that there are no missing values."
   ]
  },
  {
   "cell_type": "markdown",
   "metadata": {
    "ExecuteTime": {
     "end_time": "2020-01-20T04:08:55.710985Z",
     "start_time": "2020-01-20T04:08:55.708050Z"
    }
   },
   "source": [
    "#### Dealing with missing data"
   ]
  },
  {
   "cell_type": "code",
   "execution_count": 25,
   "metadata": {
    "ExecuteTime": {
     "end_time": "2020-01-21T13:31:30.807002Z",
     "start_time": "2020-01-21T13:31:30.772043Z"
    }
   },
   "outputs": [
    {
     "data": {
      "text/html": [
       "<div>\n",
       "<style scoped>\n",
       "    .dataframe tbody tr th:only-of-type {\n",
       "        vertical-align: middle;\n",
       "    }\n",
       "\n",
       "    .dataframe tbody tr th {\n",
       "        vertical-align: top;\n",
       "    }\n",
       "\n",
       "    .dataframe thead th {\n",
       "        text-align: right;\n",
       "    }\n",
       "</style>\n",
       "<table border=\"1\" class=\"dataframe\">\n",
       "  <thead>\n",
       "    <tr style=\"text-align: right;\">\n",
       "      <th></th>\n",
       "      <th>id</th>\n",
       "      <th>date_of_admission</th>\n",
       "      <th>date_of_discharge</th>\n",
       "      <th>medical_history_1</th>\n",
       "      <th>medical_history_2</th>\n",
       "      <th>medical_history_3</th>\n",
       "      <th>medical_history_4</th>\n",
       "      <th>medical_history_5</th>\n",
       "      <th>medical_history_6</th>\n",
       "      <th>medical_history_7</th>\n",
       "      <th>...</th>\n",
       "      <th>symptom_1</th>\n",
       "      <th>symptom_2</th>\n",
       "      <th>symptom_3</th>\n",
       "      <th>symptom_4</th>\n",
       "      <th>symptom_5</th>\n",
       "      <th>lab_result_1</th>\n",
       "      <th>lab_result_2</th>\n",
       "      <th>lab_result_3</th>\n",
       "      <th>weight</th>\n",
       "      <th>height</th>\n",
       "    </tr>\n",
       "  </thead>\n",
       "  <tbody>\n",
       "    <tr>\n",
       "      <td>5</td>\n",
       "      <td>59e07adc2dbc5f70131f57d003610d74</td>\n",
       "      <td>2011-01-07</td>\n",
       "      <td>2011-01-17</td>\n",
       "      <td>0</td>\n",
       "      <td>NaN</td>\n",
       "      <td>No</td>\n",
       "      <td>0</td>\n",
       "      <td>NaN</td>\n",
       "      <td>0</td>\n",
       "      <td>0</td>\n",
       "      <td>...</td>\n",
       "      <td>1</td>\n",
       "      <td>0</td>\n",
       "      <td>1</td>\n",
       "      <td>1</td>\n",
       "      <td>1</td>\n",
       "      <td>15.8</td>\n",
       "      <td>31.0</td>\n",
       "      <td>75.0</td>\n",
       "      <td>78.8</td>\n",
       "      <td>169.0</td>\n",
       "    </tr>\n",
       "    <tr>\n",
       "      <td>10</td>\n",
       "      <td>d45fcf3bec63ae3b436be42fad33b9e0</td>\n",
       "      <td>2011-01-12</td>\n",
       "      <td>2011-01-18</td>\n",
       "      <td>1</td>\n",
       "      <td>NaN</td>\n",
       "      <td>No</td>\n",
       "      <td>1</td>\n",
       "      <td>0.0</td>\n",
       "      <td>0</td>\n",
       "      <td>0</td>\n",
       "      <td>...</td>\n",
       "      <td>1</td>\n",
       "      <td>1</td>\n",
       "      <td>0</td>\n",
       "      <td>1</td>\n",
       "      <td>0</td>\n",
       "      <td>17.0</td>\n",
       "      <td>27.7</td>\n",
       "      <td>116.0</td>\n",
       "      <td>91.6</td>\n",
       "      <td>169.0</td>\n",
       "    </tr>\n",
       "    <tr>\n",
       "      <td>14</td>\n",
       "      <td>c59af905597b9be72420bbdbdad2ce42</td>\n",
       "      <td>2011-01-10</td>\n",
       "      <td>2011-01-22</td>\n",
       "      <td>0</td>\n",
       "      <td>NaN</td>\n",
       "      <td>0</td>\n",
       "      <td>0</td>\n",
       "      <td>NaN</td>\n",
       "      <td>0</td>\n",
       "      <td>0</td>\n",
       "      <td>...</td>\n",
       "      <td>1</td>\n",
       "      <td>1</td>\n",
       "      <td>1</td>\n",
       "      <td>1</td>\n",
       "      <td>0</td>\n",
       "      <td>15.6</td>\n",
       "      <td>30.9</td>\n",
       "      <td>87.0</td>\n",
       "      <td>71.1</td>\n",
       "      <td>177.0</td>\n",
       "    </tr>\n",
       "    <tr>\n",
       "      <td>20</td>\n",
       "      <td>7ce28b0d1309e0a2a74e38747ebd3f6c</td>\n",
       "      <td>2011-01-11</td>\n",
       "      <td>2011-01-25</td>\n",
       "      <td>0</td>\n",
       "      <td>NaN</td>\n",
       "      <td>No</td>\n",
       "      <td>0</td>\n",
       "      <td>0.0</td>\n",
       "      <td>1</td>\n",
       "      <td>0</td>\n",
       "      <td>...</td>\n",
       "      <td>0</td>\n",
       "      <td>0</td>\n",
       "      <td>0</td>\n",
       "      <td>0</td>\n",
       "      <td>1</td>\n",
       "      <td>14.0</td>\n",
       "      <td>31.3</td>\n",
       "      <td>123.0</td>\n",
       "      <td>88.0</td>\n",
       "      <td>151.0</td>\n",
       "    </tr>\n",
       "    <tr>\n",
       "      <td>22</td>\n",
       "      <td>c9809bb40710a9079848f06d47ef980b</td>\n",
       "      <td>2011-01-14</td>\n",
       "      <td>2011-01-25</td>\n",
       "      <td>0</td>\n",
       "      <td>NaN</td>\n",
       "      <td>1</td>\n",
       "      <td>0</td>\n",
       "      <td>0.0</td>\n",
       "      <td>0</td>\n",
       "      <td>0</td>\n",
       "      <td>...</td>\n",
       "      <td>0</td>\n",
       "      <td>1</td>\n",
       "      <td>1</td>\n",
       "      <td>1</td>\n",
       "      <td>1</td>\n",
       "      <td>15.2</td>\n",
       "      <td>25.2</td>\n",
       "      <td>70.0</td>\n",
       "      <td>79.1</td>\n",
       "      <td>167.0</td>\n",
       "    </tr>\n",
       "    <tr>\n",
       "      <td>...</td>\n",
       "      <td>...</td>\n",
       "      <td>...</td>\n",
       "      <td>...</td>\n",
       "      <td>...</td>\n",
       "      <td>...</td>\n",
       "      <td>...</td>\n",
       "      <td>...</td>\n",
       "      <td>...</td>\n",
       "      <td>...</td>\n",
       "      <td>...</td>\n",
       "      <td>...</td>\n",
       "      <td>...</td>\n",
       "      <td>...</td>\n",
       "      <td>...</td>\n",
       "      <td>...</td>\n",
       "      <td>...</td>\n",
       "      <td>...</td>\n",
       "      <td>...</td>\n",
       "      <td>...</td>\n",
       "      <td>...</td>\n",
       "      <td>...</td>\n",
       "    </tr>\n",
       "    <tr>\n",
       "      <td>3385</td>\n",
       "      <td>be9f6767432045cd1a0d71b6afbd015a</td>\n",
       "      <td>2015-12-16</td>\n",
       "      <td>2015-12-28</td>\n",
       "      <td>0</td>\n",
       "      <td>0.0</td>\n",
       "      <td>1</td>\n",
       "      <td>0</td>\n",
       "      <td>NaN</td>\n",
       "      <td>0</td>\n",
       "      <td>0</td>\n",
       "      <td>...</td>\n",
       "      <td>0</td>\n",
       "      <td>1</td>\n",
       "      <td>0</td>\n",
       "      <td>1</td>\n",
       "      <td>0</td>\n",
       "      <td>14.7</td>\n",
       "      <td>27.1</td>\n",
       "      <td>94.0</td>\n",
       "      <td>70.4</td>\n",
       "      <td>151.0</td>\n",
       "    </tr>\n",
       "    <tr>\n",
       "      <td>3386</td>\n",
       "      <td>228e27d883c5bd9af820add27c253d53</td>\n",
       "      <td>2015-12-24</td>\n",
       "      <td>2015-12-30</td>\n",
       "      <td>0</td>\n",
       "      <td>NaN</td>\n",
       "      <td>No</td>\n",
       "      <td>0</td>\n",
       "      <td>0.0</td>\n",
       "      <td>1</td>\n",
       "      <td>0</td>\n",
       "      <td>...</td>\n",
       "      <td>1</td>\n",
       "      <td>1</td>\n",
       "      <td>0</td>\n",
       "      <td>1</td>\n",
       "      <td>0</td>\n",
       "      <td>12.4</td>\n",
       "      <td>25.8</td>\n",
       "      <td>87.0</td>\n",
       "      <td>80.3</td>\n",
       "      <td>162.0</td>\n",
       "    </tr>\n",
       "    <tr>\n",
       "      <td>3388</td>\n",
       "      <td>336bfb12d416ddf4a2475bb00b318cf1</td>\n",
       "      <td>2015-12-19</td>\n",
       "      <td>2016-01-01</td>\n",
       "      <td>0</td>\n",
       "      <td>NaN</td>\n",
       "      <td>0</td>\n",
       "      <td>0</td>\n",
       "      <td>0.0</td>\n",
       "      <td>0</td>\n",
       "      <td>1</td>\n",
       "      <td>...</td>\n",
       "      <td>0</td>\n",
       "      <td>0</td>\n",
       "      <td>0</td>\n",
       "      <td>1</td>\n",
       "      <td>0</td>\n",
       "      <td>12.9</td>\n",
       "      <td>28.1</td>\n",
       "      <td>98.0</td>\n",
       "      <td>92.9</td>\n",
       "      <td>151.0</td>\n",
       "    </tr>\n",
       "    <tr>\n",
       "      <td>3398</td>\n",
       "      <td>5189c62dfb8e6075b5c7fd4766671bd4</td>\n",
       "      <td>2015-12-26</td>\n",
       "      <td>2016-01-09</td>\n",
       "      <td>0</td>\n",
       "      <td>1.0</td>\n",
       "      <td>0</td>\n",
       "      <td>0</td>\n",
       "      <td>NaN</td>\n",
       "      <td>0</td>\n",
       "      <td>0</td>\n",
       "      <td>...</td>\n",
       "      <td>0</td>\n",
       "      <td>1</td>\n",
       "      <td>0</td>\n",
       "      <td>1</td>\n",
       "      <td>0</td>\n",
       "      <td>16.9</td>\n",
       "      <td>25.6</td>\n",
       "      <td>92.0</td>\n",
       "      <td>87.3</td>\n",
       "      <td>156.0</td>\n",
       "    </tr>\n",
       "    <tr>\n",
       "      <td>3399</td>\n",
       "      <td>a4c61deaa9ce86b4d2289eab6128b872</td>\n",
       "      <td>2015-12-28</td>\n",
       "      <td>2016-01-11</td>\n",
       "      <td>0</td>\n",
       "      <td>NaN</td>\n",
       "      <td>1</td>\n",
       "      <td>0</td>\n",
       "      <td>0.0</td>\n",
       "      <td>0</td>\n",
       "      <td>0</td>\n",
       "      <td>...</td>\n",
       "      <td>1</td>\n",
       "      <td>1</td>\n",
       "      <td>1</td>\n",
       "      <td>0</td>\n",
       "      <td>0</td>\n",
       "      <td>17.8</td>\n",
       "      <td>25.8</td>\n",
       "      <td>78.0</td>\n",
       "      <td>82.9</td>\n",
       "      <td>164.0</td>\n",
       "    </tr>\n",
       "  </tbody>\n",
       "</table>\n",
       "<p>502 rows × 26 columns</p>\n",
       "</div>"
      ],
      "text/plain": [
       "                                    id date_of_admission date_of_discharge  \\\n",
       "5     59e07adc2dbc5f70131f57d003610d74        2011-01-07        2011-01-17   \n",
       "10    d45fcf3bec63ae3b436be42fad33b9e0        2011-01-12        2011-01-18   \n",
       "14    c59af905597b9be72420bbdbdad2ce42        2011-01-10        2011-01-22   \n",
       "20    7ce28b0d1309e0a2a74e38747ebd3f6c        2011-01-11        2011-01-25   \n",
       "22    c9809bb40710a9079848f06d47ef980b        2011-01-14        2011-01-25   \n",
       "...                                ...               ...               ...   \n",
       "3385  be9f6767432045cd1a0d71b6afbd015a        2015-12-16        2015-12-28   \n",
       "3386  228e27d883c5bd9af820add27c253d53        2015-12-24        2015-12-30   \n",
       "3388  336bfb12d416ddf4a2475bb00b318cf1        2015-12-19        2016-01-01   \n",
       "3398  5189c62dfb8e6075b5c7fd4766671bd4        2015-12-26        2016-01-09   \n",
       "3399  a4c61deaa9ce86b4d2289eab6128b872        2015-12-28        2016-01-11   \n",
       "\n",
       "      medical_history_1  medical_history_2 medical_history_3  \\\n",
       "5                     0                NaN                No   \n",
       "10                    1                NaN                No   \n",
       "14                    0                NaN                 0   \n",
       "20                    0                NaN                No   \n",
       "22                    0                NaN                 1   \n",
       "...                 ...                ...               ...   \n",
       "3385                  0                0.0                 1   \n",
       "3386                  0                NaN                No   \n",
       "3388                  0                NaN                 0   \n",
       "3398                  0                1.0                 0   \n",
       "3399                  0                NaN                 1   \n",
       "\n",
       "      medical_history_4  medical_history_5  medical_history_6  \\\n",
       "5                     0                NaN                  0   \n",
       "10                    1                0.0                  0   \n",
       "14                    0                NaN                  0   \n",
       "20                    0                0.0                  1   \n",
       "22                    0                0.0                  0   \n",
       "...                 ...                ...                ...   \n",
       "3385                  0                NaN                  0   \n",
       "3386                  0                0.0                  1   \n",
       "3388                  0                0.0                  0   \n",
       "3398                  0                NaN                  0   \n",
       "3399                  0                0.0                  0   \n",
       "\n",
       "      medical_history_7  ...  symptom_1  symptom_2  symptom_3  symptom_4  \\\n",
       "5                     0  ...          1          0          1          1   \n",
       "10                    0  ...          1          1          0          1   \n",
       "14                    0  ...          1          1          1          1   \n",
       "20                    0  ...          0          0          0          0   \n",
       "22                    0  ...          0          1          1          1   \n",
       "...                 ...  ...        ...        ...        ...        ...   \n",
       "3385                  0  ...          0          1          0          1   \n",
       "3386                  0  ...          1          1          0          1   \n",
       "3388                  1  ...          0          0          0          1   \n",
       "3398                  0  ...          0          1          0          1   \n",
       "3399                  0  ...          1          1          1          0   \n",
       "\n",
       "      symptom_5  lab_result_1  lab_result_2  lab_result_3  weight  height  \n",
       "5             1          15.8          31.0          75.0    78.8   169.0  \n",
       "10            0          17.0          27.7         116.0    91.6   169.0  \n",
       "14            0          15.6          30.9          87.0    71.1   177.0  \n",
       "20            1          14.0          31.3         123.0    88.0   151.0  \n",
       "22            1          15.2          25.2          70.0    79.1   167.0  \n",
       "...         ...           ...           ...           ...     ...     ...  \n",
       "3385          0          14.7          27.1          94.0    70.4   151.0  \n",
       "3386          0          12.4          25.8          87.0    80.3   162.0  \n",
       "3388          0          12.9          28.1          98.0    92.9   151.0  \n",
       "3398          0          16.9          25.6          92.0    87.3   156.0  \n",
       "3399          0          17.8          25.8          78.0    82.9   164.0  \n",
       "\n",
       "[502 rows x 26 columns]"
      ]
     },
     "execution_count": 25,
     "metadata": {},
     "output_type": "execute_result"
    }
   ],
   "source": [
    "clinic[clinic.isnull().any(axis = 1)]"
   ]
  },
  {
   "cell_type": "markdown",
   "metadata": {
    "ExecuteTime": {
     "end_time": "2020-01-20T05:45:34.582655Z",
     "start_time": "2020-01-20T05:45:34.549960Z"
    }
   },
   "source": [
    "Missing data will be dropped as any form of imputation might influence prediction models later. Though making an additional category is possible, but it might trend towards the missing value category. "
   ]
  },
  {
   "cell_type": "markdown",
   "metadata": {
    "ExecuteTime": {
     "end_time": "2020-01-20T06:04:24.536592Z",
     "start_time": "2020-01-20T06:04:24.534042Z"
    }
   },
   "source": [
    "### Changing misentries"
   ]
  },
  {
   "cell_type": "markdown",
   "metadata": {
    "ExecuteTime": {
     "end_time": "2020-01-20T06:06:27.467557Z",
     "start_time": "2020-01-20T06:06:27.464161Z"
    }
   },
   "source": [
    "#### Clinic: medical_history_3\n",
    "\n",
    "As `medical_history_3` showed additional categories that were not converted to binary categories, the variable was recoded."
   ]
  },
  {
   "cell_type": "code",
   "execution_count": 26,
   "metadata": {
    "ExecuteTime": {
     "end_time": "2020-01-21T13:31:31.467080Z",
     "start_time": "2020-01-21T13:31:31.462478Z"
    }
   },
   "outputs": [],
   "source": [
    "clinic['medical_history_3'] = clinic.medical_history_3.map({'No': 0, '0': 0, '1': 1, 'Yes': 1})"
   ]
  },
  {
   "cell_type": "code",
   "execution_count": 27,
   "metadata": {
    "ExecuteTime": {
     "end_time": "2020-01-21T13:31:31.670049Z",
     "start_time": "2020-01-21T13:31:31.664077Z"
    }
   },
   "outputs": [
    {
     "data": {
      "text/plain": [
       "0    2937\n",
       "1     463\n",
       "Name: medical_history_3, dtype: int64"
      ]
     },
     "execution_count": 27,
     "metadata": {},
     "output_type": "execute_result"
    }
   ],
   "source": [
    "clinic['medical_history_3'].value_counts()"
   ]
  },
  {
   "cell_type": "markdown",
   "metadata": {
    "ExecuteTime": {
     "end_time": "2020-01-20T11:00:31.178977Z",
     "start_time": "2020-01-20T11:00:31.170226Z"
    }
   },
   "source": [
    "#### Demographic: race"
   ]
  },
  {
   "cell_type": "markdown",
   "metadata": {},
   "source": [
    "As `race` showed additional categories that were duplicated categories, the variable was recoded."
   ]
  },
  {
   "cell_type": "code",
   "execution_count": 28,
   "metadata": {
    "ExecuteTime": {
     "end_time": "2020-01-21T13:31:32.496691Z",
     "start_time": "2020-01-21T13:31:32.490345Z"
    }
   },
   "outputs": [
    {
     "data": {
      "text/plain": [
       "Chinese    1608\n",
       "Malay       629\n",
       "chinese     307\n",
       "Indian      195\n",
       "Others      161\n",
       "India       100\n",
       "Name: race, dtype: int64"
      ]
     },
     "execution_count": 28,
     "metadata": {},
     "output_type": "execute_result"
    }
   ],
   "source": [
    "demo.race.value_counts()"
   ]
  },
  {
   "cell_type": "code",
   "execution_count": 29,
   "metadata": {
    "ExecuteTime": {
     "end_time": "2020-01-21T13:31:32.752004Z",
     "start_time": "2020-01-21T13:31:32.747410Z"
    }
   },
   "outputs": [],
   "source": [
    "demo['race'] = demo['race'].map({\n",
    "    'Chinese': 'Chinese',\n",
    "    'Malay': 'Malay',\n",
    "    'chinese': 'Chinese',\n",
    "    'Indian': 'Indian',\n",
    "    'Others': 'Others', \n",
    "    'India': 'Indian'\n",
    "})"
   ]
  },
  {
   "cell_type": "code",
   "execution_count": 30,
   "metadata": {
    "ExecuteTime": {
     "end_time": "2020-01-21T13:31:33.004972Z",
     "start_time": "2020-01-21T13:31:32.998722Z"
    }
   },
   "outputs": [
    {
     "data": {
      "text/plain": [
       "Chinese    1915\n",
       "Malay       629\n",
       "Indian      295\n",
       "Others      161\n",
       "Name: race, dtype: int64"
      ]
     },
     "execution_count": 30,
     "metadata": {},
     "output_type": "execute_result"
    }
   ],
   "source": [
    "demo.race.value_counts()"
   ]
  },
  {
   "cell_type": "markdown",
   "metadata": {
    "ExecuteTime": {
     "end_time": "2020-01-20T11:00:37.040929Z",
     "start_time": "2020-01-20T11:00:37.038496Z"
    }
   },
   "source": [
    "#### Demographic: gender"
   ]
  },
  {
   "cell_type": "markdown",
   "metadata": {},
   "source": [
    "Similarly, the `gender` column shows duplicated categories and thus was recoded."
   ]
  },
  {
   "cell_type": "code",
   "execution_count": 32,
   "metadata": {
    "ExecuteTime": {
     "end_time": "2020-01-21T13:31:45.797084Z",
     "start_time": "2020-01-21T13:31:45.791029Z"
    }
   },
   "outputs": [
    {
     "data": {
      "text/plain": [
       "Female    1396\n",
       "Male      1333\n",
       "m          170\n",
       "f          101\n",
       "Name: gender, dtype: int64"
      ]
     },
     "execution_count": 32,
     "metadata": {},
     "output_type": "execute_result"
    }
   ],
   "source": [
    "demo['gender'].value_counts()"
   ]
  },
  {
   "cell_type": "code",
   "execution_count": 33,
   "metadata": {
    "ExecuteTime": {
     "end_time": "2020-01-21T13:31:45.803764Z",
     "start_time": "2020-01-21T13:31:45.799178Z"
    }
   },
   "outputs": [],
   "source": [
    "demo['gender'] = demo['gender'].map({\n",
    "    'Female': 'Female',\n",
    "    'Male': 'Male',\n",
    "    'm': 'Male',\n",
    "    'f': 'Female'\n",
    "})"
   ]
  },
  {
   "cell_type": "code",
   "execution_count": 34,
   "metadata": {
    "ExecuteTime": {
     "end_time": "2020-01-21T13:31:45.812945Z",
     "start_time": "2020-01-21T13:31:45.806357Z"
    }
   },
   "outputs": [
    {
     "data": {
      "text/plain": [
       "Male      1503\n",
       "Female    1497\n",
       "Name: gender, dtype: int64"
      ]
     },
     "execution_count": 34,
     "metadata": {},
     "output_type": "execute_result"
    }
   ],
   "source": [
    "demo['gender'].value_counts()"
   ]
  },
  {
   "cell_type": "markdown",
   "metadata": {},
   "source": [
    "#### Demographic: resident status"
   ]
  },
  {
   "cell_type": "markdown",
   "metadata": {},
   "source": [
    "The `resident_status` shows duplicated category for 'singaporean' and thus recoded."
   ]
  },
  {
   "cell_type": "code",
   "execution_count": 35,
   "metadata": {
    "ExecuteTime": {
     "end_time": "2020-01-21T13:31:45.821463Z",
     "start_time": "2020-01-21T13:31:45.814897Z"
    }
   },
   "outputs": [
    {
     "data": {
      "text/plain": [
       "Singaporean          1782\n",
       "Singapore citizen     610\n",
       "PR                    465\n",
       "Foreigner             143\n",
       "Name: resident_status, dtype: int64"
      ]
     },
     "execution_count": 35,
     "metadata": {},
     "output_type": "execute_result"
    }
   ],
   "source": [
    "demo['resident_status'].value_counts()"
   ]
  },
  {
   "cell_type": "code",
   "execution_count": 36,
   "metadata": {
    "ExecuteTime": {
     "end_time": "2020-01-21T13:31:45.828015Z",
     "start_time": "2020-01-21T13:31:45.823420Z"
    }
   },
   "outputs": [],
   "source": [
    "demo['resident_status'] = demo['resident_status'].map({\n",
    "    'Singaporean': 'Singaporean',\n",
    "    'Singapore citizen': 'Singaporean',\n",
    "    'PR': 'PR',\n",
    "    'Foreigner': 'Foreigner'\n",
    "})"
   ]
  },
  {
   "cell_type": "code",
   "execution_count": 37,
   "metadata": {
    "ExecuteTime": {
     "end_time": "2020-01-21T13:31:45.836653Z",
     "start_time": "2020-01-21T13:31:45.830354Z"
    }
   },
   "outputs": [
    {
     "data": {
      "text/plain": [
       "Singaporean    2392\n",
       "PR              465\n",
       "Foreigner       143\n",
       "Name: resident_status, dtype: int64"
      ]
     },
     "execution_count": 37,
     "metadata": {},
     "output_type": "execute_result"
    }
   ],
   "source": [
    "demo['resident_status'].value_counts()"
   ]
  },
  {
   "cell_type": "markdown",
   "metadata": {},
   "source": [
    "### Changing data type of dates"
   ]
  },
  {
   "cell_type": "markdown",
   "metadata": {},
   "source": [
    "Date columns datatype was changed to datetime type."
   ]
  },
  {
   "cell_type": "code",
   "execution_count": 38,
   "metadata": {
    "ExecuteTime": {
     "end_time": "2020-01-21T13:31:45.846702Z",
     "start_time": "2020-01-21T13:31:45.838984Z"
    }
   },
   "outputs": [],
   "source": [
    "clinic['date_of_admission'] = pd.to_datetime(clinic['date_of_admission'], format = '%Y-%m-%d')"
   ]
  },
  {
   "cell_type": "code",
   "execution_count": 39,
   "metadata": {
    "ExecuteTime": {
     "end_time": "2020-01-21T13:31:45.854640Z",
     "start_time": "2020-01-21T13:31:45.848392Z"
    }
   },
   "outputs": [],
   "source": [
    "clinic['date_of_discharge'] = pd.to_datetime(clinic['date_of_discharge'], format = '%Y-%m-%d')"
   ]
  },
  {
   "cell_type": "code",
   "execution_count": 40,
   "metadata": {
    "ExecuteTime": {
     "end_time": "2020-01-21T13:31:45.863628Z",
     "start_time": "2020-01-21T13:31:45.856577Z"
    }
   },
   "outputs": [],
   "source": [
    "txn['date_of_admission'] = pd.to_datetime(txn['date_of_admission'], format = '%Y-%m-%d')"
   ]
  },
  {
   "cell_type": "code",
   "execution_count": 41,
   "metadata": {
    "ExecuteTime": {
     "end_time": "2020-01-21T13:31:45.870864Z",
     "start_time": "2020-01-21T13:31:45.865295Z"
    }
   },
   "outputs": [],
   "source": [
    "demo['date_of_birth'] = pd.to_datetime(demo['date_of_birth'], format = '%Y-%m-%d')"
   ]
  },
  {
   "cell_type": "markdown",
   "metadata": {},
   "source": [
    "## Joining datasets"
   ]
  },
  {
   "cell_type": "markdown",
   "metadata": {},
   "source": [
    "### Billing join"
   ]
  },
  {
   "cell_type": "markdown",
   "metadata": {},
   "source": [
    "Transaction dataset was joined to cost dataset to make a billing dataset which contain the cost of each transaction. "
   ]
  },
  {
   "cell_type": "code",
   "execution_count": 42,
   "metadata": {
    "ExecuteTime": {
     "end_time": "2020-01-21T13:31:45.886197Z",
     "start_time": "2020-01-21T13:31:45.872650Z"
    }
   },
   "outputs": [
    {
     "data": {
      "text/html": [
       "<div>\n",
       "<style scoped>\n",
       "    .dataframe tbody tr th:only-of-type {\n",
       "        vertical-align: middle;\n",
       "    }\n",
       "\n",
       "    .dataframe tbody tr th {\n",
       "        vertical-align: top;\n",
       "    }\n",
       "\n",
       "    .dataframe thead th {\n",
       "        text-align: right;\n",
       "    }\n",
       "</style>\n",
       "<table border=\"1\" class=\"dataframe\">\n",
       "  <thead>\n",
       "    <tr style=\"text-align: right;\">\n",
       "      <th></th>\n",
       "      <th>bill_id</th>\n",
       "      <th>patient_id</th>\n",
       "      <th>date_of_admission</th>\n",
       "    </tr>\n",
       "  </thead>\n",
       "  <tbody>\n",
       "    <tr>\n",
       "      <td>5851</td>\n",
       "      <td>558412</td>\n",
       "      <td>54c00a685cd49f4ed59a389657af655b</td>\n",
       "      <td>2013-02-23</td>\n",
       "    </tr>\n",
       "    <tr>\n",
       "      <td>7862</td>\n",
       "      <td>1219378</td>\n",
       "      <td>a135b44a73f9e99424a91edc846185de</td>\n",
       "      <td>2013-11-28</td>\n",
       "    </tr>\n",
       "    <tr>\n",
       "      <td>10700</td>\n",
       "      <td>3568195</td>\n",
       "      <td>4a8da205ade786dd74c316c39dcbe99f</td>\n",
       "      <td>2014-12-12</td>\n",
       "    </tr>\n",
       "    <tr>\n",
       "      <td>3106</td>\n",
       "      <td>3722123</td>\n",
       "      <td>277ad90d43a1289b0bf22f9795c5c706</td>\n",
       "      <td>2012-02-16</td>\n",
       "    </tr>\n",
       "    <tr>\n",
       "      <td>5206</td>\n",
       "      <td>4477075</td>\n",
       "      <td>a54070aa18ab3579495a157364f70a39</td>\n",
       "      <td>2012-12-03</td>\n",
       "    </tr>\n",
       "    <tr>\n",
       "      <td>...</td>\n",
       "      <td>...</td>\n",
       "      <td>...</td>\n",
       "      <td>...</td>\n",
       "    </tr>\n",
       "    <tr>\n",
       "      <td>7969</td>\n",
       "      <td>9994260912</td>\n",
       "      <td>215d86748264161be1c3bac0c82c15ef</td>\n",
       "      <td>2013-12-13</td>\n",
       "    </tr>\n",
       "    <tr>\n",
       "      <td>5172</td>\n",
       "      <td>9994410882</td>\n",
       "      <td>d26ce03a1420aa91d6e93a4256cad97c</td>\n",
       "      <td>2012-11-28</td>\n",
       "    </tr>\n",
       "    <tr>\n",
       "      <td>10958</td>\n",
       "      <td>9996337893</td>\n",
       "      <td>b7e7395d2621e75bef6b1a0c92cd99cd</td>\n",
       "      <td>2015-01-17</td>\n",
       "    </tr>\n",
       "    <tr>\n",
       "      <td>12036</td>\n",
       "      <td>9999037175</td>\n",
       "      <td>97f1811ff07527b24f25e3a6cd82cde9</td>\n",
       "      <td>2015-06-10</td>\n",
       "    </tr>\n",
       "    <tr>\n",
       "      <td>9411</td>\n",
       "      <td>9999633378</td>\n",
       "      <td>258807316af4b45fda1b05668d557d06</td>\n",
       "      <td>2014-06-09</td>\n",
       "    </tr>\n",
       "  </tbody>\n",
       "</table>\n",
       "<p>13600 rows × 3 columns</p>\n",
       "</div>"
      ],
      "text/plain": [
       "          bill_id                        patient_id date_of_admission\n",
       "5851       558412  54c00a685cd49f4ed59a389657af655b        2013-02-23\n",
       "7862      1219378  a135b44a73f9e99424a91edc846185de        2013-11-28\n",
       "10700     3568195  4a8da205ade786dd74c316c39dcbe99f        2014-12-12\n",
       "3106      3722123  277ad90d43a1289b0bf22f9795c5c706        2012-02-16\n",
       "5206      4477075  a54070aa18ab3579495a157364f70a39        2012-12-03\n",
       "...           ...                               ...               ...\n",
       "7969   9994260912  215d86748264161be1c3bac0c82c15ef        2013-12-13\n",
       "5172   9994410882  d26ce03a1420aa91d6e93a4256cad97c        2012-11-28\n",
       "10958  9996337893  b7e7395d2621e75bef6b1a0c92cd99cd        2015-01-17\n",
       "12036  9999037175  97f1811ff07527b24f25e3a6cd82cde9        2015-06-10\n",
       "9411   9999633378  258807316af4b45fda1b05668d557d06        2014-06-09\n",
       "\n",
       "[13600 rows x 3 columns]"
      ]
     },
     "execution_count": 42,
     "metadata": {},
     "output_type": "execute_result"
    }
   ],
   "source": [
    "txn.sort_values(by = 'bill_id')"
   ]
  },
  {
   "cell_type": "code",
   "execution_count": 43,
   "metadata": {
    "ExecuteTime": {
     "end_time": "2020-01-21T13:31:45.898888Z",
     "start_time": "2020-01-21T13:31:45.887766Z"
    }
   },
   "outputs": [
    {
     "data": {
      "text/html": [
       "<div>\n",
       "<style scoped>\n",
       "    .dataframe tbody tr th:only-of-type {\n",
       "        vertical-align: middle;\n",
       "    }\n",
       "\n",
       "    .dataframe tbody tr th {\n",
       "        vertical-align: top;\n",
       "    }\n",
       "\n",
       "    .dataframe thead th {\n",
       "        text-align: right;\n",
       "    }\n",
       "</style>\n",
       "<table border=\"1\" class=\"dataframe\">\n",
       "  <thead>\n",
       "    <tr style=\"text-align: right;\">\n",
       "      <th></th>\n",
       "      <th>bill_id</th>\n",
       "      <th>amount</th>\n",
       "    </tr>\n",
       "  </thead>\n",
       "  <tbody>\n",
       "    <tr>\n",
       "      <td>6040</td>\n",
       "      <td>558412</td>\n",
       "      <td>6539.159300</td>\n",
       "    </tr>\n",
       "    <tr>\n",
       "      <td>6098</td>\n",
       "      <td>1219378</td>\n",
       "      <td>876.424366</td>\n",
       "    </tr>\n",
       "    <tr>\n",
       "      <td>3327</td>\n",
       "      <td>3568195</td>\n",
       "      <td>956.968933</td>\n",
       "    </tr>\n",
       "    <tr>\n",
       "      <td>12701</td>\n",
       "      <td>3722123</td>\n",
       "      <td>836.612493</td>\n",
       "    </tr>\n",
       "    <tr>\n",
       "      <td>6658</td>\n",
       "      <td>4477075</td>\n",
       "      <td>397.293041</td>\n",
       "    </tr>\n",
       "    <tr>\n",
       "      <td>...</td>\n",
       "      <td>...</td>\n",
       "      <td>...</td>\n",
       "    </tr>\n",
       "    <tr>\n",
       "      <td>854</td>\n",
       "      <td>9994260912</td>\n",
       "      <td>20457.184207</td>\n",
       "    </tr>\n",
       "    <tr>\n",
       "      <td>5710</td>\n",
       "      <td>9994410882</td>\n",
       "      <td>13178.470605</td>\n",
       "    </tr>\n",
       "    <tr>\n",
       "      <td>6653</td>\n",
       "      <td>9996337893</td>\n",
       "      <td>1871.369726</td>\n",
       "    </tr>\n",
       "    <tr>\n",
       "      <td>6208</td>\n",
       "      <td>9999037175</td>\n",
       "      <td>3649.064368</td>\n",
       "    </tr>\n",
       "    <tr>\n",
       "      <td>6971</td>\n",
       "      <td>9999633378</td>\n",
       "      <td>8593.001462</td>\n",
       "    </tr>\n",
       "  </tbody>\n",
       "</table>\n",
       "<p>13600 rows × 2 columns</p>\n",
       "</div>"
      ],
      "text/plain": [
       "          bill_id        amount\n",
       "6040       558412   6539.159300\n",
       "6098      1219378    876.424366\n",
       "3327      3568195    956.968933\n",
       "12701     3722123    836.612493\n",
       "6658      4477075    397.293041\n",
       "...           ...           ...\n",
       "854    9994260912  20457.184207\n",
       "5710   9994410882  13178.470605\n",
       "6653   9996337893   1871.369726\n",
       "6208   9999037175   3649.064368\n",
       "6971   9999633378   8593.001462\n",
       "\n",
       "[13600 rows x 2 columns]"
      ]
     },
     "execution_count": 43,
     "metadata": {},
     "output_type": "execute_result"
    }
   ],
   "source": [
    "cost.sort_values(by = 'bill_id')"
   ]
  },
  {
   "cell_type": "code",
   "execution_count": 44,
   "metadata": {
    "ExecuteTime": {
     "end_time": "2020-01-21T13:31:45.923246Z",
     "start_time": "2020-01-21T13:31:45.900703Z"
    },
    "scrolled": true
   },
   "outputs": [
    {
     "data": {
      "text/html": [
       "<div>\n",
       "<style scoped>\n",
       "    .dataframe tbody tr th:only-of-type {\n",
       "        vertical-align: middle;\n",
       "    }\n",
       "\n",
       "    .dataframe tbody tr th {\n",
       "        vertical-align: top;\n",
       "    }\n",
       "\n",
       "    .dataframe thead th {\n",
       "        text-align: right;\n",
       "    }\n",
       "</style>\n",
       "<table border=\"1\" class=\"dataframe\">\n",
       "  <thead>\n",
       "    <tr style=\"text-align: right;\">\n",
       "      <th></th>\n",
       "      <th>bill_id</th>\n",
       "      <th>patient_id</th>\n",
       "      <th>date_of_admission</th>\n",
       "      <th>amount</th>\n",
       "    </tr>\n",
       "  </thead>\n",
       "  <tbody>\n",
       "    <tr>\n",
       "      <td>5851</td>\n",
       "      <td>558412</td>\n",
       "      <td>54c00a685cd49f4ed59a389657af655b</td>\n",
       "      <td>2013-02-23</td>\n",
       "      <td>6539.159300</td>\n",
       "    </tr>\n",
       "    <tr>\n",
       "      <td>7862</td>\n",
       "      <td>1219378</td>\n",
       "      <td>a135b44a73f9e99424a91edc846185de</td>\n",
       "      <td>2013-11-28</td>\n",
       "      <td>876.424366</td>\n",
       "    </tr>\n",
       "    <tr>\n",
       "      <td>10700</td>\n",
       "      <td>3568195</td>\n",
       "      <td>4a8da205ade786dd74c316c39dcbe99f</td>\n",
       "      <td>2014-12-12</td>\n",
       "      <td>956.968933</td>\n",
       "    </tr>\n",
       "    <tr>\n",
       "      <td>3106</td>\n",
       "      <td>3722123</td>\n",
       "      <td>277ad90d43a1289b0bf22f9795c5c706</td>\n",
       "      <td>2012-02-16</td>\n",
       "      <td>836.612493</td>\n",
       "    </tr>\n",
       "    <tr>\n",
       "      <td>5206</td>\n",
       "      <td>4477075</td>\n",
       "      <td>a54070aa18ab3579495a157364f70a39</td>\n",
       "      <td>2012-12-03</td>\n",
       "      <td>397.293041</td>\n",
       "    </tr>\n",
       "    <tr>\n",
       "      <td>...</td>\n",
       "      <td>...</td>\n",
       "      <td>...</td>\n",
       "      <td>...</td>\n",
       "      <td>...</td>\n",
       "    </tr>\n",
       "    <tr>\n",
       "      <td>7969</td>\n",
       "      <td>9994260912</td>\n",
       "      <td>215d86748264161be1c3bac0c82c15ef</td>\n",
       "      <td>2013-12-13</td>\n",
       "      <td>20457.184207</td>\n",
       "    </tr>\n",
       "    <tr>\n",
       "      <td>5172</td>\n",
       "      <td>9994410882</td>\n",
       "      <td>d26ce03a1420aa91d6e93a4256cad97c</td>\n",
       "      <td>2012-11-28</td>\n",
       "      <td>13178.470605</td>\n",
       "    </tr>\n",
       "    <tr>\n",
       "      <td>10958</td>\n",
       "      <td>9996337893</td>\n",
       "      <td>b7e7395d2621e75bef6b1a0c92cd99cd</td>\n",
       "      <td>2015-01-17</td>\n",
       "      <td>1871.369726</td>\n",
       "    </tr>\n",
       "    <tr>\n",
       "      <td>12036</td>\n",
       "      <td>9999037175</td>\n",
       "      <td>97f1811ff07527b24f25e3a6cd82cde9</td>\n",
       "      <td>2015-06-10</td>\n",
       "      <td>3649.064368</td>\n",
       "    </tr>\n",
       "    <tr>\n",
       "      <td>9411</td>\n",
       "      <td>9999633378</td>\n",
       "      <td>258807316af4b45fda1b05668d557d06</td>\n",
       "      <td>2014-06-09</td>\n",
       "      <td>8593.001462</td>\n",
       "    </tr>\n",
       "  </tbody>\n",
       "</table>\n",
       "<p>13600 rows × 4 columns</p>\n",
       "</div>"
      ],
      "text/plain": [
       "          bill_id                        patient_id date_of_admission  \\\n",
       "5851       558412  54c00a685cd49f4ed59a389657af655b        2013-02-23   \n",
       "7862      1219378  a135b44a73f9e99424a91edc846185de        2013-11-28   \n",
       "10700     3568195  4a8da205ade786dd74c316c39dcbe99f        2014-12-12   \n",
       "3106      3722123  277ad90d43a1289b0bf22f9795c5c706        2012-02-16   \n",
       "5206      4477075  a54070aa18ab3579495a157364f70a39        2012-12-03   \n",
       "...           ...                               ...               ...   \n",
       "7969   9994260912  215d86748264161be1c3bac0c82c15ef        2013-12-13   \n",
       "5172   9994410882  d26ce03a1420aa91d6e93a4256cad97c        2012-11-28   \n",
       "10958  9996337893  b7e7395d2621e75bef6b1a0c92cd99cd        2015-01-17   \n",
       "12036  9999037175  97f1811ff07527b24f25e3a6cd82cde9        2015-06-10   \n",
       "9411   9999633378  258807316af4b45fda1b05668d557d06        2014-06-09   \n",
       "\n",
       "             amount  \n",
       "5851    6539.159300  \n",
       "7862     876.424366  \n",
       "10700    956.968933  \n",
       "3106     836.612493  \n",
       "5206     397.293041  \n",
       "...             ...  \n",
       "7969   20457.184207  \n",
       "5172   13178.470605  \n",
       "10958   1871.369726  \n",
       "12036   3649.064368  \n",
       "9411    8593.001462  \n",
       "\n",
       "[13600 rows x 4 columns]"
      ]
     },
     "execution_count": 44,
     "metadata": {},
     "output_type": "execute_result"
    }
   ],
   "source": [
    "billing = pd.merge(txn, cost, on='bill_id')\n",
    "billing.sort_values(by = 'bill_id')"
   ]
  },
  {
   "cell_type": "code",
   "execution_count": 45,
   "metadata": {
    "ExecuteTime": {
     "end_time": "2020-01-21T13:31:45.934484Z",
     "start_time": "2020-01-21T13:31:45.924996Z"
    }
   },
   "outputs": [
    {
     "data": {
      "text/plain": [
       "4e46fddfa404b306809c350aecbf0f6a    16\n",
       "e3270f450ee164e596ca933a25bab61d    12\n",
       "d15ec3b278e42b36e7362ac783643685    12\n",
       "8239986dfdf8f4e0bb351ace4742ef95    12\n",
       "cebd42e84733dae9898687cfb750fbaf    12\n",
       "                                    ..\n",
       "0fec4d861ee094f3a0a27de2755d0ced     4\n",
       "d3ceb2df50721c9db49d5d781bccc0fd     4\n",
       "e24cd040a66d4b7bed7e0aabeed2d059     4\n",
       "83689409b9aca7187463ae39d3f8f5a7     4\n",
       "edb7df367fecf41af4fc406b79f23749     4\n",
       "Name: patient_id, Length: 3000, dtype: int64"
      ]
     },
     "execution_count": 45,
     "metadata": {},
     "output_type": "execute_result"
    }
   ],
   "source": [
    "billing.patient_id.value_counts()"
   ]
  },
  {
   "cell_type": "code",
   "execution_count": 46,
   "metadata": {
    "ExecuteTime": {
     "end_time": "2020-01-21T13:31:45.959655Z",
     "start_time": "2020-01-21T13:31:45.937370Z"
    }
   },
   "outputs": [
    {
     "data": {
      "text/html": [
       "<div>\n",
       "<style scoped>\n",
       "    .dataframe tbody tr th:only-of-type {\n",
       "        vertical-align: middle;\n",
       "    }\n",
       "\n",
       "    .dataframe tbody tr th {\n",
       "        vertical-align: top;\n",
       "    }\n",
       "\n",
       "    .dataframe thead th {\n",
       "        text-align: right;\n",
       "    }\n",
       "</style>\n",
       "<table border=\"1\" class=\"dataframe\">\n",
       "  <thead>\n",
       "    <tr style=\"text-align: right;\">\n",
       "      <th></th>\n",
       "      <th>bill_id</th>\n",
       "      <th>patient_id</th>\n",
       "      <th>date_of_admission</th>\n",
       "      <th>amount</th>\n",
       "    </tr>\n",
       "  </thead>\n",
       "  <tbody>\n",
       "    <tr>\n",
       "      <td>8870</td>\n",
       "      <td>8461069832</td>\n",
       "      <td>00225710a878eff524a1d13be817e8e2</td>\n",
       "      <td>2014-04-10</td>\n",
       "      <td>1074.885913</td>\n",
       "    </tr>\n",
       "    <tr>\n",
       "      <td>8871</td>\n",
       "      <td>7746811189</td>\n",
       "      <td>00225710a878eff524a1d13be817e8e2</td>\n",
       "      <td>2014-04-10</td>\n",
       "      <td>3710.864731</td>\n",
       "    </tr>\n",
       "    <tr>\n",
       "      <td>8877</td>\n",
       "      <td>4692776325</td>\n",
       "      <td>00225710a878eff524a1d13be817e8e2</td>\n",
       "      <td>2014-04-10</td>\n",
       "      <td>325.319345</td>\n",
       "    </tr>\n",
       "    <tr>\n",
       "      <td>8868</td>\n",
       "      <td>5175703971</td>\n",
       "      <td>00225710a878eff524a1d13be817e8e2</td>\n",
       "      <td>2014-04-10</td>\n",
       "      <td>79.496707</td>\n",
       "    </tr>\n",
       "    <tr>\n",
       "      <td>5024</td>\n",
       "      <td>3604841170</td>\n",
       "      <td>0029d90eb654699c18001c17efb0f129</td>\n",
       "      <td>2012-11-07</td>\n",
       "      <td>416.161130</td>\n",
       "    </tr>\n",
       "    <tr>\n",
       "      <td>...</td>\n",
       "      <td>...</td>\n",
       "      <td>...</td>\n",
       "      <td>...</td>\n",
       "      <td>...</td>\n",
       "    </tr>\n",
       "    <tr>\n",
       "      <td>5366</td>\n",
       "      <td>4479145827</td>\n",
       "      <td>ffd67c2bcfb32508d2cf7b1e1193e2ed</td>\n",
       "      <td>2012-12-24</td>\n",
       "      <td>22252.602435</td>\n",
       "    </tr>\n",
       "    <tr>\n",
       "      <td>6560</td>\n",
       "      <td>7388693307</td>\n",
       "      <td>ffd9644f8daf1d28493a7cd700bb30f4</td>\n",
       "      <td>2013-06-04</td>\n",
       "      <td>1475.253239</td>\n",
       "    </tr>\n",
       "    <tr>\n",
       "      <td>6559</td>\n",
       "      <td>6862282934</td>\n",
       "      <td>ffd9644f8daf1d28493a7cd700bb30f4</td>\n",
       "      <td>2013-06-04</td>\n",
       "      <td>940.451925</td>\n",
       "    </tr>\n",
       "    <tr>\n",
       "      <td>6563</td>\n",
       "      <td>7406466784</td>\n",
       "      <td>ffd9644f8daf1d28493a7cd700bb30f4</td>\n",
       "      <td>2013-06-04</td>\n",
       "      <td>18208.655474</td>\n",
       "    </tr>\n",
       "    <tr>\n",
       "      <td>6552</td>\n",
       "      <td>7767844278</td>\n",
       "      <td>ffd9644f8daf1d28493a7cd700bb30f4</td>\n",
       "      <td>2013-06-04</td>\n",
       "      <td>416.301352</td>\n",
       "    </tr>\n",
       "  </tbody>\n",
       "</table>\n",
       "<p>13600 rows × 4 columns</p>\n",
       "</div>"
      ],
      "text/plain": [
       "         bill_id                        patient_id date_of_admission  \\\n",
       "8870  8461069832  00225710a878eff524a1d13be817e8e2        2014-04-10   \n",
       "8871  7746811189  00225710a878eff524a1d13be817e8e2        2014-04-10   \n",
       "8877  4692776325  00225710a878eff524a1d13be817e8e2        2014-04-10   \n",
       "8868  5175703971  00225710a878eff524a1d13be817e8e2        2014-04-10   \n",
       "5024  3604841170  0029d90eb654699c18001c17efb0f129        2012-11-07   \n",
       "...          ...                               ...               ...   \n",
       "5366  4479145827  ffd67c2bcfb32508d2cf7b1e1193e2ed        2012-12-24   \n",
       "6560  7388693307  ffd9644f8daf1d28493a7cd700bb30f4        2013-06-04   \n",
       "6559  6862282934  ffd9644f8daf1d28493a7cd700bb30f4        2013-06-04   \n",
       "6563  7406466784  ffd9644f8daf1d28493a7cd700bb30f4        2013-06-04   \n",
       "6552  7767844278  ffd9644f8daf1d28493a7cd700bb30f4        2013-06-04   \n",
       "\n",
       "            amount  \n",
       "8870   1074.885913  \n",
       "8871   3710.864731  \n",
       "8877    325.319345  \n",
       "8868     79.496707  \n",
       "5024    416.161130  \n",
       "...            ...  \n",
       "5366  22252.602435  \n",
       "6560   1475.253239  \n",
       "6559    940.451925  \n",
       "6563  18208.655474  \n",
       "6552    416.301352  \n",
       "\n",
       "[13600 rows x 4 columns]"
      ]
     },
     "execution_count": 46,
     "metadata": {},
     "output_type": "execute_result"
    }
   ],
   "source": [
    "billing.sort_values(by= 'patient_id')"
   ]
  },
  {
   "cell_type": "markdown",
   "metadata": {},
   "source": [
    "The billing dataset show that there were multiple transactions on one patient on one visit. Thus, the transactions were summed together to a total sum. "
   ]
  },
  {
   "cell_type": "code",
   "execution_count": 47,
   "metadata": {
    "ExecuteTime": {
     "end_time": "2020-01-21T13:31:45.978852Z",
     "start_time": "2020-01-21T13:31:45.962449Z"
    }
   },
   "outputs": [
    {
     "data": {
      "text/plain": [
       "Index(['amount'], dtype='object')"
      ]
     },
     "execution_count": 47,
     "metadata": {},
     "output_type": "execute_result"
    }
   ],
   "source": [
    "price = billing.groupby(['patient_id', 'date_of_admission']).sum()\n",
    "price.drop('bill_id', axis = 1, inplace = True)\n",
    "price.columns"
   ]
  },
  {
   "cell_type": "markdown",
   "metadata": {
    "ExecuteTime": {
     "end_time": "2020-01-21T03:23:33.686007Z",
     "start_time": "2020-01-21T03:23:33.677777Z"
    }
   },
   "source": [
    "### Clinic: creating new features\n",
    "\n",
    "A new feature was created to cover hospitalisation time."
   ]
  },
  {
   "cell_type": "code",
   "execution_count": 48,
   "metadata": {
    "ExecuteTime": {
     "end_time": "2020-01-21T13:31:45.985177Z",
     "start_time": "2020-01-21T13:31:45.980253Z"
    }
   },
   "outputs": [],
   "source": [
    "clinic['hospital_stay'] = clinic['date_of_discharge'] - clinic['date_of_admission'] "
   ]
  },
  {
   "cell_type": "code",
   "execution_count": 49,
   "metadata": {
    "ExecuteTime": {
     "end_time": "2020-01-21T13:31:46.032860Z",
     "start_time": "2020-01-21T13:31:45.986737Z"
    }
   },
   "outputs": [],
   "source": [
    "clinic['hospital_stay'] = [int(str(x).split(' ')[0]) for x in clinic['hospital_stay']]"
   ]
  },
  {
   "cell_type": "code",
   "execution_count": 54,
   "metadata": {
    "ExecuteTime": {
     "end_time": "2020-01-21T13:32:42.822096Z",
     "start_time": "2020-01-21T13:32:42.818445Z"
    }
   },
   "outputs": [],
   "source": [
    "clinic.columns = ['patient_id', 'date_of_admission', 'date_of_discharge', 'medical_history_1',\n",
    "       'medical_history_2', 'medical_history_3', 'medical_history_4',\n",
    "       'medical_history_5', 'medical_history_6', 'medical_history_7',\n",
    "       'preop_medication_1', 'preop_medication_2', 'preop_medication_3',\n",
    "       'preop_medication_4', 'preop_medication_5', 'preop_medication_6',\n",
    "       'symptom_1', 'symptom_2', 'symptom_3', 'symptom_4', 'symptom_5',\n",
    "       'lab_result_1', 'lab_result_2', 'lab_result_3', 'weight', 'height',\n",
    "       'hospital_stay']"
   ]
  },
  {
   "cell_type": "markdown",
   "metadata": {},
   "source": [
    "### New dataframe - Stay\n",
    "A stay dataframe was created to store the dataset hospital stay."
   ]
  },
  {
   "cell_type": "code",
   "execution_count": 55,
   "metadata": {
    "ExecuteTime": {
     "end_time": "2020-01-21T13:32:43.579542Z",
     "start_time": "2020-01-21T13:32:43.567799Z"
    }
   },
   "outputs": [
    {
     "data": {
      "text/plain": [
       "Index(['00225710a878eff524a1d13be817e8e2', '0029d90eb654699c18001c17efb0f129',\n",
       "       '0040333abd68527ecb53e1db9073f52e', '00473b58e3dc8ae37b3cb34069705083',\n",
       "       '0078662d1d983dde68ea057c42d5b5cf', '0088bbd94c90bbc9158e13465441ebb6',\n",
       "       '0092d20dd0719e88ecfdd02d5e7ca7b7', '01081b8bcb0f9e27b888d23bb35a50dd',\n",
       "       '010cf28233f50d3857b499a9c208c610', '0116c5d9b6c2c2e8758c75e6da86014b',\n",
       "       ...\n",
       "       'ff4e12b747203554bdd62c6a36f0e112', 'ff6de9534e28ea31f928ac79c399ecd6',\n",
       "       'ff727bbb751f38bceedaf6f6963ece23', 'ff78b422b8c6b83e40f11ca7d62da682',\n",
       "       'ff7a523f1dbd0385e731b4185cf64683', 'ffa5a615a4cc5fb1ada0443edc1f5dd3',\n",
       "       'ffac3c4b6838f42625e1dd00dd7c867b', 'ffc19537fa6621512ef4f296d60896ce',\n",
       "       'ffd67c2bcfb32508d2cf7b1e1193e2ed', 'ffd9644f8daf1d28493a7cd700bb30f4'],\n",
       "      dtype='object', name='patient_id', length=3000)"
      ]
     },
     "execution_count": 55,
     "metadata": {},
     "output_type": "execute_result"
    }
   ],
   "source": [
    "stay = clinic[['patient_id', 'date_of_admission','hospital_stay']].groupby('patient_id').sum()\n",
    "stay.index"
   ]
  },
  {
   "cell_type": "markdown",
   "metadata": {},
   "source": [
    "__Visual check of billing and clinic information__"
   ]
  },
  {
   "cell_type": "code",
   "execution_count": 56,
   "metadata": {
    "ExecuteTime": {
     "end_time": "2020-01-21T13:32:45.003063Z",
     "start_time": "2020-01-21T13:32:44.991889Z"
    }
   },
   "outputs": [
    {
     "data": {
      "text/html": [
       "<div>\n",
       "<style scoped>\n",
       "    .dataframe tbody tr th:only-of-type {\n",
       "        vertical-align: middle;\n",
       "    }\n",
       "\n",
       "    .dataframe tbody tr th {\n",
       "        vertical-align: top;\n",
       "    }\n",
       "\n",
       "    .dataframe thead th {\n",
       "        text-align: right;\n",
       "    }\n",
       "</style>\n",
       "<table border=\"1\" class=\"dataframe\">\n",
       "  <thead>\n",
       "    <tr style=\"text-align: right;\">\n",
       "      <th></th>\n",
       "      <th>bill_id</th>\n",
       "      <th>patient_id</th>\n",
       "      <th>date_of_admission</th>\n",
       "      <th>amount</th>\n",
       "    </tr>\n",
       "  </thead>\n",
       "  <tbody>\n",
       "    <tr>\n",
       "      <td>0</td>\n",
       "      <td>7968360812</td>\n",
       "      <td>1d21f2be18683991eb93d182d6b2d220</td>\n",
       "      <td>2011-01-01</td>\n",
       "      <td>951.214467</td>\n",
       "    </tr>\n",
       "    <tr>\n",
       "      <td>2</td>\n",
       "      <td>7512568183</td>\n",
       "      <td>1d21f2be18683991eb93d182d6b2d220</td>\n",
       "      <td>2011-01-01</td>\n",
       "      <td>12338.269972</td>\n",
       "    </tr>\n",
       "    <tr>\n",
       "      <td>4</td>\n",
       "      <td>7654730355</td>\n",
       "      <td>1d21f2be18683991eb93d182d6b2d220</td>\n",
       "      <td>2011-01-01</td>\n",
       "      <td>1133.601902</td>\n",
       "    </tr>\n",
       "    <tr>\n",
       "      <td>5</td>\n",
       "      <td>1692196063</td>\n",
       "      <td>1d21f2be18683991eb93d182d6b2d220</td>\n",
       "      <td>2011-01-01</td>\n",
       "      <td>982.332324</td>\n",
       "    </tr>\n",
       "    <tr>\n",
       "      <td>12792</td>\n",
       "      <td>6466235037</td>\n",
       "      <td>1d21f2be18683991eb93d182d6b2d220</td>\n",
       "      <td>2015-09-17</td>\n",
       "      <td>1498.125668</td>\n",
       "    </tr>\n",
       "    <tr>\n",
       "      <td>12793</td>\n",
       "      <td>7809633370</td>\n",
       "      <td>1d21f2be18683991eb93d182d6b2d220</td>\n",
       "      <td>2015-09-17</td>\n",
       "      <td>16064.717244</td>\n",
       "    </tr>\n",
       "    <tr>\n",
       "      <td>12794</td>\n",
       "      <td>5607272671</td>\n",
       "      <td>1d21f2be18683991eb93d182d6b2d220</td>\n",
       "      <td>2015-09-17</td>\n",
       "      <td>1068.897462</td>\n",
       "    </tr>\n",
       "    <tr>\n",
       "      <td>12795</td>\n",
       "      <td>5776306727</td>\n",
       "      <td>1d21f2be18683991eb93d182d6b2d220</td>\n",
       "      <td>2015-09-17</td>\n",
       "      <td>1267.841329</td>\n",
       "    </tr>\n",
       "  </tbody>\n",
       "</table>\n",
       "</div>"
      ],
      "text/plain": [
       "          bill_id                        patient_id date_of_admission  \\\n",
       "0      7968360812  1d21f2be18683991eb93d182d6b2d220        2011-01-01   \n",
       "2      7512568183  1d21f2be18683991eb93d182d6b2d220        2011-01-01   \n",
       "4      7654730355  1d21f2be18683991eb93d182d6b2d220        2011-01-01   \n",
       "5      1692196063  1d21f2be18683991eb93d182d6b2d220        2011-01-01   \n",
       "12792  6466235037  1d21f2be18683991eb93d182d6b2d220        2015-09-17   \n",
       "12793  7809633370  1d21f2be18683991eb93d182d6b2d220        2015-09-17   \n",
       "12794  5607272671  1d21f2be18683991eb93d182d6b2d220        2015-09-17   \n",
       "12795  5776306727  1d21f2be18683991eb93d182d6b2d220        2015-09-17   \n",
       "\n",
       "             amount  \n",
       "0        951.214467  \n",
       "2      12338.269972  \n",
       "4       1133.601902  \n",
       "5        982.332324  \n",
       "12792   1498.125668  \n",
       "12793  16064.717244  \n",
       "12794   1068.897462  \n",
       "12795   1267.841329  "
      ]
     },
     "execution_count": 56,
     "metadata": {},
     "output_type": "execute_result"
    }
   ],
   "source": [
    "billing[billing['patient_id']== '1d21f2be18683991eb93d182d6b2d220']"
   ]
  },
  {
   "cell_type": "code",
   "execution_count": 57,
   "metadata": {
    "ExecuteTime": {
     "end_time": "2020-01-21T13:32:46.088778Z",
     "start_time": "2020-01-21T13:32:46.067686Z"
    }
   },
   "outputs": [
    {
     "data": {
      "text/html": [
       "<div>\n",
       "<style scoped>\n",
       "    .dataframe tbody tr th:only-of-type {\n",
       "        vertical-align: middle;\n",
       "    }\n",
       "\n",
       "    .dataframe tbody tr th {\n",
       "        vertical-align: top;\n",
       "    }\n",
       "\n",
       "    .dataframe thead th {\n",
       "        text-align: right;\n",
       "    }\n",
       "</style>\n",
       "<table border=\"1\" class=\"dataframe\">\n",
       "  <thead>\n",
       "    <tr style=\"text-align: right;\">\n",
       "      <th></th>\n",
       "      <th>patient_id</th>\n",
       "      <th>date_of_admission</th>\n",
       "      <th>date_of_discharge</th>\n",
       "      <th>medical_history_1</th>\n",
       "      <th>medical_history_2</th>\n",
       "      <th>medical_history_3</th>\n",
       "      <th>medical_history_4</th>\n",
       "      <th>medical_history_5</th>\n",
       "      <th>medical_history_6</th>\n",
       "      <th>medical_history_7</th>\n",
       "      <th>...</th>\n",
       "      <th>symptom_2</th>\n",
       "      <th>symptom_3</th>\n",
       "      <th>symptom_4</th>\n",
       "      <th>symptom_5</th>\n",
       "      <th>lab_result_1</th>\n",
       "      <th>lab_result_2</th>\n",
       "      <th>lab_result_3</th>\n",
       "      <th>weight</th>\n",
       "      <th>height</th>\n",
       "      <th>hospital_stay</th>\n",
       "    </tr>\n",
       "  </thead>\n",
       "  <tbody>\n",
       "    <tr>\n",
       "      <td>0</td>\n",
       "      <td>1d21f2be18683991eb93d182d6b2d220</td>\n",
       "      <td>2011-01-01</td>\n",
       "      <td>2011-01-11</td>\n",
       "      <td>0</td>\n",
       "      <td>1.0</td>\n",
       "      <td>0</td>\n",
       "      <td>0</td>\n",
       "      <td>0.0</td>\n",
       "      <td>0</td>\n",
       "      <td>0</td>\n",
       "      <td>...</td>\n",
       "      <td>0</td>\n",
       "      <td>0</td>\n",
       "      <td>1</td>\n",
       "      <td>1</td>\n",
       "      <td>13.2</td>\n",
       "      <td>30.9</td>\n",
       "      <td>123.0</td>\n",
       "      <td>71.3</td>\n",
       "      <td>161.0</td>\n",
       "      <td>10</td>\n",
       "    </tr>\n",
       "    <tr>\n",
       "      <td>3200</td>\n",
       "      <td>1d21f2be18683991eb93d182d6b2d220</td>\n",
       "      <td>2015-09-17</td>\n",
       "      <td>2015-09-30</td>\n",
       "      <td>0</td>\n",
       "      <td>0.0</td>\n",
       "      <td>0</td>\n",
       "      <td>0</td>\n",
       "      <td>0.0</td>\n",
       "      <td>0</td>\n",
       "      <td>1</td>\n",
       "      <td>...</td>\n",
       "      <td>1</td>\n",
       "      <td>0</td>\n",
       "      <td>1</td>\n",
       "      <td>1</td>\n",
       "      <td>16.4</td>\n",
       "      <td>23.7</td>\n",
       "      <td>108.0</td>\n",
       "      <td>72.3</td>\n",
       "      <td>161.0</td>\n",
       "      <td>13</td>\n",
       "    </tr>\n",
       "  </tbody>\n",
       "</table>\n",
       "<p>2 rows × 27 columns</p>\n",
       "</div>"
      ],
      "text/plain": [
       "                            patient_id date_of_admission date_of_discharge  \\\n",
       "0     1d21f2be18683991eb93d182d6b2d220        2011-01-01        2011-01-11   \n",
       "3200  1d21f2be18683991eb93d182d6b2d220        2015-09-17        2015-09-30   \n",
       "\n",
       "      medical_history_1  medical_history_2  medical_history_3  \\\n",
       "0                     0                1.0                  0   \n",
       "3200                  0                0.0                  0   \n",
       "\n",
       "      medical_history_4  medical_history_5  medical_history_6  \\\n",
       "0                     0                0.0                  0   \n",
       "3200                  0                0.0                  0   \n",
       "\n",
       "      medical_history_7  ...  symptom_2  symptom_3  symptom_4  symptom_5  \\\n",
       "0                     0  ...          0          0          1          1   \n",
       "3200                  1  ...          1          0          1          1   \n",
       "\n",
       "      lab_result_1  lab_result_2  lab_result_3  weight  height  hospital_stay  \n",
       "0             13.2          30.9         123.0    71.3   161.0             10  \n",
       "3200          16.4          23.7         108.0    72.3   161.0             13  \n",
       "\n",
       "[2 rows x 27 columns]"
      ]
     },
     "execution_count": 57,
     "metadata": {},
     "output_type": "execute_result"
    }
   ],
   "source": [
    "clinic[clinic['patient_id']== '1d21f2be18683991eb93d182d6b2d220']"
   ]
  },
  {
   "cell_type": "markdown",
   "metadata": {},
   "source": [
    "### Renaming clinic patient id columns"
   ]
  },
  {
   "cell_type": "code",
   "execution_count": 58,
   "metadata": {
    "ExecuteTime": {
     "end_time": "2020-01-21T13:32:47.850234Z",
     "start_time": "2020-01-21T13:32:47.846066Z"
    }
   },
   "outputs": [],
   "source": [
    "clinic.columns = ['patient_id', 'date_of_admission', 'date_of_discharge', 'medical_history_1',\n",
    "       'medical_history_2', 'medical_history_3', 'medical_history_4',\n",
    "       'medical_history_5', 'medical_history_6', 'medical_history_7',\n",
    "       'preop_medication_1', 'preop_medication_2', 'preop_medication_3',\n",
    "       'preop_medication_4', 'preop_medication_5', 'preop_medication_6',\n",
    "       'symptom_1', 'symptom_2', 'symptom_3', 'symptom_4', 'symptom_5',\n",
    "       'lab_result_1', 'lab_result_2', 'lab_result_3', 'weight', 'height',\n",
    "       'hospital_stay']"
   ]
  },
  {
   "cell_type": "code",
   "execution_count": 59,
   "metadata": {
    "ExecuteTime": {
     "end_time": "2020-01-21T13:32:48.444268Z",
     "start_time": "2020-01-21T13:32:48.440118Z"
    }
   },
   "outputs": [
    {
     "data": {
      "text/plain": [
       "Index(['patient_id', 'date_of_admission', 'date_of_discharge',\n",
       "       'medical_history_1', 'medical_history_2', 'medical_history_3',\n",
       "       'medical_history_4', 'medical_history_5', 'medical_history_6',\n",
       "       'medical_history_7', 'preop_medication_1', 'preop_medication_2',\n",
       "       'preop_medication_3', 'preop_medication_4', 'preop_medication_5',\n",
       "       'preop_medication_6', 'symptom_1', 'symptom_2', 'symptom_3',\n",
       "       'symptom_4', 'symptom_5', 'lab_result_1', 'lab_result_2',\n",
       "       'lab_result_3', 'weight', 'height', 'hospital_stay'],\n",
       "      dtype='object')"
      ]
     },
     "execution_count": 59,
     "metadata": {},
     "output_type": "execute_result"
    }
   ],
   "source": [
    "clinic.columns"
   ]
  },
  {
   "cell_type": "markdown",
   "metadata": {},
   "source": [
    "### Merging datasets\n",
    "\n",
    "The clinic and price dataset were merged to form a complete dataset to form a dataset with medical data, personal biological data and price of stay."
   ]
  },
  {
   "cell_type": "code",
   "execution_count": 60,
   "metadata": {
    "ExecuteTime": {
     "end_time": "2020-01-21T13:32:49.694672Z",
     "start_time": "2020-01-21T13:32:49.683263Z"
    }
   },
   "outputs": [],
   "source": [
    "complete = pd.merge(clinic, \n",
    "                    price,  \n",
    "                    how='left', \n",
    "                    left_on=['patient_id','date_of_admission'], \n",
    "                    right_on = ['patient_id','date_of_admission'])"
   ]
  },
  {
   "cell_type": "code",
   "execution_count": 61,
   "metadata": {
    "ExecuteTime": {
     "end_time": "2020-01-21T13:32:50.259170Z",
     "start_time": "2020-01-21T13:32:50.252287Z"
    }
   },
   "outputs": [
    {
     "name": "stdout",
     "output_type": "stream",
     "text": [
      "<class 'pandas.core.frame.DataFrame'>\n",
      "RangeIndex: 3000 entries, 0 to 2999\n",
      "Data columns (total 5 columns):\n",
      "patient_id         3000 non-null object\n",
      "gender             3000 non-null object\n",
      "race               3000 non-null object\n",
      "resident_status    3000 non-null object\n",
      "date_of_birth      3000 non-null datetime64[ns]\n",
      "dtypes: datetime64[ns](1), object(4)\n",
      "memory usage: 117.3+ KB\n"
     ]
    }
   ],
   "source": [
    "demo.info()"
   ]
  },
  {
   "cell_type": "code",
   "execution_count": 62,
   "metadata": {
    "ExecuteTime": {
     "end_time": "2020-01-21T13:32:50.631224Z",
     "start_time": "2020-01-21T13:32:50.620966Z"
    }
   },
   "outputs": [],
   "source": [
    "completewdemo = pd.merge(complete,\n",
    "                         demo,\n",
    "                         how='left',\n",
    "                         left_on=['patient_id'],\n",
    "                         right_on = ['patient_id'])"
   ]
  },
  {
   "cell_type": "code",
   "execution_count": 63,
   "metadata": {
    "ExecuteTime": {
     "end_time": "2020-01-21T13:32:51.026696Z",
     "start_time": "2020-01-21T13:32:51.023170Z"
    }
   },
   "outputs": [
    {
     "data": {
      "text/plain": [
       "(3400, 32)"
      ]
     },
     "execution_count": 63,
     "metadata": {},
     "output_type": "execute_result"
    }
   ],
   "source": [
    "completewdemo.shape"
   ]
  },
  {
   "cell_type": "code",
   "execution_count": 64,
   "metadata": {
    "ExecuteTime": {
     "end_time": "2020-01-21T13:32:51.435580Z",
     "start_time": "2020-01-21T13:32:51.427460Z"
    }
   },
   "outputs": [],
   "source": [
    "## complete with NaN values\n",
    "complete_full = completewdemo.dropna()"
   ]
  },
  {
   "cell_type": "markdown",
   "metadata": {},
   "source": [
    "A dataset was created where all records with NaN values were dropped."
   ]
  },
  {
   "cell_type": "markdown",
   "metadata": {},
   "source": [
    "### Creating addtional feature\n",
    "\n",
    "A new column 'age' was created."
   ]
  },
  {
   "cell_type": "code",
   "execution_count": 65,
   "metadata": {
    "ExecuteTime": {
     "end_time": "2020-01-21T13:32:52.846808Z",
     "start_time": "2020-01-21T13:32:52.840443Z"
    }
   },
   "outputs": [
    {
     "name": "stderr",
     "output_type": "stream",
     "text": [
      "/Users/ongzhongliang/anaconda3/lib/python3.7/site-packages/ipykernel_launcher.py:1: SettingWithCopyWarning: \n",
      "A value is trying to be set on a copy of a slice from a DataFrame.\n",
      "Try using .loc[row_indexer,col_indexer] = value instead\n",
      "\n",
      "See the caveats in the documentation: http://pandas.pydata.org/pandas-docs/stable/user_guide/indexing.html#returning-a-view-versus-a-copy\n",
      "  \"\"\"Entry point for launching an IPython kernel.\n"
     ]
    }
   ],
   "source": [
    "complete_full['age'] = complete_full['date_of_admission'] - complete_full['date_of_birth'] "
   ]
  },
  {
   "cell_type": "code",
   "execution_count": 66,
   "metadata": {
    "ExecuteTime": {
     "end_time": "2020-01-21T13:32:54.055594Z",
     "start_time": "2020-01-21T13:32:54.013774Z"
    }
   },
   "outputs": [
    {
     "name": "stderr",
     "output_type": "stream",
     "text": [
      "/Users/ongzhongliang/anaconda3/lib/python3.7/site-packages/ipykernel_launcher.py:1: SettingWithCopyWarning: \n",
      "A value is trying to be set on a copy of a slice from a DataFrame.\n",
      "Try using .loc[row_indexer,col_indexer] = value instead\n",
      "\n",
      "See the caveats in the documentation: http://pandas.pydata.org/pandas-docs/stable/user_guide/indexing.html#returning-a-view-versus-a-copy\n",
      "  \"\"\"Entry point for launching an IPython kernel.\n"
     ]
    }
   ],
   "source": [
    "complete_full['age'] = [int(str(x).split(' ')[0])/365 for x in complete_full['age']]"
   ]
  },
  {
   "cell_type": "code",
   "execution_count": 67,
   "metadata": {
    "ExecuteTime": {
     "end_time": "2020-01-21T13:32:57.026729Z",
     "start_time": "2020-01-21T13:32:56.984062Z"
    },
    "scrolled": true
   },
   "outputs": [
    {
     "data": {
      "text/html": [
       "<div>\n",
       "<style scoped>\n",
       "    .dataframe tbody tr th:only-of-type {\n",
       "        vertical-align: middle;\n",
       "    }\n",
       "\n",
       "    .dataframe tbody tr th {\n",
       "        vertical-align: top;\n",
       "    }\n",
       "\n",
       "    .dataframe thead th {\n",
       "        text-align: right;\n",
       "    }\n",
       "</style>\n",
       "<table border=\"1\" class=\"dataframe\">\n",
       "  <thead>\n",
       "    <tr style=\"text-align: right;\">\n",
       "      <th></th>\n",
       "      <th>patient_id</th>\n",
       "      <th>date_of_admission</th>\n",
       "      <th>date_of_discharge</th>\n",
       "      <th>medical_history_1</th>\n",
       "      <th>medical_history_2</th>\n",
       "      <th>medical_history_3</th>\n",
       "      <th>medical_history_4</th>\n",
       "      <th>medical_history_5</th>\n",
       "      <th>medical_history_6</th>\n",
       "      <th>medical_history_7</th>\n",
       "      <th>...</th>\n",
       "      <th>lab_result_3</th>\n",
       "      <th>weight</th>\n",
       "      <th>height</th>\n",
       "      <th>hospital_stay</th>\n",
       "      <th>amount</th>\n",
       "      <th>gender</th>\n",
       "      <th>race</th>\n",
       "      <th>resident_status</th>\n",
       "      <th>date_of_birth</th>\n",
       "      <th>age</th>\n",
       "    </tr>\n",
       "  </thead>\n",
       "  <tbody>\n",
       "    <tr>\n",
       "      <td>0</td>\n",
       "      <td>1d21f2be18683991eb93d182d6b2d220</td>\n",
       "      <td>2011-01-01</td>\n",
       "      <td>2011-01-11</td>\n",
       "      <td>0</td>\n",
       "      <td>1.0</td>\n",
       "      <td>0</td>\n",
       "      <td>0</td>\n",
       "      <td>0.0</td>\n",
       "      <td>0</td>\n",
       "      <td>0</td>\n",
       "      <td>...</td>\n",
       "      <td>123.0</td>\n",
       "      <td>71.3</td>\n",
       "      <td>161.0</td>\n",
       "      <td>10</td>\n",
       "      <td>15405.418665</td>\n",
       "      <td>Male</td>\n",
       "      <td>Indian</td>\n",
       "      <td>Singaporean</td>\n",
       "      <td>1976-12-19</td>\n",
       "      <td>34.057534</td>\n",
       "    </tr>\n",
       "    <tr>\n",
       "      <td>1</td>\n",
       "      <td>62bdca0b95d97e99e1c712048fb9fd09</td>\n",
       "      <td>2011-01-01</td>\n",
       "      <td>2011-01-11</td>\n",
       "      <td>0</td>\n",
       "      <td>0.0</td>\n",
       "      <td>0</td>\n",
       "      <td>0</td>\n",
       "      <td>0.0</td>\n",
       "      <td>0</td>\n",
       "      <td>0</td>\n",
       "      <td>...</td>\n",
       "      <td>89.0</td>\n",
       "      <td>78.4</td>\n",
       "      <td>160.0</td>\n",
       "      <td>10</td>\n",
       "      <td>23303.000924</td>\n",
       "      <td>Female</td>\n",
       "      <td>Malay</td>\n",
       "      <td>Singaporean</td>\n",
       "      <td>1978-07-20</td>\n",
       "      <td>32.473973</td>\n",
       "    </tr>\n",
       "    <tr>\n",
       "      <td>2</td>\n",
       "      <td>c85cf97bc6307ded0dd4fef8bad2fa09</td>\n",
       "      <td>2011-01-02</td>\n",
       "      <td>2011-01-13</td>\n",
       "      <td>0</td>\n",
       "      <td>0.0</td>\n",
       "      <td>0</td>\n",
       "      <td>0</td>\n",
       "      <td>0.0</td>\n",
       "      <td>0</td>\n",
       "      <td>0</td>\n",
       "      <td>...</td>\n",
       "      <td>100.0</td>\n",
       "      <td>72.0</td>\n",
       "      <td>151.0</td>\n",
       "      <td>11</td>\n",
       "      <td>16813.123088</td>\n",
       "      <td>Female</td>\n",
       "      <td>Indian</td>\n",
       "      <td>Singaporean</td>\n",
       "      <td>1967-08-14</td>\n",
       "      <td>43.416438</td>\n",
       "    </tr>\n",
       "    <tr>\n",
       "      <td>3</td>\n",
       "      <td>e0397dd72caf4552c5babebd3d61736c</td>\n",
       "      <td>2011-01-02</td>\n",
       "      <td>2011-01-14</td>\n",
       "      <td>0</td>\n",
       "      <td>1.0</td>\n",
       "      <td>0</td>\n",
       "      <td>0</td>\n",
       "      <td>0.0</td>\n",
       "      <td>1</td>\n",
       "      <td>1</td>\n",
       "      <td>...</td>\n",
       "      <td>76.0</td>\n",
       "      <td>64.4</td>\n",
       "      <td>152.0</td>\n",
       "      <td>12</td>\n",
       "      <td>27994.878530</td>\n",
       "      <td>Female</td>\n",
       "      <td>Chinese</td>\n",
       "      <td>PR</td>\n",
       "      <td>1967-12-06</td>\n",
       "      <td>43.104110</td>\n",
       "    </tr>\n",
       "    <tr>\n",
       "      <td>4</td>\n",
       "      <td>94ade3cd5f66f4584902554dff170a29</td>\n",
       "      <td>2011-01-08</td>\n",
       "      <td>2011-01-16</td>\n",
       "      <td>0</td>\n",
       "      <td>0.0</td>\n",
       "      <td>0</td>\n",
       "      <td>0</td>\n",
       "      <td>0.0</td>\n",
       "      <td>1</td>\n",
       "      <td>1</td>\n",
       "      <td>...</td>\n",
       "      <td>87.0</td>\n",
       "      <td>55.6</td>\n",
       "      <td>160.0</td>\n",
       "      <td>8</td>\n",
       "      <td>10707.950907</td>\n",
       "      <td>Female</td>\n",
       "      <td>Others</td>\n",
       "      <td>PR</td>\n",
       "      <td>1982-07-18</td>\n",
       "      <td>28.495890</td>\n",
       "    </tr>\n",
       "    <tr>\n",
       "      <td>...</td>\n",
       "      <td>...</td>\n",
       "      <td>...</td>\n",
       "      <td>...</td>\n",
       "      <td>...</td>\n",
       "      <td>...</td>\n",
       "      <td>...</td>\n",
       "      <td>...</td>\n",
       "      <td>...</td>\n",
       "      <td>...</td>\n",
       "      <td>...</td>\n",
       "      <td>...</td>\n",
       "      <td>...</td>\n",
       "      <td>...</td>\n",
       "      <td>...</td>\n",
       "      <td>...</td>\n",
       "      <td>...</td>\n",
       "      <td>...</td>\n",
       "      <td>...</td>\n",
       "      <td>...</td>\n",
       "      <td>...</td>\n",
       "      <td>...</td>\n",
       "    </tr>\n",
       "    <tr>\n",
       "      <td>3393</td>\n",
       "      <td>f253e6e69fdc53f07ec682df8ed1a80e</td>\n",
       "      <td>2015-12-21</td>\n",
       "      <td>2016-01-05</td>\n",
       "      <td>0</td>\n",
       "      <td>0.0</td>\n",
       "      <td>0</td>\n",
       "      <td>0</td>\n",
       "      <td>0.0</td>\n",
       "      <td>0</td>\n",
       "      <td>0</td>\n",
       "      <td>...</td>\n",
       "      <td>114.0</td>\n",
       "      <td>91.7</td>\n",
       "      <td>166.0</td>\n",
       "      <td>15</td>\n",
       "      <td>22113.996629</td>\n",
       "      <td>Male</td>\n",
       "      <td>Chinese</td>\n",
       "      <td>Foreigner</td>\n",
       "      <td>1964-10-12</td>\n",
       "      <td>51.224658</td>\n",
       "    </tr>\n",
       "    <tr>\n",
       "      <td>3394</td>\n",
       "      <td>3f052a68d7c25d817a63aa1ba70f4dc2</td>\n",
       "      <td>2015-12-21</td>\n",
       "      <td>2016-01-06</td>\n",
       "      <td>0</td>\n",
       "      <td>0.0</td>\n",
       "      <td>0</td>\n",
       "      <td>0</td>\n",
       "      <td>0.0</td>\n",
       "      <td>0</td>\n",
       "      <td>0</td>\n",
       "      <td>...</td>\n",
       "      <td>106.0</td>\n",
       "      <td>84.8</td>\n",
       "      <td>162.0</td>\n",
       "      <td>16</td>\n",
       "      <td>25040.612435</td>\n",
       "      <td>Female</td>\n",
       "      <td>Chinese</td>\n",
       "      <td>Singaporean</td>\n",
       "      <td>1943-06-22</td>\n",
       "      <td>72.547945</td>\n",
       "    </tr>\n",
       "    <tr>\n",
       "      <td>3395</td>\n",
       "      <td>4368c266084e640c469a5d41b339805c</td>\n",
       "      <td>2015-12-26</td>\n",
       "      <td>2016-01-07</td>\n",
       "      <td>0</td>\n",
       "      <td>0.0</td>\n",
       "      <td>0</td>\n",
       "      <td>0</td>\n",
       "      <td>0.0</td>\n",
       "      <td>0</td>\n",
       "      <td>0</td>\n",
       "      <td>...</td>\n",
       "      <td>129.0</td>\n",
       "      <td>79.5</td>\n",
       "      <td>167.0</td>\n",
       "      <td>12</td>\n",
       "      <td>20730.378614</td>\n",
       "      <td>Female</td>\n",
       "      <td>Chinese</td>\n",
       "      <td>Singaporean</td>\n",
       "      <td>1964-01-05</td>\n",
       "      <td>52.008219</td>\n",
       "    </tr>\n",
       "    <tr>\n",
       "      <td>3396</td>\n",
       "      <td>4f67a54ab205cc9e7e2b0a4ee08e4fba</td>\n",
       "      <td>2015-12-28</td>\n",
       "      <td>2016-01-07</td>\n",
       "      <td>0</td>\n",
       "      <td>0.0</td>\n",
       "      <td>0</td>\n",
       "      <td>0</td>\n",
       "      <td>0.0</td>\n",
       "      <td>1</td>\n",
       "      <td>0</td>\n",
       "      <td>...</td>\n",
       "      <td>107.0</td>\n",
       "      <td>72.7</td>\n",
       "      <td>155.0</td>\n",
       "      <td>10</td>\n",
       "      <td>19356.767331</td>\n",
       "      <td>Female</td>\n",
       "      <td>Chinese</td>\n",
       "      <td>Singaporean</td>\n",
       "      <td>1970-08-07</td>\n",
       "      <td>45.421918</td>\n",
       "    </tr>\n",
       "    <tr>\n",
       "      <td>3397</td>\n",
       "      <td>ac52a32f8ce8c46d82df2d72052ae5a9</td>\n",
       "      <td>2015-12-28</td>\n",
       "      <td>2016-01-08</td>\n",
       "      <td>0</td>\n",
       "      <td>0.0</td>\n",
       "      <td>0</td>\n",
       "      <td>0</td>\n",
       "      <td>0.0</td>\n",
       "      <td>1</td>\n",
       "      <td>0</td>\n",
       "      <td>...</td>\n",
       "      <td>91.0</td>\n",
       "      <td>62.3</td>\n",
       "      <td>154.0</td>\n",
       "      <td>11</td>\n",
       "      <td>20141.411600</td>\n",
       "      <td>Female</td>\n",
       "      <td>Chinese</td>\n",
       "      <td>Singaporean</td>\n",
       "      <td>1979-03-06</td>\n",
       "      <td>36.838356</td>\n",
       "    </tr>\n",
       "  </tbody>\n",
       "</table>\n",
       "<p>2898 rows × 33 columns</p>\n",
       "</div>"
      ],
      "text/plain": [
       "                            patient_id date_of_admission date_of_discharge  \\\n",
       "0     1d21f2be18683991eb93d182d6b2d220        2011-01-01        2011-01-11   \n",
       "1     62bdca0b95d97e99e1c712048fb9fd09        2011-01-01        2011-01-11   \n",
       "2     c85cf97bc6307ded0dd4fef8bad2fa09        2011-01-02        2011-01-13   \n",
       "3     e0397dd72caf4552c5babebd3d61736c        2011-01-02        2011-01-14   \n",
       "4     94ade3cd5f66f4584902554dff170a29        2011-01-08        2011-01-16   \n",
       "...                                ...               ...               ...   \n",
       "3393  f253e6e69fdc53f07ec682df8ed1a80e        2015-12-21        2016-01-05   \n",
       "3394  3f052a68d7c25d817a63aa1ba70f4dc2        2015-12-21        2016-01-06   \n",
       "3395  4368c266084e640c469a5d41b339805c        2015-12-26        2016-01-07   \n",
       "3396  4f67a54ab205cc9e7e2b0a4ee08e4fba        2015-12-28        2016-01-07   \n",
       "3397  ac52a32f8ce8c46d82df2d72052ae5a9        2015-12-28        2016-01-08   \n",
       "\n",
       "      medical_history_1  medical_history_2  medical_history_3  \\\n",
       "0                     0                1.0                  0   \n",
       "1                     0                0.0                  0   \n",
       "2                     0                0.0                  0   \n",
       "3                     0                1.0                  0   \n",
       "4                     0                0.0                  0   \n",
       "...                 ...                ...                ...   \n",
       "3393                  0                0.0                  0   \n",
       "3394                  0                0.0                  0   \n",
       "3395                  0                0.0                  0   \n",
       "3396                  0                0.0                  0   \n",
       "3397                  0                0.0                  0   \n",
       "\n",
       "      medical_history_4  medical_history_5  medical_history_6  \\\n",
       "0                     0                0.0                  0   \n",
       "1                     0                0.0                  0   \n",
       "2                     0                0.0                  0   \n",
       "3                     0                0.0                  1   \n",
       "4                     0                0.0                  1   \n",
       "...                 ...                ...                ...   \n",
       "3393                  0                0.0                  0   \n",
       "3394                  0                0.0                  0   \n",
       "3395                  0                0.0                  0   \n",
       "3396                  0                0.0                  1   \n",
       "3397                  0                0.0                  1   \n",
       "\n",
       "      medical_history_7  ...  lab_result_3  weight  height  hospital_stay  \\\n",
       "0                     0  ...         123.0    71.3   161.0             10   \n",
       "1                     0  ...          89.0    78.4   160.0             10   \n",
       "2                     0  ...         100.0    72.0   151.0             11   \n",
       "3                     1  ...          76.0    64.4   152.0             12   \n",
       "4                     1  ...          87.0    55.6   160.0              8   \n",
       "...                 ...  ...           ...     ...     ...            ...   \n",
       "3393                  0  ...         114.0    91.7   166.0             15   \n",
       "3394                  0  ...         106.0    84.8   162.0             16   \n",
       "3395                  0  ...         129.0    79.5   167.0             12   \n",
       "3396                  0  ...         107.0    72.7   155.0             10   \n",
       "3397                  0  ...          91.0    62.3   154.0             11   \n",
       "\n",
       "            amount  gender     race  resident_status  date_of_birth        age  \n",
       "0     15405.418665    Male   Indian      Singaporean     1976-12-19  34.057534  \n",
       "1     23303.000924  Female    Malay      Singaporean     1978-07-20  32.473973  \n",
       "2     16813.123088  Female   Indian      Singaporean     1967-08-14  43.416438  \n",
       "3     27994.878530  Female  Chinese               PR     1967-12-06  43.104110  \n",
       "4     10707.950907  Female   Others               PR     1982-07-18  28.495890  \n",
       "...            ...     ...      ...              ...            ...        ...  \n",
       "3393  22113.996629    Male  Chinese        Foreigner     1964-10-12  51.224658  \n",
       "3394  25040.612435  Female  Chinese      Singaporean     1943-06-22  72.547945  \n",
       "3395  20730.378614  Female  Chinese      Singaporean     1964-01-05  52.008219  \n",
       "3396  19356.767331  Female  Chinese      Singaporean     1970-08-07  45.421918  \n",
       "3397  20141.411600  Female  Chinese      Singaporean     1979-03-06  36.838356  \n",
       "\n",
       "[2898 rows x 33 columns]"
      ]
     },
     "execution_count": 67,
     "metadata": {},
     "output_type": "execute_result"
    }
   ],
   "source": [
    "complete_full"
   ]
  },
  {
   "cell_type": "markdown",
   "metadata": {},
   "source": [
    "### Final Dataset: categorical and continuous variable list"
   ]
  },
  {
   "cell_type": "code",
   "execution_count": 68,
   "metadata": {
    "ExecuteTime": {
     "end_time": "2020-01-21T13:33:01.949875Z",
     "start_time": "2020-01-21T13:33:01.944340Z"
    }
   },
   "outputs": [],
   "source": [
    "cont = []\n",
    "cat = []\n",
    "for x in complete_full.columns:\n",
    "    if 'medical_history' in x or 'preop_medication' in x or 'symptom' in x:\n",
    "        cat.append(x)\n",
    "    elif 'patient_id' in x: \n",
    "        pass\n",
    "    elif complete_full[x].dtype == object or complete_full[x].dtype == 'O':\n",
    "        cat.append(x)\n",
    "    elif complete_full[x].dtype == int or complete_full[x].dtype == float:\n",
    "        cont.append(x)\n",
    "    else:\n",
    "        pass"
   ]
  },
  {
   "cell_type": "code",
   "execution_count": 70,
   "metadata": {
    "ExecuteTime": {
     "end_time": "2020-01-21T13:33:10.409230Z",
     "start_time": "2020-01-21T13:33:10.406134Z"
    }
   },
   "outputs": [
    {
     "name": "stdout",
     "output_type": "stream",
     "text": [
      "['lab_result_1', 'lab_result_2', 'lab_result_3', 'weight', 'height', 'hospital_stay', 'amount', 'age'] \n",
      " ['medical_history_1', 'medical_history_2', 'medical_history_3', 'medical_history_4', 'medical_history_5', 'medical_history_6', 'medical_history_7', 'preop_medication_1', 'preop_medication_2', 'preop_medication_3', 'preop_medication_4', 'preop_medication_5', 'preop_medication_6', 'symptom_1', 'symptom_2', 'symptom_3', 'symptom_4', 'symptom_5', 'gender', 'race', 'resident_status']\n"
     ]
    }
   ],
   "source": [
    "print(cont, '\\n', cat)"
   ]
  },
  {
   "cell_type": "markdown",
   "metadata": {},
   "source": [
    "## Data Visualisation"
   ]
  },
  {
   "cell_type": "markdown",
   "metadata": {},
   "source": [
    "### Continuous variables"
   ]
  },
  {
   "cell_type": "code",
   "execution_count": 71,
   "metadata": {
    "ExecuteTime": {
     "end_time": "2020-01-21T13:33:12.291809Z",
     "start_time": "2020-01-21T13:33:10.415304Z"
    }
   },
   "outputs": [
    {
     "name": "stdout",
     "output_type": "stream",
     "text": [
      "0 0\n",
      "0 1\n",
      "1 0\n",
      "1 1\n",
      "2 0\n",
      "2 1\n",
      "3 0\n",
      "3 1\n"
     ]
    },
    {
     "data": {
      "image/png": "[encoded data removed]",
      "text/plain": [
       "<Figure size 1440x1440 with 8 Axes>"
      ]
     },
     "metadata": {
      "needs_background": "light"
     },
     "output_type": "display_data"
    }
   ],
   "source": [
    "# visualising the distribution of the continuous var\n",
    "nrows = int(math.ceil((len(cont))//2))\n",
    "ncols = 2\n",
    "fig, ax = plt.subplots((nrows), ncols, figsize = (20,20))\n",
    "label = ['lab_result_1', 'lab_result_2', 'lab_result_3', 'weight', 'height', 'hospital stay (days)', 'Cost', 'Age'] \n",
    "for i in range(len(cont)):\n",
    "    row = i//2\n",
    "    col = i% 2\n",
    "    print(row, col)\n",
    "    plottable = cont[i]\n",
    "    g = sns.distplot(complete_full[plottable],\n",
    "                     bins = 30, \n",
    "                     norm_hist = True,  \n",
    "                     ax = ax[row, col],\n",
    "                     axlabel = label[i])"
   ]
  },
  {
   "cell_type": "markdown",
   "metadata": {},
   "source": [
    "The continuous variables show close to a normal distribution for `lab_result_1`, `lab_result_2`, `lab_result_3`, `weight`, `height` and `hospital_stay`. `amount` on the other hand shows a positively skewed distribution curve and `age` showed a non-normal distribution "
   ]
  },
  {
   "cell_type": "markdown",
   "metadata": {
    "ExecuteTime": {
     "end_time": "2020-01-21T10:31:57.182537Z",
     "start_time": "2020-01-21T10:31:57.180022Z"
    }
   },
   "source": [
    "### Categorical variables"
   ]
  },
  {
   "cell_type": "code",
   "execution_count": 72,
   "metadata": {
    "ExecuteTime": {
     "end_time": "2020-01-21T13:33:12.297730Z",
     "start_time": "2020-01-21T13:33:12.293588Z"
    }
   },
   "outputs": [],
   "source": [
    "cat_10 = ['medical_history_1',\n",
    "          'medical_history_2',\n",
    "          'medical_history_3',\n",
    "          'medical_history_4',\n",
    "          'medical_history_5',\n",
    "          'medical_history_6',\n",
    "          'medical_history_7',\n",
    "          'preop_medication_1',\n",
    "          'preop_medication_2',\n",
    "          'preop_medication_3',\n",
    "          'preop_medication_4',\n",
    "          'preop_medication_5',\n",
    "          'preop_medication_6',\n",
    "          'symptom_1',\n",
    "          'symptom_2',\n",
    "          'symptom_3',\n",
    "          'symptom_4',\n",
    "          'symptom_5']"
   ]
  },
  {
   "cell_type": "code",
   "execution_count": 73,
   "metadata": {
    "ExecuteTime": {
     "end_time": "2020-01-21T13:33:12.336150Z",
     "start_time": "2020-01-21T13:33:12.300088Z"
    }
   },
   "outputs": [
    {
     "name": "stderr",
     "output_type": "stream",
     "text": [
      "/Users/ongzhongliang/anaconda3/lib/python3.7/site-packages/ipykernel_launcher.py:4: SettingWithCopyWarning: \n",
      "A value is trying to be set on a copy of a slice from a DataFrame.\n",
      "Try using .loc[row_indexer,col_indexer] = value instead\n",
      "\n",
      "See the caveats in the documentation: http://pandas.pydata.org/pandas-docs/stable/user_guide/indexing.html#returning-a-view-versus-a-copy\n",
      "  after removing the cwd from sys.path.\n"
     ]
    }
   ],
   "source": [
    "# changing types\n",
    "for x in complete_full.columns:\n",
    "    if x in cat_10:\n",
    "        complete_full[x] = [str(int(y))for y in complete_full[x]]\n",
    "    else:\n",
    "        pass"
   ]
  },
  {
   "cell_type": "code",
   "execution_count": 74,
   "metadata": {
    "ExecuteTime": {
     "end_time": "2020-01-21T13:33:12.376166Z",
     "start_time": "2020-01-21T13:33:12.337953Z"
    },
    "scrolled": true
   },
   "outputs": [
    {
     "data": {
      "text/html": [
       "<div>\n",
       "<style scoped>\n",
       "    .dataframe tbody tr th:only-of-type {\n",
       "        vertical-align: middle;\n",
       "    }\n",
       "\n",
       "    .dataframe tbody tr th {\n",
       "        vertical-align: top;\n",
       "    }\n",
       "\n",
       "    .dataframe thead th {\n",
       "        text-align: right;\n",
       "    }\n",
       "</style>\n",
       "<table border=\"1\" class=\"dataframe\">\n",
       "  <thead>\n",
       "    <tr style=\"text-align: right;\">\n",
       "      <th></th>\n",
       "      <th>patient_id</th>\n",
       "      <th>date_of_admission</th>\n",
       "      <th>date_of_discharge</th>\n",
       "      <th>medical_history_1</th>\n",
       "      <th>medical_history_2</th>\n",
       "      <th>medical_history_3</th>\n",
       "      <th>medical_history_4</th>\n",
       "      <th>medical_history_5</th>\n",
       "      <th>medical_history_6</th>\n",
       "      <th>medical_history_7</th>\n",
       "      <th>...</th>\n",
       "      <th>lab_result_3</th>\n",
       "      <th>weight</th>\n",
       "      <th>height</th>\n",
       "      <th>hospital_stay</th>\n",
       "      <th>amount</th>\n",
       "      <th>gender</th>\n",
       "      <th>race</th>\n",
       "      <th>resident_status</th>\n",
       "      <th>date_of_birth</th>\n",
       "      <th>age</th>\n",
       "    </tr>\n",
       "  </thead>\n",
       "  <tbody>\n",
       "    <tr>\n",
       "      <td>0</td>\n",
       "      <td>1d21f2be18683991eb93d182d6b2d220</td>\n",
       "      <td>2011-01-01</td>\n",
       "      <td>2011-01-11</td>\n",
       "      <td>0</td>\n",
       "      <td>1</td>\n",
       "      <td>0</td>\n",
       "      <td>0</td>\n",
       "      <td>0</td>\n",
       "      <td>0</td>\n",
       "      <td>0</td>\n",
       "      <td>...</td>\n",
       "      <td>123.0</td>\n",
       "      <td>71.3</td>\n",
       "      <td>161.0</td>\n",
       "      <td>10</td>\n",
       "      <td>15405.418665</td>\n",
       "      <td>Male</td>\n",
       "      <td>Indian</td>\n",
       "      <td>Singaporean</td>\n",
       "      <td>1976-12-19</td>\n",
       "      <td>34.057534</td>\n",
       "    </tr>\n",
       "    <tr>\n",
       "      <td>1</td>\n",
       "      <td>62bdca0b95d97e99e1c712048fb9fd09</td>\n",
       "      <td>2011-01-01</td>\n",
       "      <td>2011-01-11</td>\n",
       "      <td>0</td>\n",
       "      <td>0</td>\n",
       "      <td>0</td>\n",
       "      <td>0</td>\n",
       "      <td>0</td>\n",
       "      <td>0</td>\n",
       "      <td>0</td>\n",
       "      <td>...</td>\n",
       "      <td>89.0</td>\n",
       "      <td>78.4</td>\n",
       "      <td>160.0</td>\n",
       "      <td>10</td>\n",
       "      <td>23303.000924</td>\n",
       "      <td>Female</td>\n",
       "      <td>Malay</td>\n",
       "      <td>Singaporean</td>\n",
       "      <td>1978-07-20</td>\n",
       "      <td>32.473973</td>\n",
       "    </tr>\n",
       "    <tr>\n",
       "      <td>2</td>\n",
       "      <td>c85cf97bc6307ded0dd4fef8bad2fa09</td>\n",
       "      <td>2011-01-02</td>\n",
       "      <td>2011-01-13</td>\n",
       "      <td>0</td>\n",
       "      <td>0</td>\n",
       "      <td>0</td>\n",
       "      <td>0</td>\n",
       "      <td>0</td>\n",
       "      <td>0</td>\n",
       "      <td>0</td>\n",
       "      <td>...</td>\n",
       "      <td>100.0</td>\n",
       "      <td>72.0</td>\n",
       "      <td>151.0</td>\n",
       "      <td>11</td>\n",
       "      <td>16813.123088</td>\n",
       "      <td>Female</td>\n",
       "      <td>Indian</td>\n",
       "      <td>Singaporean</td>\n",
       "      <td>1967-08-14</td>\n",
       "      <td>43.416438</td>\n",
       "    </tr>\n",
       "    <tr>\n",
       "      <td>3</td>\n",
       "      <td>e0397dd72caf4552c5babebd3d61736c</td>\n",
       "      <td>2011-01-02</td>\n",
       "      <td>2011-01-14</td>\n",
       "      <td>0</td>\n",
       "      <td>1</td>\n",
       "      <td>0</td>\n",
       "      <td>0</td>\n",
       "      <td>0</td>\n",
       "      <td>1</td>\n",
       "      <td>1</td>\n",
       "      <td>...</td>\n",
       "      <td>76.0</td>\n",
       "      <td>64.4</td>\n",
       "      <td>152.0</td>\n",
       "      <td>12</td>\n",
       "      <td>27994.878530</td>\n",
       "      <td>Female</td>\n",
       "      <td>Chinese</td>\n",
       "      <td>PR</td>\n",
       "      <td>1967-12-06</td>\n",
       "      <td>43.104110</td>\n",
       "    </tr>\n",
       "    <tr>\n",
       "      <td>4</td>\n",
       "      <td>94ade3cd5f66f4584902554dff170a29</td>\n",
       "      <td>2011-01-08</td>\n",
       "      <td>2011-01-16</td>\n",
       "      <td>0</td>\n",
       "      <td>0</td>\n",
       "      <td>0</td>\n",
       "      <td>0</td>\n",
       "      <td>0</td>\n",
       "      <td>1</td>\n",
       "      <td>1</td>\n",
       "      <td>...</td>\n",
       "      <td>87.0</td>\n",
       "      <td>55.6</td>\n",
       "      <td>160.0</td>\n",
       "      <td>8</td>\n",
       "      <td>10707.950907</td>\n",
       "      <td>Female</td>\n",
       "      <td>Others</td>\n",
       "      <td>PR</td>\n",
       "      <td>1982-07-18</td>\n",
       "      <td>28.495890</td>\n",
       "    </tr>\n",
       "    <tr>\n",
       "      <td>...</td>\n",
       "      <td>...</td>\n",
       "      <td>...</td>\n",
       "      <td>...</td>\n",
       "      <td>...</td>\n",
       "      <td>...</td>\n",
       "      <td>...</td>\n",
       "      <td>...</td>\n",
       "      <td>...</td>\n",
       "      <td>...</td>\n",
       "      <td>...</td>\n",
       "      <td>...</td>\n",
       "      <td>...</td>\n",
       "      <td>...</td>\n",
       "      <td>...</td>\n",
       "      <td>...</td>\n",
       "      <td>...</td>\n",
       "      <td>...</td>\n",
       "      <td>...</td>\n",
       "      <td>...</td>\n",
       "      <td>...</td>\n",
       "      <td>...</td>\n",
       "    </tr>\n",
       "    <tr>\n",
       "      <td>3393</td>\n",
       "      <td>f253e6e69fdc53f07ec682df8ed1a80e</td>\n",
       "      <td>2015-12-21</td>\n",
       "      <td>2016-01-05</td>\n",
       "      <td>0</td>\n",
       "      <td>0</td>\n",
       "      <td>0</td>\n",
       "      <td>0</td>\n",
       "      <td>0</td>\n",
       "      <td>0</td>\n",
       "      <td>0</td>\n",
       "      <td>...</td>\n",
       "      <td>114.0</td>\n",
       "      <td>91.7</td>\n",
       "      <td>166.0</td>\n",
       "      <td>15</td>\n",
       "      <td>22113.996629</td>\n",
       "      <td>Male</td>\n",
       "      <td>Chinese</td>\n",
       "      <td>Foreigner</td>\n",
       "      <td>1964-10-12</td>\n",
       "      <td>51.224658</td>\n",
       "    </tr>\n",
       "    <tr>\n",
       "      <td>3394</td>\n",
       "      <td>3f052a68d7c25d817a63aa1ba70f4dc2</td>\n",
       "      <td>2015-12-21</td>\n",
       "      <td>2016-01-06</td>\n",
       "      <td>0</td>\n",
       "      <td>0</td>\n",
       "      <td>0</td>\n",
       "      <td>0</td>\n",
       "      <td>0</td>\n",
       "      <td>0</td>\n",
       "      <td>0</td>\n",
       "      <td>...</td>\n",
       "      <td>106.0</td>\n",
       "      <td>84.8</td>\n",
       "      <td>162.0</td>\n",
       "      <td>16</td>\n",
       "      <td>25040.612435</td>\n",
       "      <td>Female</td>\n",
       "      <td>Chinese</td>\n",
       "      <td>Singaporean</td>\n",
       "      <td>1943-06-22</td>\n",
       "      <td>72.547945</td>\n",
       "    </tr>\n",
       "    <tr>\n",
       "      <td>3395</td>\n",
       "      <td>4368c266084e640c469a5d41b339805c</td>\n",
       "      <td>2015-12-26</td>\n",
       "      <td>2016-01-07</td>\n",
       "      <td>0</td>\n",
       "      <td>0</td>\n",
       "      <td>0</td>\n",
       "      <td>0</td>\n",
       "      <td>0</td>\n",
       "      <td>0</td>\n",
       "      <td>0</td>\n",
       "      <td>...</td>\n",
       "      <td>129.0</td>\n",
       "      <td>79.5</td>\n",
       "      <td>167.0</td>\n",
       "      <td>12</td>\n",
       "      <td>20730.378614</td>\n",
       "      <td>Female</td>\n",
       "      <td>Chinese</td>\n",
       "      <td>Singaporean</td>\n",
       "      <td>1964-01-05</td>\n",
       "      <td>52.008219</td>\n",
       "    </tr>\n",
       "    <tr>\n",
       "      <td>3396</td>\n",
       "      <td>4f67a54ab205cc9e7e2b0a4ee08e4fba</td>\n",
       "      <td>2015-12-28</td>\n",
       "      <td>2016-01-07</td>\n",
       "      <td>0</td>\n",
       "      <td>0</td>\n",
       "      <td>0</td>\n",
       "      <td>0</td>\n",
       "      <td>0</td>\n",
       "      <td>1</td>\n",
       "      <td>0</td>\n",
       "      <td>...</td>\n",
       "      <td>107.0</td>\n",
       "      <td>72.7</td>\n",
       "      <td>155.0</td>\n",
       "      <td>10</td>\n",
       "      <td>19356.767331</td>\n",
       "      <td>Female</td>\n",
       "      <td>Chinese</td>\n",
       "      <td>Singaporean</td>\n",
       "      <td>1970-08-07</td>\n",
       "      <td>45.421918</td>\n",
       "    </tr>\n",
       "    <tr>\n",
       "      <td>3397</td>\n",
       "      <td>ac52a32f8ce8c46d82df2d72052ae5a9</td>\n",
       "      <td>2015-12-28</td>\n",
       "      <td>2016-01-08</td>\n",
       "      <td>0</td>\n",
       "      <td>0</td>\n",
       "      <td>0</td>\n",
       "      <td>0</td>\n",
       "      <td>0</td>\n",
       "      <td>1</td>\n",
       "      <td>0</td>\n",
       "      <td>...</td>\n",
       "      <td>91.0</td>\n",
       "      <td>62.3</td>\n",
       "      <td>154.0</td>\n",
       "      <td>11</td>\n",
       "      <td>20141.411600</td>\n",
       "      <td>Female</td>\n",
       "      <td>Chinese</td>\n",
       "      <td>Singaporean</td>\n",
       "      <td>1979-03-06</td>\n",
       "      <td>36.838356</td>\n",
       "    </tr>\n",
       "  </tbody>\n",
       "</table>\n",
       "<p>2898 rows × 33 columns</p>\n",
       "</div>"
      ],
      "text/plain": [
       "                            patient_id date_of_admission date_of_discharge  \\\n",
       "0     1d21f2be18683991eb93d182d6b2d220        2011-01-01        2011-01-11   \n",
       "1     62bdca0b95d97e99e1c712048fb9fd09        2011-01-01        2011-01-11   \n",
       "2     c85cf97bc6307ded0dd4fef8bad2fa09        2011-01-02        2011-01-13   \n",
       "3     e0397dd72caf4552c5babebd3d61736c        2011-01-02        2011-01-14   \n",
       "4     94ade3cd5f66f4584902554dff170a29        2011-01-08        2011-01-16   \n",
       "...                                ...               ...               ...   \n",
       "3393  f253e6e69fdc53f07ec682df8ed1a80e        2015-12-21        2016-01-05   \n",
       "3394  3f052a68d7c25d817a63aa1ba70f4dc2        2015-12-21        2016-01-06   \n",
       "3395  4368c266084e640c469a5d41b339805c        2015-12-26        2016-01-07   \n",
       "3396  4f67a54ab205cc9e7e2b0a4ee08e4fba        2015-12-28        2016-01-07   \n",
       "3397  ac52a32f8ce8c46d82df2d72052ae5a9        2015-12-28        2016-01-08   \n",
       "\n",
       "     medical_history_1 medical_history_2 medical_history_3 medical_history_4  \\\n",
       "0                    0                 1                 0                 0   \n",
       "1                    0                 0                 0                 0   \n",
       "2                    0                 0                 0                 0   \n",
       "3                    0                 1                 0                 0   \n",
       "4                    0                 0                 0                 0   \n",
       "...                ...               ...               ...               ...   \n",
       "3393                 0                 0                 0                 0   \n",
       "3394                 0                 0                 0                 0   \n",
       "3395                 0                 0                 0                 0   \n",
       "3396                 0                 0                 0                 0   \n",
       "3397                 0                 0                 0                 0   \n",
       "\n",
       "     medical_history_5 medical_history_6 medical_history_7  ... lab_result_3  \\\n",
       "0                    0                 0                 0  ...        123.0   \n",
       "1                    0                 0                 0  ...         89.0   \n",
       "2                    0                 0                 0  ...        100.0   \n",
       "3                    0                 1                 1  ...         76.0   \n",
       "4                    0                 1                 1  ...         87.0   \n",
       "...                ...               ...               ...  ...          ...   \n",
       "3393                 0                 0                 0  ...        114.0   \n",
       "3394                 0                 0                 0  ...        106.0   \n",
       "3395                 0                 0                 0  ...        129.0   \n",
       "3396                 0                 1                 0  ...        107.0   \n",
       "3397                 0                 1                 0  ...         91.0   \n",
       "\n",
       "     weight height hospital_stay        amount  gender     race  \\\n",
       "0      71.3  161.0            10  15405.418665    Male   Indian   \n",
       "1      78.4  160.0            10  23303.000924  Female    Malay   \n",
       "2      72.0  151.0            11  16813.123088  Female   Indian   \n",
       "3      64.4  152.0            12  27994.878530  Female  Chinese   \n",
       "4      55.6  160.0             8  10707.950907  Female   Others   \n",
       "...     ...    ...           ...           ...     ...      ...   \n",
       "3393   91.7  166.0            15  22113.996629    Male  Chinese   \n",
       "3394   84.8  162.0            16  25040.612435  Female  Chinese   \n",
       "3395   79.5  167.0            12  20730.378614  Female  Chinese   \n",
       "3396   72.7  155.0            10  19356.767331  Female  Chinese   \n",
       "3397   62.3  154.0            11  20141.411600  Female  Chinese   \n",
       "\n",
       "     resident_status date_of_birth        age  \n",
       "0        Singaporean    1976-12-19  34.057534  \n",
       "1        Singaporean    1978-07-20  32.473973  \n",
       "2        Singaporean    1967-08-14  43.416438  \n",
       "3                 PR    1967-12-06  43.104110  \n",
       "4                 PR    1982-07-18  28.495890  \n",
       "...              ...           ...        ...  \n",
       "3393       Foreigner    1964-10-12  51.224658  \n",
       "3394     Singaporean    1943-06-22  72.547945  \n",
       "3395     Singaporean    1964-01-05  52.008219  \n",
       "3396     Singaporean    1970-08-07  45.421918  \n",
       "3397     Singaporean    1979-03-06  36.838356  \n",
       "\n",
       "[2898 rows x 33 columns]"
      ]
     },
     "execution_count": 74,
     "metadata": {},
     "output_type": "execute_result"
    }
   ],
   "source": [
    "complete_full"
   ]
  },
  {
   "cell_type": "code",
   "execution_count": 75,
   "metadata": {
    "ExecuteTime": {
     "end_time": "2020-01-21T13:33:17.479639Z",
     "start_time": "2020-01-21T13:33:12.377537Z"
    },
    "scrolled": false
   },
   "outputs": [
    {
     "name": "stdout",
     "output_type": "stream",
     "text": [
      "0 0\n",
      "0 1\n",
      "1 0\n",
      "1 1\n",
      "2 0\n",
      "2 1\n",
      "3 0\n",
      "3 1\n",
      "4 0\n",
      "4 1\n",
      "5 0\n",
      "5 1\n",
      "6 0\n",
      "6 1\n",
      "7 0\n",
      "7 1\n",
      "8 0\n",
      "8 1\n",
      "9 0\n",
      "9 1\n",
      "10 0\n"
     ]
    },
    {
     "data": {
      "image/png": "[encoded data removed]",
      "text/plain": [
       "<Figure size 1440x5760 with 22 Axes>"
      ]
     },
     "metadata": {
      "needs_background": "light"
     },
     "output_type": "display_data"
    }
   ],
   "source": [
    "# visualising the categorical variables\n",
    "nrows = int(math.ceil((len(cat))//2))\n",
    "ncols = 2\n",
    "fig, ax = plt.subplots((nrows+1), ncols, figsize = (20,80))\n",
    "for i in range(len(cat)):\n",
    "    row = i//2\n",
    "    col = i% 2\n",
    "    print(row, col)\n",
    "    plottable = cat[i]\n",
    "    sns.barplot(x = plottable,\n",
    "                y = 'amount',\n",
    "                ax = ax[row, col],\n",
    "                data = complete_full)"
   ]
  },
  {
   "cell_type": "markdown",
   "metadata": {},
   "source": [
    "The categorical variables show that there is difference of cost between having medical_history_1, 5 or 6, while having any of the symptoms tend to have a higher cost. Being female also led to lower medical costs, while Chinese patients tended to have lowest cost, while Malay patients tended to have highest cost visually. In addition, foreign patients tended to have highest cost, while Singaporean had lowest cost."
   ]
  },
  {
   "cell_type": "markdown",
   "metadata": {},
   "source": [
    "##  EDA\n",
    "### Correlation test"
   ]
  },
  {
   "cell_type": "code",
   "execution_count": 76,
   "metadata": {
    "ExecuteTime": {
     "end_time": "2020-01-21T13:33:17.929550Z",
     "start_time": "2020-01-21T13:33:17.481625Z"
    }
   },
   "outputs": [
    {
     "data": {
      "text/plain": [
       "(8, 0)"
      ]
     },
     "execution_count": 76,
     "metadata": {},
     "output_type": "execute_result"
    },
    {
     "data": {
      "image/png": "[encoded data removed]",
      "text/plain": [
       "<Figure size 720x720 with 2 Axes>"
      ]
     },
     "metadata": {
      "needs_background": "light"
     },
     "output_type": "display_data"
    }
   ],
   "source": [
    "plt.figure(figsize = (10,10))\n",
    "ax = sns.heatmap(complete_full[cont].corr()[['amount']].sort_values(by='amount', ascending= False), annot = True, annot_kws = {'size': 15})\n",
    "ax.set_ylim(8,0)"
   ]
  },
  {
   "cell_type": "markdown",
   "metadata": {},
   "source": [
    "Correlation test showed that the patient's weight, height, hospital stay and lab results have low correlation to the cost of stay in the hospital, while age was the highest correlation.\n",
    "\n",
    "### t-tests for continuous variables"
   ]
  },
  {
   "cell_type": "code",
   "execution_count": 77,
   "metadata": {
    "ExecuteTime": {
     "end_time": "2020-01-21T13:33:18.011955Z",
     "start_time": "2020-01-21T13:33:17.931626Z"
    }
   },
   "outputs": [
    {
     "data": {
      "text/plain": [
       "{'medical_history_1': {'0': 20855.27218451576,\n",
       "  '1': 27214.710499195717,\n",
       "  'statistic': -12.858022957114743,\n",
       "  'P': 7.742321567167567e-37},\n",
       " 'medical_history_2': {'1': 22520.49588729034,\n",
       "  '0': 21678.646823465908,\n",
       "  'statistic': 2.0458809884490563,\n",
       "  'P': 0.04085822879999967},\n",
       " 'medical_history_3': {'0': 21892.840863304657,\n",
       "  '1': 22279.189635329076,\n",
       "  'statistic': -0.6938292849473524,\n",
       "  'P': 0.48784492216570197},\n",
       " 'medical_history_4': {'0': 21951.04447584158,\n",
       "  '1': 21856.69474251088,\n",
       "  'statistic': 0.1117560118620149,\n",
       "  'P': 0.9110246112354949},\n",
       " 'medical_history_5': {'0': 21835.499601295465,\n",
       "  '1': 23537.317625595417,\n",
       "  'statistic': -2.1885728165731164,\n",
       "  'P': 0.028707512021147893},\n",
       " 'medical_history_6': {'0': 21100.934705740943,\n",
       "  '1': 24396.642452558495,\n",
       "  'statistic': -7.581584205917019,\n",
       "  'P': 4.567760142248739e-14},\n",
       " 'medical_history_7': {'0': 21789.289948930524,\n",
       "  '1': 22405.943972194113,\n",
       "  'statistic': -1.4008152585580729,\n",
       "  'P': 0.16137646378934312},\n",
       " 'preop_medication_1': {'1': 22235.679018074054,\n",
       "  '0': 21655.72172438903,\n",
       "  'statistic': 1.513426828088492,\n",
       "  'P': 0.13028039446034917},\n",
       " 'preop_medication_2': {'0': 21542.364019090724,\n",
       "  '1': 22229.063200416505,\n",
       "  'statistic': -1.7644793695684713,\n",
       "  'P': 0.07775670568934401},\n",
       " 'preop_medication_3': {'1': 21966.622001367166,\n",
       "  '0': 21850.46933823489,\n",
       "  'statistic': 0.2319976754275087,\n",
       "  'P': 0.8165562110610509},\n",
       " 'preop_medication_4': {'0': 21694.180648221776,\n",
       "  '1': 22176.006351376323,\n",
       "  'statistic': -1.2559277138482277,\n",
       "  'P': 0.2092434917718945},\n",
       " 'preop_medication_5': {'0': 22209.274403558662,\n",
       "  '1': 21889.518396692158,\n",
       "  'statistic': 0.6357862560263109,\n",
       "  'P': 0.5249659840876839},\n",
       " 'preop_medication_6': {'1': 22052.218656812416,\n",
       "  '0': 21628.40843078796,\n",
       "  'statistic': 0.958656241875986,\n",
       "  'P': 0.3378119742390233},\n",
       " 'symptom_1': {'0': 20293.91370316517,\n",
       "  '1': 22975.962846778657,\n",
       "  'statistic': -6.860562089790837,\n",
       "  'P': 8.354030854799072e-12},\n",
       " 'symptom_2': {'0': 19801.5803777278,\n",
       "  '1': 23041.538510401162,\n",
       "  'statistic': -8.086314092840988,\n",
       "  'P': 8.94535394293132e-16},\n",
       " 'symptom_3': {'0': 19823.478852448967,\n",
       "  '1': 23679.765948828648,\n",
       "  'statistic': -10.185690993486917,\n",
       "  'P': 5.793832164570679e-24},\n",
       " 'symptom_4': {'1': 22803.611463234916,\n",
       "  '0': 19677.01223388632,\n",
       "  'statistic': 7.345293748386579,\n",
       "  'P': 2.655697899441085e-13},\n",
       " 'symptom_5': {'1': 26927.604041452858,\n",
       "  '0': 16366.538292361689,\n",
       "  'statistic': 31.999883524260067,\n",
       "  'P': 1.1731588792451477e-192}}"
      ]
     },
     "execution_count": 77,
     "metadata": {},
     "output_type": "execute_result"
    }
   ],
   "source": [
    "cat_result_dict = {}\n",
    "significant = []\n",
    "for x in cat_10:\n",
    "    \n",
    "    #Selecting categories\n",
    "    cat1 = complete_full[complete_full[x]==(complete_full[x].unique()[0])]['amount']\n",
    "    cat2 = complete_full[complete_full[x]==(complete_full[x].unique()[1])]['amount']\n",
    "    \n",
    "    #t-test\n",
    "    t, p = stats.ttest_ind(cat1, cat2)\n",
    "    \n",
    "    #result logging\n",
    "    cat_result_dict[x] = {complete_full[x].unique()[0]:cat1.mean(),\n",
    "                          complete_full[x].unique()[1]:cat2.mean(),\n",
    "                          'statistic': t, 'P': p}\n",
    "    if p <=0.05:\n",
    "        significant.append(x)\n",
    "\n",
    "cat_result_dict"
   ]
  },
  {
   "cell_type": "markdown",
   "metadata": {},
   "source": [
    "### ANOVA test for categorical distribution"
   ]
  },
  {
   "cell_type": "code",
   "execution_count": 78,
   "metadata": {
    "ExecuteTime": {
     "end_time": "2020-01-21T13:33:18.022095Z",
     "start_time": "2020-01-21T13:33:18.014765Z"
    }
   },
   "outputs": [],
   "source": [
    "## defining a function to perform ANOVA through the list \n",
    "def ANOVA_list(searchlist, dataframe, resultdict):\n",
    "    a = {}\n",
    "    for var in searchlist:\n",
    "        var_unique_list = []\n",
    "        count = 0\n",
    "        resultdict[var] = {}\n",
    "        for i in range(len(dataframe[var].unique())):\n",
    "            count += 1 \n",
    "            if pd.isnull(dataframe[var].unique()[i]) == True:\n",
    "                next\n",
    "            else:\n",
    "                var_unique_list.append(dataframe[var].unique()[i])\n",
    "                dataframe[var].unique()[i] = dataframe[dataframe[var]==\\\n",
    "                        (dataframe[var].unique()[i])]['amount']\n",
    "        for cat in var_unique_list:\n",
    "            if pd.isnull(cat) == True:\n",
    "                next\n",
    "            else:\n",
    "                resultdict[var][str(cat)] = \\\n",
    "                dataframe['amount'][dataframe[var]\\\n",
    "                                       == cat].mean()\n",
    "        f, p = stats.f_oneway(*(dataframe['amount'][dataframe[var]\\\n",
    "                                    == cat] for cat in var_unique_list))\n",
    "        resultdict[var]['statistic'] = f\n",
    "        resultdict[var]['P'] = p \n",
    "        if p <= 0.05:\n",
    "            significant.append(var)\n",
    "    return resultdict"
   ]
  },
  {
   "cell_type": "code",
   "execution_count": 79,
   "metadata": {
    "ExecuteTime": {
     "end_time": "2020-01-21T13:33:18.026633Z",
     "start_time": "2020-01-21T13:33:18.024351Z"
    }
   },
   "outputs": [],
   "source": [
    "cat_more = ['race', 'resident_status']"
   ]
  },
  {
   "cell_type": "code",
   "execution_count": 80,
   "metadata": {
    "ExecuteTime": {
     "end_time": "2020-01-21T13:33:18.058828Z",
     "start_time": "2020-01-21T13:33:18.028689Z"
    }
   },
   "outputs": [
    {
     "data": {
      "text/plain": [
       "{'medical_history_1': {'0': 20855.27218451576,\n",
       "  '1': 27214.710499195717,\n",
       "  'statistic': -12.858022957114743,\n",
       "  'P': 7.742321567167567e-37},\n",
       " 'medical_history_2': {'1': 22520.49588729034,\n",
       "  '0': 21678.646823465908,\n",
       "  'statistic': 2.0458809884490563,\n",
       "  'P': 0.04085822879999967},\n",
       " 'medical_history_3': {'0': 21892.840863304657,\n",
       "  '1': 22279.189635329076,\n",
       "  'statistic': -0.6938292849473524,\n",
       "  'P': 0.48784492216570197},\n",
       " 'medical_history_4': {'0': 21951.04447584158,\n",
       "  '1': 21856.69474251088,\n",
       "  'statistic': 0.1117560118620149,\n",
       "  'P': 0.9110246112354949},\n",
       " 'medical_history_5': {'0': 21835.499601295465,\n",
       "  '1': 23537.317625595417,\n",
       "  'statistic': -2.1885728165731164,\n",
       "  'P': 0.028707512021147893},\n",
       " 'medical_history_6': {'0': 21100.934705740943,\n",
       "  '1': 24396.642452558495,\n",
       "  'statistic': -7.581584205917019,\n",
       "  'P': 4.567760142248739e-14},\n",
       " 'medical_history_7': {'0': 21789.289948930524,\n",
       "  '1': 22405.943972194113,\n",
       "  'statistic': -1.4008152585580729,\n",
       "  'P': 0.16137646378934312},\n",
       " 'preop_medication_1': {'1': 22235.679018074054,\n",
       "  '0': 21655.72172438903,\n",
       "  'statistic': 1.513426828088492,\n",
       "  'P': 0.13028039446034917},\n",
       " 'preop_medication_2': {'0': 21542.364019090724,\n",
       "  '1': 22229.063200416505,\n",
       "  'statistic': -1.7644793695684713,\n",
       "  'P': 0.07775670568934401},\n",
       " 'preop_medication_3': {'1': 21966.622001367166,\n",
       "  '0': 21850.46933823489,\n",
       "  'statistic': 0.2319976754275087,\n",
       "  'P': 0.8165562110610509},\n",
       " 'preop_medication_4': {'0': 21694.180648221776,\n",
       "  '1': 22176.006351376323,\n",
       "  'statistic': -1.2559277138482277,\n",
       "  'P': 0.2092434917718945},\n",
       " 'preop_medication_5': {'0': 22209.274403558662,\n",
       "  '1': 21889.518396692158,\n",
       "  'statistic': 0.6357862560263109,\n",
       "  'P': 0.5249659840876839},\n",
       " 'preop_medication_6': {'1': 22052.218656812416,\n",
       "  '0': 21628.40843078796,\n",
       "  'statistic': 0.958656241875986,\n",
       "  'P': 0.3378119742390233},\n",
       " 'symptom_1': {'0': 20293.91370316517,\n",
       "  '1': 22975.962846778657,\n",
       "  'statistic': -6.860562089790837,\n",
       "  'P': 8.354030854799072e-12},\n",
       " 'symptom_2': {'0': 19801.5803777278,\n",
       "  '1': 23041.538510401162,\n",
       "  'statistic': -8.086314092840988,\n",
       "  'P': 8.94535394293132e-16},\n",
       " 'symptom_3': {'0': 19823.478852448967,\n",
       "  '1': 23679.765948828648,\n",
       "  'statistic': -10.185690993486917,\n",
       "  'P': 5.793832164570679e-24},\n",
       " 'symptom_4': {'1': 22803.611463234916,\n",
       "  '0': 19677.01223388632,\n",
       "  'statistic': 7.345293748386579,\n",
       "  'P': 2.655697899441085e-13},\n",
       " 'symptom_5': {'1': 26927.604041452858,\n",
       "  '0': 16366.538292361689,\n",
       "  'statistic': 31.999883524260067,\n",
       "  'P': 1.1731588792451477e-192},\n",
       " 'race': {'Indian': 23894.31250871848,\n",
       "  'Malay': 29920.94847971514,\n",
       "  'Chinese': 19108.402564180316,\n",
       "  'Others': 21410.556637510756,\n",
       "  'statistic': 205.40798706143173,\n",
       "  'P': 8.801986572353922e-121},\n",
       " 'resident_status': {'Singaporean': 20184.590489942162,\n",
       "  'PR': 24869.93734017103,\n",
       "  'Foreigner': 42063.55458355367,\n",
       "  'statistic': 400.58463209436263,\n",
       "  'P': 2.603139953876299e-154}}"
      ]
     },
     "execution_count": 80,
     "metadata": {},
     "output_type": "execute_result"
    }
   ],
   "source": [
    "ANOVA_list(cat_more, complete_full, cat_result_dict)"
   ]
  },
  {
   "cell_type": "markdown",
   "metadata": {
    "ExecuteTime": {
     "end_time": "2020-01-21T12:33:43.581347Z",
     "start_time": "2020-01-21T12:33:43.577620Z"
    }
   },
   "source": [
    "`medical_history_1`, `medical_history_2`, `medical_history_5`, `medical_history_6`, `symptom_1`, `symptom_2`, `symptom_3`, `symptom_4`, `symptom_5`, `gender`, `race`, `resident_status` all showed significant difference in mean cost between categories. "
   ]
  },
  {
   "cell_type": "markdown",
   "metadata": {
    "ExecuteTime": {
     "end_time": "2020-01-21T12:12:53.772492Z",
     "start_time": "2020-01-21T12:12:53.770063Z"
    }
   },
   "source": [
    "## Modelling\n",
    "### Creating dummies"
   ]
  },
  {
   "cell_type": "code",
   "execution_count": 81,
   "metadata": {
    "ExecuteTime": {
     "end_time": "2020-01-21T13:33:18.062465Z",
     "start_time": "2020-01-21T13:33:18.060124Z"
    }
   },
   "outputs": [],
   "source": [
    "dummy = ['medical_history_1', 'medical_history_2', 'medical_history_5', \n",
    "         'medical_history_6', 'symptom_1', 'symptom_2', 'symptom_3', \n",
    "         'symptom_4', 'symptom_5', 'gender', 'race', 'resident_status']"
   ]
  },
  {
   "cell_type": "code",
   "execution_count": 82,
   "metadata": {
    "ExecuteTime": {
     "end_time": "2020-01-21T13:33:18.080938Z",
     "start_time": "2020-01-21T13:33:18.064012Z"
    }
   },
   "outputs": [],
   "source": [
    "#creating dummies for dataset\n",
    "modeldf = pd.get_dummies(complete_full, drop_first= True, columns = dummy)"
   ]
  },
  {
   "cell_type": "code",
   "execution_count": 144,
   "metadata": {
    "ExecuteTime": {
     "end_time": "2020-01-21T14:11:00.495157Z",
     "start_time": "2020-01-21T14:11:00.491796Z"
    }
   },
   "outputs": [],
   "source": [
    "features = ['medical_history_1_1', 'medical_history_2_1', 'medical_history_5_1',\n",
    "            'medical_history_6_1', 'symptom_1_1', 'symptom_2_1', 'symptom_3_1',\n",
    "            'symptom_4_1', 'symptom_5_1', 'gender_Male', 'race_Indian',\n",
    "            'race_Malay', 'race_Others', 'resident_status_PR',\n",
    "            'resident_status_Singaporean', 'weight', 'age']"
   ]
  },
  {
   "cell_type": "markdown",
   "metadata": {},
   "source": [
    "### splitting data into train and test"
   ]
  },
  {
   "cell_type": "code",
   "execution_count": 145,
   "metadata": {
    "ExecuteTime": {
     "end_time": "2020-01-21T14:11:01.383899Z",
     "start_time": "2020-01-21T14:11:01.376173Z"
    }
   },
   "outputs": [],
   "source": [
    "X_train, X_test, y_train, y_test = train_test_split(modeldf[features],\\\n",
    "                                                    modeldf['amount'],\\\n",
    "                                                    test_size = 0.25,\\\n",
    "                                                    random_state = 42)"
   ]
  },
  {
   "cell_type": "code",
   "execution_count": 146,
   "metadata": {
    "ExecuteTime": {
     "end_time": "2020-01-21T14:11:01.894118Z",
     "start_time": "2020-01-21T14:11:01.890629Z"
    }
   },
   "outputs": [
    {
     "name": "stdout",
     "output_type": "stream",
     "text": [
      "(2173, 17) (725, 17) (2173,) (725,)\n"
     ]
    }
   ],
   "source": [
    "print(X_train.shape, X_test.shape, y_train.shape, y_test.shape)"
   ]
  },
  {
   "cell_type": "markdown",
   "metadata": {},
   "source": [
    "### Scaling the data"
   ]
  },
  {
   "cell_type": "code",
   "execution_count": 147,
   "metadata": {
    "ExecuteTime": {
     "end_time": "2020-01-21T14:11:02.892685Z",
     "start_time": "2020-01-21T14:11:02.890514Z"
    }
   },
   "outputs": [],
   "source": [
    "#scaling data\n",
    "ss = StandardScaler()"
   ]
  },
  {
   "cell_type": "code",
   "execution_count": 148,
   "metadata": {
    "ExecuteTime": {
     "end_time": "2020-01-21T14:11:03.387763Z",
     "start_time": "2020-01-21T14:11:03.378805Z"
    }
   },
   "outputs": [
    {
     "name": "stderr",
     "output_type": "stream",
     "text": [
      "/Users/ongzhongliang/anaconda3/lib/python3.7/site-packages/sklearn/preprocessing/data.py:645: DataConversionWarning: Data with input dtype uint8, float64 were all converted to float64 by StandardScaler.\n",
      "  return self.partial_fit(X, y)\n",
      "/Users/ongzhongliang/anaconda3/lib/python3.7/site-packages/ipykernel_launcher.py:3: DataConversionWarning: Data with input dtype uint8, float64 were all converted to float64 by StandardScaler.\n",
      "  This is separate from the ipykernel package so we can avoid doing imports until\n",
      "/Users/ongzhongliang/anaconda3/lib/python3.7/site-packages/ipykernel_launcher.py:4: DataConversionWarning: Data with input dtype uint8, float64 were all converted to float64 by StandardScaler.\n",
      "  after removing the cwd from sys.path.\n"
     ]
    }
   ],
   "source": [
    "#fitting and transforming the datasets\n",
    "ss.fit(X_train)\n",
    "X_train_ss = ss.transform(X_train)\n",
    "X_test_ss = ss.transform(X_test)"
   ]
  },
  {
   "cell_type": "markdown",
   "metadata": {},
   "source": [
    "### Pipeline"
   ]
  },
  {
   "cell_type": "code",
   "execution_count": 149,
   "metadata": {
    "ExecuteTime": {
     "end_time": "2020-01-21T14:11:04.268926Z",
     "start_time": "2020-01-21T14:11:04.257592Z"
    }
   },
   "outputs": [],
   "source": [
    "def pipeline(items, X_train, X_val, y_train, y_val):\n",
    "    \"\"\"\n",
    "    function to create a pipeline that determines which test and parameters\n",
    "    have the highest score\n",
    "    \n",
    "    Parameters\n",
    "    ---------\n",
    "    items: \n",
    "    X_train: training dataset containing the predicting variables\n",
    "    X_val: validation dataset\n",
    "    y_train: training dataset containing the predicted variables\n",
    "    y_val: validation dataset\n",
    "    \n",
    "    Returns\n",
    "    ------\n",
    "    train_score: R2 score of the training model\n",
    "    test_score: R2 score of the test model\n",
    "    roc_auc: Receiver Operator Curve Area under the Curve score\n",
    "     \"\"\"\n",
    "\n",
    "    # Add a pipe, add a param !\n",
    "    pipe_items = {\n",
    "        'lr': LinearRegression(),\n",
    "        'lasso': LassoCV(),\n",
    "        'ridge': RidgeCV(),\n",
    "        'elastic': ElasticNet(),\n",
    "        'rfr': RandomForestRegressor(),\n",
    "        'gb': GradientBoostingRegressor(),\n",
    "        'ada': AdaBoostRegressor()\n",
    "    }\n",
    "\n",
    "    # Include at least one param for each pipe item\n",
    "    param_items = {\n",
    "        'lr': {\n",
    "        },\n",
    "        'lasso': {\n",
    "        },\n",
    "        'ridge': {\n",
    "        },\n",
    "        'elastic': {\n",
    "        },\n",
    "        'rfr': {\n",
    "        },\n",
    "        'gb': {\n",
    "        },\n",
    "        'ada': {\n",
    "        }\n",
    "    }\n",
    "\n",
    "    # Create the parameters for GridSearch\n",
    "    params = {}\n",
    "    for i in items:\n",
    "        print(i)\n",
    "        for p in param_items[i]:\n",
    "            params[p] = param_items[i][p]\n",
    "\n",
    "    # Create the pipeline\n",
    "    pipe_list = [(i, pipe_items[i]) for i in items]\n",
    "    pipe = Pipeline(pipe_list)\n",
    "\n",
    "    # Grid search\n",
    "    gs = GridSearchCV(pipe, param_grid=params, scoring='r2', verbose=1, cv=5, n_jobs=-1)\n",
    "    gs.fit(X_train_ss, y_train)\n",
    "\n",
    "    # Print the results\n",
    "    train_params = gs.best_params_\n",
    "    train_score = gs.score(X_train_ss,y_train)\n",
    "    test_score = gs.score(X_test_ss,y_test)\n",
    "    y_test_hat = gs.predict(X_test)\n",
    "    rmse = np.sqrt(mean_squared_error(y_test, y_test_hat))\n",
    "    \n",
    "    for k in train_params:\n",
    "        print(\"{}: {}\".format(k, train_params[k]))\n",
    "        \n",
    "    print(\"Train score: {} Test score: {}\".format(train_score,test_score))\n",
    "    print(\"RMSE score: {}\".format(rmse))\n",
    "    print(\"\")\n",
    "\n",
    "    return train_score, test_score, rmse"
   ]
  },
  {
   "cell_type": "code",
   "execution_count": 150,
   "metadata": {
    "ExecuteTime": {
     "end_time": "2020-01-21T14:11:06.253437Z",
     "start_time": "2020-01-21T14:11:05.291592Z"
    }
   },
   "outputs": [
    {
     "name": "stdout",
     "output_type": "stream",
     "text": [
      "lr\n",
      "Fitting 5 folds for each of 1 candidates, totalling 5 fits\n",
      "Train score: 0.9212309087716493 Test score: 0.9267680636851011\n",
      "RMSE score: 293819.4338831213\n",
      "\n",
      "lasso\n",
      "Fitting 5 folds for each of 1 candidates, totalling 5 fits\n",
      "Train score: 0.9212234585099035 Test score: 0.9269988271339994\n",
      "RMSE score: 292924.78615383746\n",
      "\n",
      "ridge\n",
      "Fitting 5 folds for each of 1 candidates, totalling 5 fits\n"
     ]
    },
    {
     "name": "stderr",
     "output_type": "stream",
     "text": [
      "[Parallel(n_jobs=-1)]: Using backend LokyBackend with 8 concurrent workers.\n",
      "[Parallel(n_jobs=-1)]: Done   2 out of   5 | elapsed:    0.0s remaining:    0.0s\n",
      "[Parallel(n_jobs=-1)]: Done   5 out of   5 | elapsed:    0.0s finished\n",
      "[Parallel(n_jobs=-1)]: Using backend LokyBackend with 8 concurrent workers.\n",
      "[Parallel(n_jobs=-1)]: Done   2 out of   5 | elapsed:    0.1s remaining:    0.1s\n",
      "[Parallel(n_jobs=-1)]: Done   5 out of   5 | elapsed:    0.1s finished\n",
      "/Users/ongzhongliang/anaconda3/lib/python3.7/site-packages/sklearn/model_selection/_split.py:2053: FutureWarning: You should specify a value for 'cv' instead of relying on the default value. The default value will change from 3 to 5 in version 0.22.\n",
      "  warnings.warn(CV_WARNING, FutureWarning)\n",
      "[Parallel(n_jobs=-1)]: Using backend LokyBackend with 8 concurrent workers.\n",
      "[Parallel(n_jobs=-1)]: Done   2 out of   5 | elapsed:    0.0s remaining:    0.0s\n",
      "[Parallel(n_jobs=-1)]: Done   5 out of   5 | elapsed:    0.0s finished\n",
      "[Parallel(n_jobs=-1)]: Using backend LokyBackend with 8 concurrent workers.\n",
      "[Parallel(n_jobs=-1)]: Done   2 out of   5 | elapsed:    0.0s remaining:    0.0s\n",
      "[Parallel(n_jobs=-1)]: Done   5 out of   5 | elapsed:    0.0s finished\n",
      "[Parallel(n_jobs=-1)]: Using backend LokyBackend with 8 concurrent workers.\n",
      "[Parallel(n_jobs=-1)]: Done   2 out of   5 | elapsed:    0.1s remaining:    0.1s\n",
      "[Parallel(n_jobs=-1)]: Done   5 out of   5 | elapsed:    0.1s finished\n",
      "/Users/ongzhongliang/anaconda3/lib/python3.7/site-packages/sklearn/ensemble/forest.py:246: FutureWarning: The default value of n_estimators will change from 10 in version 0.20 to 100 in 0.22.\n",
      "  \"10 in version 0.20 to 100 in 0.22.\", FutureWarning)\n",
      "[Parallel(n_jobs=-1)]: Using backend LokyBackend with 8 concurrent workers.\n"
     ]
    },
    {
     "name": "stdout",
     "output_type": "stream",
     "text": [
      "Train score: 0.9212308949083168 Test score: 0.9267750803816306\n",
      "RMSE score: 293810.57494000194\n",
      "\n",
      "elastic\n",
      "Fitting 5 folds for each of 1 candidates, totalling 5 fits\n",
      "Train score: 0.7507570456201249 Test score: 0.7986883704246898\n",
      "RMSE score: 204388.06404699938\n",
      "\n",
      "rfr\n",
      "Fitting 5 folds for each of 1 candidates, totalling 5 fits\n",
      "Train score: 0.9810325568698521 Test score: 0.8932997978097781\n",
      "RMSE score: 17646.071291833512\n",
      "\n",
      "gb\n",
      "Fitting 5 folds for each of 1 candidates, totalling 5 fits\n"
     ]
    },
    {
     "name": "stderr",
     "output_type": "stream",
     "text": [
      "[Parallel(n_jobs=-1)]: Done   2 out of   5 | elapsed:    0.1s remaining:    0.2s\n",
      "[Parallel(n_jobs=-1)]: Done   5 out of   5 | elapsed:    0.1s finished\n",
      "[Parallel(n_jobs=-1)]: Using backend LokyBackend with 8 concurrent workers.\n"
     ]
    },
    {
     "name": "stdout",
     "output_type": "stream",
     "text": [
      "Train score: 0.9695373529046495 Test score: 0.957546084902768\n",
      "RMSE score: 17988.44377554229\n",
      "\n",
      "ada\n",
      "Fitting 5 folds for each of 1 candidates, totalling 5 fits\n",
      "Train score: 0.5323909854044209 Test score: 0.3875608029961146\n",
      "RMSE score: 18640.95170484101\n",
      "\n"
     ]
    },
    {
     "name": "stderr",
     "output_type": "stream",
     "text": [
      "[Parallel(n_jobs=-1)]: Done   2 out of   5 | elapsed:    0.1s remaining:    0.2s\n",
      "[Parallel(n_jobs=-1)]: Done   5 out of   5 | elapsed:    0.2s finished\n"
     ]
    }
   ],
   "source": [
    "models = ['lr','lasso', 'ridge','elastic','rfr', 'gb', 'ada']\n",
    "\n",
    "idx = 0\n",
    "model_solns = {}\n",
    "for m in models:\n",
    "    idx += 1\n",
    "    items = [m]\n",
    "    [train_score, test_score, rmse] = pipeline(items, X_train_ss, X_test_ss, y_train, y_test)\n",
    "    \n",
    "    model_solns[idx] = {'model': m, \n",
    "                        'train_score': train_score, \n",
    "                        'test_score': test_score, \n",
    "                        'rmse': rmse\n",
    "                        }"
   ]
  },
  {
   "cell_type": "code",
   "execution_count": 155,
   "metadata": {
    "ExecuteTime": {
     "end_time": "2020-01-21T14:20:06.905640Z",
     "start_time": "2020-01-21T14:20:06.900932Z"
    }
   },
   "outputs": [
    {
     "data": {
      "text/plain": [
       "{1: {'model': 'lr',\n",
       "  'train_score': 0.9212309087716493,\n",
       "  'test_score': 0.9267680636851011,\n",
       "  'rmse': 293819.4338831213},\n",
       " 2: {'model': 'lasso',\n",
       "  'train_score': 0.9212234585099035,\n",
       "  'test_score': 0.9269988271339994,\n",
       "  'rmse': 292924.78615383746},\n",
       " 3: {'model': 'ridge',\n",
       "  'train_score': 0.9212308949083168,\n",
       "  'test_score': 0.9267750803816306,\n",
       "  'rmse': 293810.57494000194},\n",
       " 4: {'model': 'elastic',\n",
       "  'train_score': 0.7507570456201249,\n",
       "  'test_score': 0.7986883704246898,\n",
       "  'rmse': 204388.06404699938},\n",
       " 5: {'model': 'rfr',\n",
       "  'train_score': 0.9810325568698521,\n",
       "  'test_score': 0.8932997978097781,\n",
       "  'rmse': 17646.071291833512},\n",
       " 6: {'model': 'gb',\n",
       "  'train_score': 0.9695373529046495,\n",
       "  'test_score': 0.957546084902768,\n",
       "  'rmse': 17988.44377554229},\n",
       " 7: {'model': 'ada',\n",
       "  'train_score': 0.5323909854044209,\n",
       "  'test_score': 0.3875608029961146,\n",
       "  'rmse': 18640.95170484101}}"
      ]
     },
     "execution_count": 155,
     "metadata": {},
     "output_type": "execute_result"
    }
   ],
   "source": [
    "model_solns"
   ]
  },
  {
   "cell_type": "code",
   "execution_count": 151,
   "metadata": {
    "ExecuteTime": {
     "end_time": "2020-01-21T14:17:30.088925Z",
     "start_time": "2020-01-21T14:17:30.086298Z"
    }
   },
   "outputs": [],
   "source": [
    "gb= GradientBoostingRegressor()"
   ]
  },
  {
   "cell_type": "code",
   "execution_count": 156,
   "metadata": {
    "ExecuteTime": {
     "end_time": "2020-01-21T14:20:52.520052Z",
     "start_time": "2020-01-21T14:20:52.366861Z"
    }
   },
   "outputs": [
    {
     "data": {
      "text/plain": [
       "0.957546084902768"
      ]
     },
     "execution_count": 156,
     "metadata": {},
     "output_type": "execute_result"
    }
   ],
   "source": [
    "model = gb.fit(X_train_ss, y_train)\n",
    "model.score(X_train_ss,y_train)\n",
    "model.score(X_test_ss,y_test)"
   ]
  },
  {
   "cell_type": "code",
   "execution_count": 158,
   "metadata": {
    "ExecuteTime": {
     "end_time": "2020-01-21T14:22:03.997735Z",
     "start_time": "2020-01-21T14:22:03.992591Z"
    }
   },
   "outputs": [],
   "source": [
    "#finding the predicted values\n",
    "pred = model.predict(X_test_ss)\n",
    "residual = y_test - pred"
   ]
  },
  {
   "cell_type": "code",
   "execution_count": 159,
   "metadata": {
    "ExecuteTime": {
     "end_time": "2020-01-21T14:22:23.222880Z",
     "start_time": "2020-01-21T14:22:22.666440Z"
    }
   },
   "outputs": [
    {
     "data": {
      "text/plain": [
       "<matplotlib.axes._subplots.AxesSubplot at 0x1a1a23ce48>"
      ]
     },
     "execution_count": 159,
     "metadata": {},
     "output_type": "execute_result"
    },
    {
     "data": {
      "image/png": "[encoded data removed]",
      "text/plain": [
       "<Figure size 1080x504 with 1 Axes>"
      ]
     },
     "metadata": {
      "needs_background": "light"
     },
     "output_type": "display_data"
    }
   ],
   "source": [
    "pd.Series(model.feature_importances_, index = features).sort_values(ascending = True).plot.bar(figsize=(15,7))"
   ]
  },
  {
   "cell_type": "code",
   "execution_count": 160,
   "metadata": {
    "ExecuteTime": {
     "end_time": "2020-01-21T14:24:01.506214Z",
     "start_time": "2020-01-21T14:24:01.110854Z"
    }
   },
   "outputs": [
    {
     "name": "stderr",
     "output_type": "stream",
     "text": [
      "No handles with labels found to put in legend.\n"
     ]
    },
    {
     "data": {
      "text/plain": [
       "<matplotlib.legend.Legend at 0x1a19bf2d68>"
      ]
     },
     "execution_count": 160,
     "metadata": {},
     "output_type": "execute_result"
    },
    {
     "data": {
      "image/png": "[encoded data removed]",
      "text/plain": [
       "<Figure size 720x720 with 1 Axes>"
      ]
     },
     "metadata": {
      "needs_background": "light"
     },
     "output_type": "display_data"
    }
   ],
   "source": [
    "## plotting the fit of the predicted vs the actual amount\n",
    "plt.figure(figsize = (10,10))\n",
    "sns.regplot(pred, y_test)\n",
    "ax.plot()\n",
    "ax.set_title('Scatterplot of Predicted Cost vs Actual Cost', size = 20)\n",
    "ax.set_ylabel('Actual Cost', size = 16)\n",
    "ax.set_xlabel('Predicted Cost', size = 16)\n",
    "plt.yticks(size = 15)\n",
    "plt.xticks(size = 15)\n",
    "plt.legend()"
   ]
  },
  {
   "cell_type": "code",
   "execution_count": 161,
   "metadata": {
    "ExecuteTime": {
     "end_time": "2020-01-21T14:24:47.409147Z",
     "start_time": "2020-01-21T14:24:47.145402Z"
    }
   },
   "outputs": [
    {
     "data": {
      "text/plain": [
       "(array([-10000.,      0.,  10000.,  20000.,  30000.,  40000.,  50000.,\n",
       "         60000.,  70000.]), <a list of 9 Text xticklabel objects>)"
      ]
     },
     "execution_count": 161,
     "metadata": {},
     "output_type": "execute_result"
    },
    {
     "data": {
      "image/png": "[encoded data removed]",
      "text/plain": [
       "<Figure size 648x648 with 1 Axes>"
      ]
     },
     "metadata": {
      "needs_background": "light"
     },
     "output_type": "display_data"
    }
   ],
   "source": [
    "#plotting residuals\n",
    "plt.figure(figsize = (9,9))\n",
    "plt.scatter(pred, residual)\n",
    "plt.title('Gradient Boosted Regression chart of residuals vs predicted y', size = 20)\n",
    "plt.yticks( size = 15)\n",
    "plt.xticks(size = 15)"
   ]
  },
  {
   "cell_type": "code",
   "execution_count": null,
   "metadata": {},
   "outputs": [],
   "source": []
  }
 ],
 "metadata": {
  "hide_input": false,
  "kernelspec": {
   "display_name": "Python 3",
   "language": "python",
   "name": "python3"
  },
  "language_info": {
   "codemirror_mode": {
    "name": "ipython",
    "version": 3
   },
   "file_extension": ".py",
   "mimetype": "text/x-python",
   "name": "python",
   "nbconvert_exporter": "python",
   "pygments_lexer": "ipython3",
   "version": "3.7.3"
  },
  "toc": {
   "base_numbering": 1,
   "nav_menu": {},
   "number_sections": true,
   "sideBar": true,
   "skip_h1_title": false,
   "title_cell": "Table of Contents",
   "title_sidebar": "Contents",
   "toc_cell": false,
   "toc_position": {
    "height": "calc(100% - 180px)",
    "left": "10px",
    "top": "150px",
    "width": "338.8235168457031px"
   },
   "toc_section_display": true,
   "toc_window_display": true
  }
 },
 "nbformat": 4,
 "nbformat_minor": 2
}
